{
 "cells": [
  {
   "cell_type": "code",
   "execution_count": 1,
   "metadata": {},
   "outputs": [
    {
     "data": {
      "text/plain": [
       "[{'address_name': '부산 기장군 기장읍 시랑리 704-1',\n",
       "  'category_group_code': 'AD5',\n",
       "  'category_group_name': '숙박',\n",
       "  'category_name': '여행 > 숙박 > 호텔 > 특급호텔 > 힐튼호텔',\n",
       "  'distance': '',\n",
       "  'id': '27224037',\n",
       "  'phone': '051-509-1111',\n",
       "  'place_name': '힐튼호텔 부산',\n",
       "  'place_url': 'http://place.map.kakao.com/27224037',\n",
       "  'road_address_name': '부산 기장군 기장읍 기장해안로 268-32',\n",
       "  'x': '129.228313590864',\n",
       "  'y': '35.1978227169791'},\n",
       " {'address_name': '부산 기장군 기장읍 시랑리 704-1',\n",
       "  'category_group_code': 'FD6',\n",
       "  'category_group_name': '음식점',\n",
       "  'category_name': '음식점 > 중식 > 중화요리',\n",
       "  'distance': '',\n",
       "  'id': '1352582328',\n",
       "  'phone': '051-604-7294',\n",
       "  'place_name': '목란',\n",
       "  'place_url': 'http://place.map.kakao.com/1352582328',\n",
       "  'road_address_name': '부산 기장군 기장읍 기장해안로 268-32',\n",
       "  'x': '129.22821300732156',\n",
       "  'y': '35.19771733501583'},\n",
       " {'address_name': '부산 기장군 기장읍 시랑리 704-1',\n",
       "  'category_group_code': 'CE7',\n",
       "  'category_group_name': '카페',\n",
       "  'category_name': '음식점 > 카페 > 테마카페 > 북카페',\n",
       "  'distance': '',\n",
       "  'id': '1732390417',\n",
       "  'phone': '051-604-7222',\n",
       "  'place_name': '이터널저니',\n",
       "  'place_url': 'http://place.map.kakao.com/1732390417',\n",
       "  'road_address_name': '부산 기장군 기장읍 기장해안로 268-32',\n",
       "  'x': '129.22783497266',\n",
       "  'y': '35.1973413163059'},\n",
       " {'address_name': '부산 기장군 기장읍 시랑리 704-1',\n",
       "  'category_group_code': 'CS2',\n",
       "  'category_group_name': '편의점',\n",
       "  'category_name': '가정,생활 > 편의점 > CU',\n",
       "  'distance': '',\n",
       "  'id': '1846156067',\n",
       "  'phone': '051-604-7259',\n",
       "  'place_name': 'CU 아난티힐튼부산점',\n",
       "  'place_url': 'http://place.map.kakao.com/1846156067',\n",
       "  'road_address_name': '부산 기장군 기장읍 기장해안로 268-32',\n",
       "  'x': '129.22865811779045',\n",
       "  'y': '35.19825792408905'},\n",
       " {'address_name': '부산 기장군 기장읍 시랑리 704-1',\n",
       "  'category_group_code': 'FD6',\n",
       "  'category_group_name': '음식점',\n",
       "  'category_name': '음식점 > 뷔페',\n",
       "  'distance': '',\n",
       "  'id': '1861260718',\n",
       "  'phone': '051-509-1361',\n",
       "  'place_name': '힐튼 부산 다모임',\n",
       "  'place_url': 'http://place.map.kakao.com/1861260718',\n",
       "  'road_address_name': '부산 기장군 기장읍 기장해안로 268-32',\n",
       "  'x': '129.228263285399',\n",
       "  'y': '35.1979101509574'},\n",
       " {'address_name': '부산 기장군 기장읍 시랑리 704-1',\n",
       "  'category_group_code': '',\n",
       "  'category_group_name': '',\n",
       "  'category_name': '교통,수송 > 자동차 > 전기자동차 충전소',\n",
       "  'distance': '',\n",
       "  'id': '1773779286',\n",
       "  'phone': '02-1833-8017',\n",
       "  'place_name': '힐튼부산&아난티코브 전기차충전소',\n",
       "  'place_url': 'http://place.map.kakao.com/1773779286',\n",
       "  'road_address_name': '부산 기장군 기장읍 기장해안로 268-32',\n",
       "  'x': '129.228539382505',\n",
       "  'y': '35.1982114496704'},\n",
       " {'address_name': '부산 기장군 기장읍 시랑리 704-1',\n",
       "  'category_group_code': 'CE7',\n",
       "  'category_group_name': '카페',\n",
       "  'category_name': '음식점 > 카페',\n",
       "  'distance': '',\n",
       "  'id': '1842112027',\n",
       "  'phone': '',\n",
       "  'place_name': '산에우스타키오일카페',\n",
       "  'place_url': 'http://place.map.kakao.com/1842112027',\n",
       "  'road_address_name': '부산 기장군 기장읍 기장해안로 268-32',\n",
       "  'x': '129.228291941203',\n",
       "  'y': '35.1978339290349'},\n",
       " {'address_name': '부산 기장군 기장읍 시랑리 704-1',\n",
       "  'category_group_code': 'CE7',\n",
       "  'category_group_name': '카페',\n",
       "  'category_name': '음식점 > 카페',\n",
       "  'distance': '',\n",
       "  'id': '1830748349',\n",
       "  'phone': '051-509-1371',\n",
       "  'place_name': '힐튼부산 맥퀸즈라운지',\n",
       "  'place_url': 'http://place.map.kakao.com/1830748349',\n",
       "  'road_address_name': '부산 기장군 기장읍 기장해안로 268-32',\n",
       "  'x': '129.228237698297',\n",
       "  'y': '35.1977772557389'},\n",
       " {'address_name': '부산 기장군 기장읍 시랑리 704-1',\n",
       "  'category_group_code': 'FD6',\n",
       "  'category_group_name': '음식점',\n",
       "  'category_name': '음식점 > 술집 > 칵테일바',\n",
       "  'distance': '',\n",
       "  'id': '1979842962',\n",
       "  'phone': '051-509-1374',\n",
       "  'place_name': '힐튼호텔 부산 맥퀸즈바',\n",
       "  'place_url': 'http://place.map.kakao.com/1979842962',\n",
       "  'road_address_name': '부산 기장군 기장읍 기장해안로 268-32',\n",
       "  'x': '129.228260824491',\n",
       "  'y': '35.1978200839176'},\n",
       " {'address_name': '부산 기장군 기장읍 시랑리 704-1',\n",
       "  'category_group_code': 'FD6',\n",
       "  'category_group_name': '음식점',\n",
       "  'category_name': '음식점 > 양식',\n",
       "  'distance': '',\n",
       "  'id': '1691619774',\n",
       "  'phone': '051-604-7000',\n",
       "  'place_name': '오버랩',\n",
       "  'place_url': 'http://place.map.kakao.com/1691619774',\n",
       "  'road_address_name': '부산 기장군 기장읍 기장해안로 268-32',\n",
       "  'x': '129.228582780394',\n",
       "  'y': '35.1981926281436'},\n",
       " {'address_name': '부산 기장군 기장읍 시랑리 704-1',\n",
       "  'category_group_code': 'HP8',\n",
       "  'category_group_name': '병원',\n",
       "  'category_name': '의료,건강 > 병원 > 일반의원',\n",
       "  'distance': '',\n",
       "  'id': '1273735066',\n",
       "  'phone': '051-604-7241',\n",
       "  'place_name': '닥터아난티의원',\n",
       "  'place_url': 'http://place.map.kakao.com/1273735066',\n",
       "  'road_address_name': '부산 기장군 기장읍 기장해안로 268-32',\n",
       "  'x': '129.22827544769675',\n",
       "  'y': '35.197792781002214'},\n",
       " {'address_name': '부산 기장군 기장읍 시랑리 704-1',\n",
       "  'category_group_code': '',\n",
       "  'category_group_name': '',\n",
       "  'category_name': '가정,생활 > 목욕탕,사우나',\n",
       "  'distance': '',\n",
       "  'id': '1646864611',\n",
       "  'phone': '051-604-7233',\n",
       "  'place_name': '워터하우스',\n",
       "  'place_url': 'http://place.map.kakao.com/1646864611',\n",
       "  'road_address_name': '부산 기장군 기장읍 기장해안로 268-32',\n",
       "  'x': '129.228452348725',\n",
       "  'y': '35.1980796858666'},\n",
       " {'address_name': '부산 기장군 기장읍 시랑리 704-1',\n",
       "  'category_group_code': 'FD6',\n",
       "  'category_group_name': '음식점',\n",
       "  'category_name': '음식점 > 일식 > 일식집',\n",
       "  'distance': '',\n",
       "  'id': '904687297',\n",
       "  'phone': '051-604-7237',\n",
       "  'place_name': '자색미학',\n",
       "  'place_url': 'http://place.map.kakao.com/904687297',\n",
       "  'road_address_name': '부산 기장군 기장읍 기장해안로 268-32',\n",
       "  'x': '129.22827016420825',\n",
       "  'y': '35.19792083780035'},\n",
       " {'address_name': '부산 기장군 기장읍 시랑리 704-1',\n",
       "  'category_group_code': 'FD6',\n",
       "  'category_group_name': '음식점',\n",
       "  'category_name': '음식점 > 술집 > 호프,요리주점',\n",
       "  'distance': '',\n",
       "  'id': '1556016435',\n",
       "  'phone': '051-604-7260',\n",
       "  'place_name': '디스이즈비어 부산아난티점',\n",
       "  'place_url': 'http://place.map.kakao.com/1556016435',\n",
       "  'road_address_name': '부산 기장군 기장읍 기장해안로 268-32',\n",
       "  'x': '129.228299734815',\n",
       "  'y': '35.1977977406156'},\n",
       " {'address_name': '부산 기장군 기장읍 시랑리 704-1',\n",
       "  'category_group_code': 'BK9',\n",
       "  'category_group_name': '은행',\n",
       "  'category_name': '금융,보험 > 금융서비스 > 은행 > ATM',\n",
       "  'distance': '',\n",
       "  'id': '882359424',\n",
       "  'phone': '',\n",
       "  'place_name': '하나은행365 힐튼부산호텔지하',\n",
       "  'place_url': 'http://place.map.kakao.com/882359424',\n",
       "  'road_address_name': '부산 기장군 기장읍 기장해안로 268-32',\n",
       "  'x': '129.228297314576',\n",
       "  'y': '35.1978698750481'}]"
      ]
     },
     "execution_count": 1,
     "metadata": {},
     "output_type": "execute_result"
    }
   ],
   "source": [
    "\n",
    "## 카카오 맵 API 사용\n",
    "\n",
    "# url 이 실제 사이트에서는 못들어가는건가??? , 보면서 하면 편할거같은데\n",
    "\n",
    "import requests\n",
    "\n",
    "searching = '합정 스타벅스'\n",
    "searching = \"기장군 기장읍 기장해안로 268-32\"\n",
    "url = 'https://dapi.kakao.com/v2/local/search/keyword.json?query={}'.format(searching)\n",
    "headers = {\n",
    "    \"Authorization\": \"KakaoAK 8b4d8c2ac3a501ee0cf3519414386ca2\"\n",
    "}\n",
    "places = requests.get(url, headers = headers).json()['documents']\n",
    "places"
   ]
  },
  {
   "cell_type": "code",
   "execution_count": 2,
   "metadata": {},
   "outputs": [
    {
     "data": {
      "text/html": [
       "<div style=\"width:100%;\"><div style=\"position:relative;width:100%;height:0;padding-bottom:60%;\"><span style=\"color:#565656\">Make this Notebook Trusted to load map: File -> Trust Notebook</span><iframe src=\"about:blank\" style=\"position:absolute;width:100%;height:100%;left:0;top:0;border:none !important;\" data-html=%3C%21DOCTYPE%20html%3E%0A%3Chead%3E%20%20%20%20%0A%20%20%20%20%3Cmeta%20http-equiv%3D%22content-type%22%20content%3D%22text/html%3B%20charset%3DUTF-8%22%20/%3E%0A%20%20%20%20%0A%20%20%20%20%20%20%20%20%3Cscript%3E%0A%20%20%20%20%20%20%20%20%20%20%20%20L_NO_TOUCH%20%3D%20false%3B%0A%20%20%20%20%20%20%20%20%20%20%20%20L_DISABLE_3D%20%3D%20false%3B%0A%20%20%20%20%20%20%20%20%3C/script%3E%0A%20%20%20%20%0A%20%20%20%20%3Cstyle%3Ehtml%2C%20body%20%7Bwidth%3A%20100%25%3Bheight%3A%20100%25%3Bmargin%3A%200%3Bpadding%3A%200%3B%7D%3C/style%3E%0A%20%20%20%20%3Cstyle%3E%23map%20%7Bposition%3Aabsolute%3Btop%3A0%3Bbottom%3A0%3Bright%3A0%3Bleft%3A0%3B%7D%3C/style%3E%0A%20%20%20%20%3Cscript%20src%3D%22https%3A//cdn.jsdelivr.net/npm/leaflet%401.6.0/dist/leaflet.js%22%3E%3C/script%3E%0A%20%20%20%20%3Cscript%20src%3D%22https%3A//code.jquery.com/jquery-1.12.4.min.js%22%3E%3C/script%3E%0A%20%20%20%20%3Cscript%20src%3D%22https%3A//maxcdn.bootstrapcdn.com/bootstrap/3.2.0/js/bootstrap.min.js%22%3E%3C/script%3E%0A%20%20%20%20%3Cscript%20src%3D%22https%3A//cdnjs.cloudflare.com/ajax/libs/Leaflet.awesome-markers/2.0.2/leaflet.awesome-markers.js%22%3E%3C/script%3E%0A%20%20%20%20%3Clink%20rel%3D%22stylesheet%22%20href%3D%22https%3A//cdn.jsdelivr.net/npm/leaflet%401.6.0/dist/leaflet.css%22/%3E%0A%20%20%20%20%3Clink%20rel%3D%22stylesheet%22%20href%3D%22https%3A//maxcdn.bootstrapcdn.com/bootstrap/3.2.0/css/bootstrap.min.css%22/%3E%0A%20%20%20%20%3Clink%20rel%3D%22stylesheet%22%20href%3D%22https%3A//maxcdn.bootstrapcdn.com/bootstrap/3.2.0/css/bootstrap-theme.min.css%22/%3E%0A%20%20%20%20%3Clink%20rel%3D%22stylesheet%22%20href%3D%22https%3A//maxcdn.bootstrapcdn.com/font-awesome/4.6.3/css/font-awesome.min.css%22/%3E%0A%20%20%20%20%3Clink%20rel%3D%22stylesheet%22%20href%3D%22https%3A//cdnjs.cloudflare.com/ajax/libs/Leaflet.awesome-markers/2.0.2/leaflet.awesome-markers.css%22/%3E%0A%20%20%20%20%3Clink%20rel%3D%22stylesheet%22%20href%3D%22https%3A//cdn.jsdelivr.net/gh/python-visualization/folium/folium/templates/leaflet.awesome.rotate.min.css%22/%3E%0A%20%20%20%20%0A%20%20%20%20%20%20%20%20%20%20%20%20%3Cmeta%20name%3D%22viewport%22%20content%3D%22width%3Ddevice-width%2C%0A%20%20%20%20%20%20%20%20%20%20%20%20%20%20%20%20initial-scale%3D1.0%2C%20maximum-scale%3D1.0%2C%20user-scalable%3Dno%22%20/%3E%0A%20%20%20%20%20%20%20%20%20%20%20%20%3Cstyle%3E%0A%20%20%20%20%20%20%20%20%20%20%20%20%20%20%20%20%23map_ec1ff7874bfe4b48a82a861aee26d3e2%20%7B%0A%20%20%20%20%20%20%20%20%20%20%20%20%20%20%20%20%20%20%20%20position%3A%20relative%3B%0A%20%20%20%20%20%20%20%20%20%20%20%20%20%20%20%20%20%20%20%20width%3A%20100.0%25%3B%0A%20%20%20%20%20%20%20%20%20%20%20%20%20%20%20%20%20%20%20%20height%3A%20100.0%25%3B%0A%20%20%20%20%20%20%20%20%20%20%20%20%20%20%20%20%20%20%20%20left%3A%200.0%25%3B%0A%20%20%20%20%20%20%20%20%20%20%20%20%20%20%20%20%20%20%20%20top%3A%200.0%25%3B%0A%20%20%20%20%20%20%20%20%20%20%20%20%20%20%20%20%7D%0A%20%20%20%20%20%20%20%20%20%20%20%20%3C/style%3E%0A%20%20%20%20%20%20%20%20%0A%3C/head%3E%0A%3Cbody%3E%20%20%20%20%0A%20%20%20%20%0A%20%20%20%20%20%20%20%20%20%20%20%20%3Cdiv%20class%3D%22folium-map%22%20id%3D%22map_ec1ff7874bfe4b48a82a861aee26d3e2%22%20%3E%3C/div%3E%0A%20%20%20%20%20%20%20%20%0A%3C/body%3E%0A%3Cscript%3E%20%20%20%20%0A%20%20%20%20%0A%20%20%20%20%20%20%20%20%20%20%20%20var%20map_ec1ff7874bfe4b48a82a861aee26d3e2%20%3D%20L.map%28%0A%20%20%20%20%20%20%20%20%20%20%20%20%20%20%20%20%22map_ec1ff7874bfe4b48a82a861aee26d3e2%22%2C%0A%20%20%20%20%20%20%20%20%20%20%20%20%20%20%20%20%7B%0A%20%20%20%20%20%20%20%20%20%20%20%20%20%20%20%20%20%20%20%20center%3A%20%5B35.1978227169791%2C%20129.228313590864%5D%2C%0A%20%20%20%20%20%20%20%20%20%20%20%20%20%20%20%20%20%20%20%20crs%3A%20L.CRS.EPSG3857%2C%0A%20%20%20%20%20%20%20%20%20%20%20%20%20%20%20%20%20%20%20%20zoom%3A%2011%2C%0A%20%20%20%20%20%20%20%20%20%20%20%20%20%20%20%20%20%20%20%20zoomControl%3A%20true%2C%0A%20%20%20%20%20%20%20%20%20%20%20%20%20%20%20%20%20%20%20%20preferCanvas%3A%20false%2C%0A%20%20%20%20%20%20%20%20%20%20%20%20%20%20%20%20%7D%0A%20%20%20%20%20%20%20%20%20%20%20%20%29%3B%0A%0A%20%20%20%20%20%20%20%20%20%20%20%20%0A%0A%20%20%20%20%20%20%20%20%0A%20%20%20%20%0A%20%20%20%20%20%20%20%20%20%20%20%20var%20tile_layer_652ebb243e504961812137829a3aeb9c%20%3D%20L.tileLayer%28%0A%20%20%20%20%20%20%20%20%20%20%20%20%20%20%20%20%22https%3A//%7Bs%7D.tile.openstreetmap.org/%7Bz%7D/%7Bx%7D/%7By%7D.png%22%2C%0A%20%20%20%20%20%20%20%20%20%20%20%20%20%20%20%20%7B%22attribution%22%3A%20%22Data%20by%20%5Cu0026copy%3B%20%5Cu003ca%20href%3D%5C%22http%3A//openstreetmap.org%5C%22%5Cu003eOpenStreetMap%5Cu003c/a%5Cu003e%2C%20under%20%5Cu003ca%20href%3D%5C%22http%3A//www.openstreetmap.org/copyright%5C%22%5Cu003eODbL%5Cu003c/a%5Cu003e.%22%2C%20%22detectRetina%22%3A%20false%2C%20%22maxNativeZoom%22%3A%2018%2C%20%22maxZoom%22%3A%2018%2C%20%22minZoom%22%3A%200%2C%20%22noWrap%22%3A%20false%2C%20%22opacity%22%3A%201%2C%20%22subdomains%22%3A%20%22abc%22%2C%20%22tms%22%3A%20false%7D%0A%20%20%20%20%20%20%20%20%20%20%20%20%29.addTo%28map_ec1ff7874bfe4b48a82a861aee26d3e2%29%3B%0A%20%20%20%20%20%20%20%20%0A%20%20%20%20%0A%20%20%20%20%20%20%20%20%20%20%20%20var%20circle_marker_b2588e7c196d4be98f806e467a9465fc%20%3D%20L.circleMarker%28%0A%20%20%20%20%20%20%20%20%20%20%20%20%20%20%20%20%5B129.228313590864%2C%2035.1978227169791%5D%2C%0A%20%20%20%20%20%20%20%20%20%20%20%20%20%20%20%20%7B%22bubblingMouseEvents%22%3A%20true%2C%20%22color%22%3A%20%22red%22%2C%20%22dashArray%22%3A%20null%2C%20%22dashOffset%22%3A%20null%2C%20%22fill%22%3A%20false%2C%20%22fillColor%22%3A%20%22red%22%2C%20%22fillOpacity%22%3A%200.2%2C%20%22fillRule%22%3A%20%22evenodd%22%2C%20%22lineCap%22%3A%20%22round%22%2C%20%22lineJoin%22%3A%20%22round%22%2C%20%22opacity%22%3A%201.0%2C%20%22radius%22%3A%2010%2C%20%22stroke%22%3A%20true%2C%20%22weight%22%3A%203%7D%0A%20%20%20%20%20%20%20%20%20%20%20%20%29.addTo%28map_ec1ff7874bfe4b48a82a861aee26d3e2%29%3B%0A%20%20%20%20%20%20%20%20%0A%20%20%20%20%0A%20%20%20%20%20%20%20%20%20%20%20%20var%20circle_marker_8f5ad578db9043caade70db263860ce7%20%3D%20L.circleMarker%28%0A%20%20%20%20%20%20%20%20%20%20%20%20%20%20%20%20%5B35.1978227169791%2C%20129.228313590864%5D%2C%0A%20%20%20%20%20%20%20%20%20%20%20%20%20%20%20%20%7B%22bubblingMouseEvents%22%3A%20true%2C%20%22color%22%3A%20%22red%22%2C%20%22dashArray%22%3A%20null%2C%20%22dashOffset%22%3A%20null%2C%20%22fill%22%3A%20false%2C%20%22fillColor%22%3A%20%22red%22%2C%20%22fillOpacity%22%3A%200.2%2C%20%22fillRule%22%3A%20%22evenodd%22%2C%20%22lineCap%22%3A%20%22round%22%2C%20%22lineJoin%22%3A%20%22round%22%2C%20%22opacity%22%3A%201.0%2C%20%22radius%22%3A%2010%2C%20%22stroke%22%3A%20true%2C%20%22weight%22%3A%203%7D%0A%20%20%20%20%20%20%20%20%20%20%20%20%29.addTo%28map_ec1ff7874bfe4b48a82a861aee26d3e2%29%3B%0A%20%20%20%20%20%20%20%20%0A%3C/script%3E onload=\"this.contentDocument.open();this.contentDocument.write(    decodeURIComponent(this.getAttribute('data-html')));this.contentDocument.close();\" allowfullscreen webkitallowfullscreen mozallowfullscreen></iframe></div></div>"
      ],
      "text/plain": [
       "<folium.folium.Map at 0x2d14bcf3278>"
      ]
     },
     "execution_count": 2,
     "metadata": {},
     "output_type": "execute_result"
    }
   ],
   "source": [
    "import folium\n",
    "\n",
    "Mt_Hanla =[33.362500, 126.533694]\n",
    "long = places[0][\"x\"]\n",
    "lat = places[0][\"y\"]\n",
    "map_jeju = folium.Map(location = [lat , long], zoom_start = 11)\n",
    "\n",
    "folium.CircleMarker( (float(long),float(lat)) , radius = 10 , color = \"red\"  , name = places[0][\"address_name\"] ).add_to(map_jeju)\n",
    "folium.CircleMarker( (lat , long) , radius = 10 , color = \"red\"  , name = places[0][\"address_name\"] ).add_to(map_jeju)\n",
    "map_jeju"
   ]
  },
  {
   "cell_type": "code",
   "execution_count": 4,
   "metadata": {},
   "outputs": [],
   "source": [
    "html = folium.Map().get_root().render().replace(\"\\n\" , \"<br>\")"
   ]
  },
  {
   "cell_type": "code",
   "execution_count": 6,
   "metadata": {},
   "outputs": [],
   "source": [
    "save_html = map_jeju.save('map.html')"
   ]
  },
  {
   "cell_type": "code",
   "execution_count": 8,
   "metadata": {},
   "outputs": [
    {
     "ename": "MissingSchema",
     "evalue": "Invalid URL 'map.html': No schema supplied. Perhaps you meant http://map.html?",
     "output_type": "error",
     "traceback": [
      "\u001b[1;31m---------------------------------------------------------------------------\u001b[0m",
      "\u001b[1;31mMissingSchema\u001b[0m                             Traceback (most recent call last)",
      "\u001b[1;32m<ipython-input-8-339939e9a936>\u001b[0m in \u001b[0;36m<module>\u001b[1;34m\u001b[0m\n\u001b[0;32m      1\u001b[0m \u001b[1;32mimport\u001b[0m \u001b[0mrequests\u001b[0m\u001b[1;33m\u001b[0m\u001b[1;33m\u001b[0m\u001b[0m\n\u001b[1;32m----> 2\u001b[1;33m \u001b[0mhtml\u001b[0m \u001b[1;33m=\u001b[0m \u001b[0mrequests\u001b[0m\u001b[1;33m.\u001b[0m\u001b[0mget\u001b[0m\u001b[1;33m(\u001b[0m\u001b[1;34m\"map.html\"\u001b[0m\u001b[1;33m)\u001b[0m\u001b[1;33m\u001b[0m\u001b[1;33m\u001b[0m\u001b[0m\n\u001b[0m\u001b[0;32m      3\u001b[0m \u001b[0mhtml\u001b[0m\u001b[1;33m\u001b[0m\u001b[1;33m\u001b[0m\u001b[0m\n",
      "\u001b[1;32m~\\AppData\\Local\\Continuum\\anaconda3\\lib\\site-packages\\requests\\api.py\u001b[0m in \u001b[0;36mget\u001b[1;34m(url, params, **kwargs)\u001b[0m\n\u001b[0;32m     74\u001b[0m \u001b[1;33m\u001b[0m\u001b[0m\n\u001b[0;32m     75\u001b[0m     \u001b[0mkwargs\u001b[0m\u001b[1;33m.\u001b[0m\u001b[0msetdefault\u001b[0m\u001b[1;33m(\u001b[0m\u001b[1;34m'allow_redirects'\u001b[0m\u001b[1;33m,\u001b[0m \u001b[1;32mTrue\u001b[0m\u001b[1;33m)\u001b[0m\u001b[1;33m\u001b[0m\u001b[1;33m\u001b[0m\u001b[0m\n\u001b[1;32m---> 76\u001b[1;33m     \u001b[1;32mreturn\u001b[0m \u001b[0mrequest\u001b[0m\u001b[1;33m(\u001b[0m\u001b[1;34m'get'\u001b[0m\u001b[1;33m,\u001b[0m \u001b[0murl\u001b[0m\u001b[1;33m,\u001b[0m \u001b[0mparams\u001b[0m\u001b[1;33m=\u001b[0m\u001b[0mparams\u001b[0m\u001b[1;33m,\u001b[0m \u001b[1;33m**\u001b[0m\u001b[0mkwargs\u001b[0m\u001b[1;33m)\u001b[0m\u001b[1;33m\u001b[0m\u001b[1;33m\u001b[0m\u001b[0m\n\u001b[0m\u001b[0;32m     77\u001b[0m \u001b[1;33m\u001b[0m\u001b[0m\n\u001b[0;32m     78\u001b[0m \u001b[1;33m\u001b[0m\u001b[0m\n",
      "\u001b[1;32m~\\AppData\\Local\\Continuum\\anaconda3\\lib\\site-packages\\requests\\api.py\u001b[0m in \u001b[0;36mrequest\u001b[1;34m(method, url, **kwargs)\u001b[0m\n\u001b[0;32m     59\u001b[0m     \u001b[1;31m# cases, and look like a memory leak in others.\u001b[0m\u001b[1;33m\u001b[0m\u001b[1;33m\u001b[0m\u001b[1;33m\u001b[0m\u001b[0m\n\u001b[0;32m     60\u001b[0m     \u001b[1;32mwith\u001b[0m \u001b[0msessions\u001b[0m\u001b[1;33m.\u001b[0m\u001b[0mSession\u001b[0m\u001b[1;33m(\u001b[0m\u001b[1;33m)\u001b[0m \u001b[1;32mas\u001b[0m \u001b[0msession\u001b[0m\u001b[1;33m:\u001b[0m\u001b[1;33m\u001b[0m\u001b[1;33m\u001b[0m\u001b[0m\n\u001b[1;32m---> 61\u001b[1;33m         \u001b[1;32mreturn\u001b[0m \u001b[0msession\u001b[0m\u001b[1;33m.\u001b[0m\u001b[0mrequest\u001b[0m\u001b[1;33m(\u001b[0m\u001b[0mmethod\u001b[0m\u001b[1;33m=\u001b[0m\u001b[0mmethod\u001b[0m\u001b[1;33m,\u001b[0m \u001b[0murl\u001b[0m\u001b[1;33m=\u001b[0m\u001b[0murl\u001b[0m\u001b[1;33m,\u001b[0m \u001b[1;33m**\u001b[0m\u001b[0mkwargs\u001b[0m\u001b[1;33m)\u001b[0m\u001b[1;33m\u001b[0m\u001b[1;33m\u001b[0m\u001b[0m\n\u001b[0m\u001b[0;32m     62\u001b[0m \u001b[1;33m\u001b[0m\u001b[0m\n\u001b[0;32m     63\u001b[0m \u001b[1;33m\u001b[0m\u001b[0m\n",
      "\u001b[1;32m~\\AppData\\Local\\Continuum\\anaconda3\\lib\\site-packages\\requests\\sessions.py\u001b[0m in \u001b[0;36mrequest\u001b[1;34m(self, method, url, params, data, headers, cookies, files, auth, timeout, allow_redirects, proxies, hooks, stream, verify, cert, json)\u001b[0m\n\u001b[0;32m    526\u001b[0m             \u001b[0mhooks\u001b[0m\u001b[1;33m=\u001b[0m\u001b[0mhooks\u001b[0m\u001b[1;33m,\u001b[0m\u001b[1;33m\u001b[0m\u001b[1;33m\u001b[0m\u001b[0m\n\u001b[0;32m    527\u001b[0m         )\n\u001b[1;32m--> 528\u001b[1;33m         \u001b[0mprep\u001b[0m \u001b[1;33m=\u001b[0m \u001b[0mself\u001b[0m\u001b[1;33m.\u001b[0m\u001b[0mprepare_request\u001b[0m\u001b[1;33m(\u001b[0m\u001b[0mreq\u001b[0m\u001b[1;33m)\u001b[0m\u001b[1;33m\u001b[0m\u001b[1;33m\u001b[0m\u001b[0m\n\u001b[0m\u001b[0;32m    529\u001b[0m \u001b[1;33m\u001b[0m\u001b[0m\n\u001b[0;32m    530\u001b[0m         \u001b[0mproxies\u001b[0m \u001b[1;33m=\u001b[0m \u001b[0mproxies\u001b[0m \u001b[1;32mor\u001b[0m \u001b[1;33m{\u001b[0m\u001b[1;33m}\u001b[0m\u001b[1;33m\u001b[0m\u001b[1;33m\u001b[0m\u001b[0m\n",
      "\u001b[1;32m~\\AppData\\Local\\Continuum\\anaconda3\\lib\\site-packages\\requests\\sessions.py\u001b[0m in \u001b[0;36mprepare_request\u001b[1;34m(self, request)\u001b[0m\n\u001b[0;32m    464\u001b[0m             \u001b[0mauth\u001b[0m\u001b[1;33m=\u001b[0m\u001b[0mmerge_setting\u001b[0m\u001b[1;33m(\u001b[0m\u001b[0mauth\u001b[0m\u001b[1;33m,\u001b[0m \u001b[0mself\u001b[0m\u001b[1;33m.\u001b[0m\u001b[0mauth\u001b[0m\u001b[1;33m)\u001b[0m\u001b[1;33m,\u001b[0m\u001b[1;33m\u001b[0m\u001b[1;33m\u001b[0m\u001b[0m\n\u001b[0;32m    465\u001b[0m             \u001b[0mcookies\u001b[0m\u001b[1;33m=\u001b[0m\u001b[0mmerged_cookies\u001b[0m\u001b[1;33m,\u001b[0m\u001b[1;33m\u001b[0m\u001b[1;33m\u001b[0m\u001b[0m\n\u001b[1;32m--> 466\u001b[1;33m             \u001b[0mhooks\u001b[0m\u001b[1;33m=\u001b[0m\u001b[0mmerge_hooks\u001b[0m\u001b[1;33m(\u001b[0m\u001b[0mrequest\u001b[0m\u001b[1;33m.\u001b[0m\u001b[0mhooks\u001b[0m\u001b[1;33m,\u001b[0m \u001b[0mself\u001b[0m\u001b[1;33m.\u001b[0m\u001b[0mhooks\u001b[0m\u001b[1;33m)\u001b[0m\u001b[1;33m,\u001b[0m\u001b[1;33m\u001b[0m\u001b[1;33m\u001b[0m\u001b[0m\n\u001b[0m\u001b[0;32m    467\u001b[0m         )\n\u001b[0;32m    468\u001b[0m         \u001b[1;32mreturn\u001b[0m \u001b[0mp\u001b[0m\u001b[1;33m\u001b[0m\u001b[1;33m\u001b[0m\u001b[0m\n",
      "\u001b[1;32m~\\AppData\\Local\\Continuum\\anaconda3\\lib\\site-packages\\requests\\models.py\u001b[0m in \u001b[0;36mprepare\u001b[1;34m(self, method, url, headers, files, data, params, auth, cookies, hooks, json)\u001b[0m\n\u001b[0;32m    314\u001b[0m \u001b[1;33m\u001b[0m\u001b[0m\n\u001b[0;32m    315\u001b[0m         \u001b[0mself\u001b[0m\u001b[1;33m.\u001b[0m\u001b[0mprepare_method\u001b[0m\u001b[1;33m(\u001b[0m\u001b[0mmethod\u001b[0m\u001b[1;33m)\u001b[0m\u001b[1;33m\u001b[0m\u001b[1;33m\u001b[0m\u001b[0m\n\u001b[1;32m--> 316\u001b[1;33m         \u001b[0mself\u001b[0m\u001b[1;33m.\u001b[0m\u001b[0mprepare_url\u001b[0m\u001b[1;33m(\u001b[0m\u001b[0murl\u001b[0m\u001b[1;33m,\u001b[0m \u001b[0mparams\u001b[0m\u001b[1;33m)\u001b[0m\u001b[1;33m\u001b[0m\u001b[1;33m\u001b[0m\u001b[0m\n\u001b[0m\u001b[0;32m    317\u001b[0m         \u001b[0mself\u001b[0m\u001b[1;33m.\u001b[0m\u001b[0mprepare_headers\u001b[0m\u001b[1;33m(\u001b[0m\u001b[0mheaders\u001b[0m\u001b[1;33m)\u001b[0m\u001b[1;33m\u001b[0m\u001b[1;33m\u001b[0m\u001b[0m\n\u001b[0;32m    318\u001b[0m         \u001b[0mself\u001b[0m\u001b[1;33m.\u001b[0m\u001b[0mprepare_cookies\u001b[0m\u001b[1;33m(\u001b[0m\u001b[0mcookies\u001b[0m\u001b[1;33m)\u001b[0m\u001b[1;33m\u001b[0m\u001b[1;33m\u001b[0m\u001b[0m\n",
      "\u001b[1;32m~\\AppData\\Local\\Continuum\\anaconda3\\lib\\site-packages\\requests\\models.py\u001b[0m in \u001b[0;36mprepare_url\u001b[1;34m(self, url, params)\u001b[0m\n\u001b[0;32m    388\u001b[0m             \u001b[0merror\u001b[0m \u001b[1;33m=\u001b[0m \u001b[0merror\u001b[0m\u001b[1;33m.\u001b[0m\u001b[0mformat\u001b[0m\u001b[1;33m(\u001b[0m\u001b[0mto_native_string\u001b[0m\u001b[1;33m(\u001b[0m\u001b[0murl\u001b[0m\u001b[1;33m,\u001b[0m \u001b[1;34m'utf8'\u001b[0m\u001b[1;33m)\u001b[0m\u001b[1;33m)\u001b[0m\u001b[1;33m\u001b[0m\u001b[1;33m\u001b[0m\u001b[0m\n\u001b[0;32m    389\u001b[0m \u001b[1;33m\u001b[0m\u001b[0m\n\u001b[1;32m--> 390\u001b[1;33m             \u001b[1;32mraise\u001b[0m \u001b[0mMissingSchema\u001b[0m\u001b[1;33m(\u001b[0m\u001b[0merror\u001b[0m\u001b[1;33m)\u001b[0m\u001b[1;33m\u001b[0m\u001b[1;33m\u001b[0m\u001b[0m\n\u001b[0m\u001b[0;32m    391\u001b[0m \u001b[1;33m\u001b[0m\u001b[0m\n\u001b[0;32m    392\u001b[0m         \u001b[1;32mif\u001b[0m \u001b[1;32mnot\u001b[0m \u001b[0mhost\u001b[0m\u001b[1;33m:\u001b[0m\u001b[1;33m\u001b[0m\u001b[1;33m\u001b[0m\u001b[0m\n",
      "\u001b[1;31mMissingSchema\u001b[0m: Invalid URL 'map.html': No schema supplied. Perhaps you meant http://map.html?"
     ]
    }
   ],
   "source": [
    "\n",
    "import requests\n",
    "html = requests.get(\"map.html\")\n",
    "html"
   ]
  },
  {
   "cell_type": "code",
   "execution_count": 5,
   "metadata": {},
   "outputs": [
    {
     "data": {
      "text/plain": [
       "'<!DOCTYPE html><br><head>    <br>    <meta http-equiv=\"content-type\" content=\"text/html; charset=UTF-8\" /><br>    <br>        <script><br>            L_NO_TOUCH = false;<br>            L_DISABLE_3D = false;<br>        </script><br>    <br>    <style>html, body {width: 100%;height: 100%;margin: 0;padding: 0;}</style><br>    <style>#map {position:absolute;top:0;bottom:0;right:0;left:0;}</style><br>    <script src=\"https://cdn.jsdelivr.net/npm/leaflet@1.6.0/dist/leaflet.js\"></script><br>    <script src=\"https://code.jquery.com/jquery-1.12.4.min.js\"></script><br>    <script src=\"https://maxcdn.bootstrapcdn.com/bootstrap/3.2.0/js/bootstrap.min.js\"></script><br>    <script src=\"https://cdnjs.cloudflare.com/ajax/libs/Leaflet.awesome-markers/2.0.2/leaflet.awesome-markers.js\"></script><br>    <link rel=\"stylesheet\" href=\"https://cdn.jsdelivr.net/npm/leaflet@1.6.0/dist/leaflet.css\"/><br>    <link rel=\"stylesheet\" href=\"https://maxcdn.bootstrapcdn.com/bootstrap/3.2.0/css/bootstrap.min.css\"/><br>    <link rel=\"stylesheet\" href=\"https://maxcdn.bootstrapcdn.com/bootstrap/3.2.0/css/bootstrap-theme.min.css\"/><br>    <link rel=\"stylesheet\" href=\"https://maxcdn.bootstrapcdn.com/font-awesome/4.6.3/css/font-awesome.min.css\"/><br>    <link rel=\"stylesheet\" href=\"https://cdnjs.cloudflare.com/ajax/libs/Leaflet.awesome-markers/2.0.2/leaflet.awesome-markers.css\"/><br>    <link rel=\"stylesheet\" href=\"https://cdn.jsdelivr.net/gh/python-visualization/folium/folium/templates/leaflet.awesome.rotate.min.css\"/><br>    <br>            <meta name=\"viewport\" content=\"width=device-width,<br>                initial-scale=1.0, maximum-scale=1.0, user-scalable=no\" /><br>            <style><br>                #map_83d7ea97d63b454da500dd5e2250f475 {<br>                    position: relative;<br>                    width: 100.0%;<br>                    height: 100.0%;<br>                    left: 0.0%;<br>                    top: 0.0%;<br>                }<br>            </style><br>        <br></head><br><body>    <br>    <br>            <div class=\"folium-map\" id=\"map_83d7ea97d63b454da500dd5e2250f475\" ></div><br>        <br></body><br><script>    <br>    <br>            var map_83d7ea97d63b454da500dd5e2250f475 = L.map(<br>                \"map_83d7ea97d63b454da500dd5e2250f475\",<br>                {<br>                    center: [0, 0],<br>                    crs: L.CRS.EPSG3857,<br>                    zoom: 1,<br>                    zoomControl: true,<br>                    preferCanvas: false,<br>                }<br>            );<br><br>            <br><br>        <br>    <br>            var tile_layer_4bca2d7ff48f40c6bc597bb0d8f09db1 = L.tileLayer(<br>                \"https://{s}.tile.openstreetmap.org/{z}/{x}/{y}.png\",<br>                {\"attribution\": \"Data by \\\\u0026copy; \\\\u003ca href=\\\\\"http://openstreetmap.org\\\\\"\\\\u003eOpenStreetMap\\\\u003c/a\\\\u003e, under \\\\u003ca href=\\\\\"http://www.openstreetmap.org/copyright\\\\\"\\\\u003eODbL\\\\u003c/a\\\\u003e.\", \"detectRetina\": false, \"maxNativeZoom\": 18, \"maxZoom\": 18, \"minZoom\": 0, \"noWrap\": false, \"opacity\": 1, \"subdomains\": \"abc\", \"tms\": false}<br>            ).addTo(map_83d7ea97d63b454da500dd5e2250f475);<br>        <br></script>'"
      ]
     },
     "execution_count": 5,
     "metadata": {},
     "output_type": "execute_result"
    }
   ],
   "source": [
    "html"
   ]
  },
  {
   "cell_type": "code",
   "execution_count": 5,
   "metadata": {},
   "outputs": [
    {
     "name": "stdout",
     "output_type": "stream",
     "text": [
      "[2 1 1 1 1 1 1 1 1 1 1 1]\n"
     ]
    }
   ],
   "source": [
    "\n",
    "import pandas as pd\n",
    "\n",
    "df = pd.read_excel('./data/인스타그램 제주도맛집베스트 검색 결과.xlsx' , engine=\"openpyxl\")\n",
    "df.columns = [\"index\" , \"content\" , \"date\" , \"like\" , \"place\" , \"tags\"]\n",
    "loc_counts = df['place'].value_counts()\n",
    "print(loc_counts.values)"
   ]
  },
  {
   "cell_type": "code",
   "execution_count": 8,
   "metadata": {},
   "outputs": [
    {
     "name": "stdout",
     "output_type": "stream",
     "text": [
      "                    place\n",
      "봉유                      2\n",
      "수마카페                    1\n",
      "제주도 올레시장                1\n",
      "제주도 곽지해수욕장              1\n",
      "반딧불 한담                  1\n",
      "착한전복                    1\n",
      "풍천장어                    1\n",
      "Grand Hyatt Jeju        1\n",
      "제주시 중앙로                 1\n",
      "무거버거-Moogerburger       1\n",
      "Hitchhikers lounge      1\n",
      "우진해장국                   1\n"
     ]
    }
   ],
   "source": [
    "loc_counts_df = pd.DataFrame(loc_counts)\n",
    "print(loc_counts_df)"
   ]
  },
  {
   "cell_type": "code",
   "execution_count": 10,
   "metadata": {},
   "outputs": [
    {
     "data": {
      "text/plain": [
       "['봉유',\n",
       " '수마카페',\n",
       " '제주도 올레시장',\n",
       " '제주도 곽지해수욕장',\n",
       " '반딧불 한담',\n",
       " '착한전복',\n",
       " '풍천장어',\n",
       " 'Grand Hyatt Jeju',\n",
       " '제주시 중앙로',\n",
       " '무거버거-Moogerburger',\n",
       " 'Hitchhikers lounge',\n",
       " '우진해장국']"
      ]
     },
     "execution_count": 10,
     "metadata": {},
     "output_type": "execute_result"
    }
   ],
   "source": [
    "locations = list(loc_counts.index)\n",
    "locations"
   ]
  },
  {
   "cell_type": "code",
   "execution_count": 14,
   "metadata": {},
   "outputs": [],
   "source": [
    "import requests\n",
    "def find_places(searching):\n",
    "    url = 'https://dapi.kakao.com/v2/local/search/keyword.json?query={}'.format(searching)\n",
    "    headers = {\n",
    "        \"Authorization\": \"KakaoAK 8b4d8c2ac3a501ee0cf3519414386ca2\"\n",
    "    }\n",
    "    places = requests.get(url, headers = headers).json()['documents']\n",
    "    \n",
    "    place = places[0]\n",
    "    data = [place['place_name'] , place['x'] , place['y'] , searching]\n",
    "    return data\n"
   ]
  },
  {
   "cell_type": "code",
   "execution_count": 15,
   "metadata": {},
   "outputs": [
    {
     "data": {
      "text/plain": [
       "['제주국제공항', '126.492769004244', '33.5070789578184', '제주공항']"
      ]
     },
     "execution_count": 15,
     "metadata": {},
     "output_type": "execute_result"
    }
   ],
   "source": [
    "find_places(\"제주공항\")"
   ]
  },
  {
   "cell_type": "code",
   "execution_count": 17,
   "metadata": {},
   "outputs": [
    {
     "data": {
      "application/vnd.jupyter.widget-view+json": {
       "model_id": "16acb74120e6459aa98bac9104e48756",
       "version_major": 2,
       "version_minor": 0
      },
      "text/plain": [
       "  0%|          | 0/12 [00:00<?, ?it/s]"
      ]
     },
     "metadata": {},
     "output_type": "display_data"
    },
    {
     "data": {
      "text/plain": [
       "[['봉유', '126.328214069844', '33.2868369487956', '봉유'],\n",
       " ['수마', '126.93382397984439', '33.46101052414326', '수마카페'],\n",
       " ['서귀포매일올레시장', '126.56384869150997', '33.24991509958467', '제주도 올레시장'],\n",
       " ['곽지해수욕장', '126.304673157235', '33.4506575078278', '제주도 곽지해수욕장'],\n",
       " ['제주반딧불한담 애월점', '126.31010539641', '33.46331725259', '반딧불 한담'],\n",
       " ['착한전복 청주점', '127.466528359559', '36.6117190324835', '착한전복'],\n",
       " ['풍천장어', '127.136749964615', '37.4936703595667', '풍천장어'],\n",
       " ['다이소 제주시청점', '126.5294950423096', '33.50061881499584', '제주시 중앙로'],\n",
       " ['우진해장국', '126.520003422855', '33.5115187080468', '우진해장국']]"
      ]
     },
     "execution_count": 17,
     "metadata": {},
     "output_type": "execute_result"
    }
   ],
   "source": [
    "from tqdm.notebook import tqdm\n",
    "import time\n",
    "loc_info = []\n",
    "for loc in tqdm(locations):\n",
    "    try:\n",
    "        data = find_places(loc)\n",
    "        loc_info.append(data)\n",
    "        time.sleep(0.5)\n",
    "    except: pass\n",
    "loc_info"
   ]
  },
  {
   "cell_type": "code",
   "execution_count": 24,
   "metadata": {},
   "outputs": [
    {
     "data": {
      "text/html": [
       "<div>\n",
       "<style scoped>\n",
       "    .dataframe tbody tr th:only-of-type {\n",
       "        vertical-align: middle;\n",
       "    }\n",
       "\n",
       "    .dataframe tbody tr th {\n",
       "        vertical-align: top;\n",
       "    }\n",
       "\n",
       "    .dataframe thead th {\n",
       "        text-align: right;\n",
       "    }\n",
       "</style>\n",
       "<table border=\"1\" class=\"dataframe\">\n",
       "  <thead>\n",
       "    <tr style=\"text-align: right;\">\n",
       "      <th></th>\n",
       "      <th>name_official</th>\n",
       "      <th>경도</th>\n",
       "      <th>위도</th>\n",
       "      <th>인스타위치명</th>\n",
       "    </tr>\n",
       "  </thead>\n",
       "  <tbody>\n",
       "    <tr>\n",
       "      <th>0</th>\n",
       "      <td>봉유</td>\n",
       "      <td>126.328214069844</td>\n",
       "      <td>33.2868369487956</td>\n",
       "      <td>봉유</td>\n",
       "    </tr>\n",
       "    <tr>\n",
       "      <th>1</th>\n",
       "      <td>수마</td>\n",
       "      <td>126.93382397984439</td>\n",
       "      <td>33.46101052414326</td>\n",
       "      <td>수마카페</td>\n",
       "    </tr>\n",
       "    <tr>\n",
       "      <th>2</th>\n",
       "      <td>서귀포매일올레시장</td>\n",
       "      <td>126.56384869150997</td>\n",
       "      <td>33.24991509958467</td>\n",
       "      <td>제주도 올레시장</td>\n",
       "    </tr>\n",
       "    <tr>\n",
       "      <th>3</th>\n",
       "      <td>곽지해수욕장</td>\n",
       "      <td>126.304673157235</td>\n",
       "      <td>33.4506575078278</td>\n",
       "      <td>제주도 곽지해수욕장</td>\n",
       "    </tr>\n",
       "    <tr>\n",
       "      <th>4</th>\n",
       "      <td>제주반딧불한담 애월점</td>\n",
       "      <td>126.31010539641</td>\n",
       "      <td>33.46331725259</td>\n",
       "      <td>반딧불 한담</td>\n",
       "    </tr>\n",
       "    <tr>\n",
       "      <th>5</th>\n",
       "      <td>착한전복 청주점</td>\n",
       "      <td>127.466528359559</td>\n",
       "      <td>36.6117190324835</td>\n",
       "      <td>착한전복</td>\n",
       "    </tr>\n",
       "    <tr>\n",
       "      <th>6</th>\n",
       "      <td>풍천장어</td>\n",
       "      <td>127.136749964615</td>\n",
       "      <td>37.4936703595667</td>\n",
       "      <td>풍천장어</td>\n",
       "    </tr>\n",
       "    <tr>\n",
       "      <th>7</th>\n",
       "      <td>다이소 제주시청점</td>\n",
       "      <td>126.5294950423096</td>\n",
       "      <td>33.50061881499584</td>\n",
       "      <td>제주시 중앙로</td>\n",
       "    </tr>\n",
       "    <tr>\n",
       "      <th>8</th>\n",
       "      <td>우진해장국</td>\n",
       "      <td>126.520003422855</td>\n",
       "      <td>33.5115187080468</td>\n",
       "      <td>우진해장국</td>\n",
       "    </tr>\n",
       "  </tbody>\n",
       "</table>\n",
       "</div>"
      ],
      "text/plain": [
       "  name_official                  경도                 위도      인스타위치명\n",
       "0            봉유    126.328214069844   33.2868369487956          봉유\n",
       "1            수마  126.93382397984439  33.46101052414326        수마카페\n",
       "2     서귀포매일올레시장  126.56384869150997  33.24991509958467    제주도 올레시장\n",
       "3        곽지해수욕장    126.304673157235   33.4506575078278  제주도 곽지해수욕장\n",
       "4   제주반딧불한담 애월점     126.31010539641     33.46331725259      반딧불 한담\n",
       "5      착한전복 청주점    127.466528359559   36.6117190324835        착한전복\n",
       "6          풍천장어    127.136749964615   37.4936703595667        풍천장어\n",
       "7     다이소 제주시청점   126.5294950423096  33.50061881499584     제주시 중앙로\n",
       "8         우진해장국    126.520003422855   33.5115187080468       우진해장국"
      ]
     },
     "execution_count": 24,
     "metadata": {},
     "output_type": "execute_result"
    }
   ],
   "source": [
    "loc_info_df = pd.DataFrame(loc_info)\n",
    "loc_info_df.columns = ['name_official','경도','위도','인스타위치명']\n",
    "loc_info_df.to_excel('./data/locations.xlsx', index=False)\n",
    "loc_info_df"
   ]
  },
  {
   "cell_type": "code",
   "execution_count": null,
   "metadata": {},
   "outputs": [],
   "source": [
    "loc_data = loc_info_df.pivot_table(index = ['name_official','경도','위도'] , value = 'place' , aggfunc=\"sum\")"
   ]
  },
  {
   "cell_type": "code",
   "execution_count": 29,
   "metadata": {},
   "outputs": [
    {
     "data": {
      "text/html": [
       "<div style=\"width:100%;\"><div style=\"position:relative;width:100%;height:0;padding-bottom:60%;\"><span style=\"color:#565656\">Make this Notebook Trusted to load map: File -> Trust Notebook</span><iframe src=\"about:blank\" style=\"position:absolute;width:100%;height:100%;left:0;top:0;border:none !important;\" data-html=%3C%21DOCTYPE%20html%3E%0A%3Chead%3E%20%20%20%20%0A%20%20%20%20%3Cmeta%20http-equiv%3D%22content-type%22%20content%3D%22text/html%3B%20charset%3DUTF-8%22%20/%3E%0A%20%20%20%20%0A%20%20%20%20%20%20%20%20%3Cscript%3E%0A%20%20%20%20%20%20%20%20%20%20%20%20L_NO_TOUCH%20%3D%20false%3B%0A%20%20%20%20%20%20%20%20%20%20%20%20L_DISABLE_3D%20%3D%20false%3B%0A%20%20%20%20%20%20%20%20%3C/script%3E%0A%20%20%20%20%0A%20%20%20%20%3Cstyle%3Ehtml%2C%20body%20%7Bwidth%3A%20100%25%3Bheight%3A%20100%25%3Bmargin%3A%200%3Bpadding%3A%200%3B%7D%3C/style%3E%0A%20%20%20%20%3Cstyle%3E%23map%20%7Bposition%3Aabsolute%3Btop%3A0%3Bbottom%3A0%3Bright%3A0%3Bleft%3A0%3B%7D%3C/style%3E%0A%20%20%20%20%3Cscript%20src%3D%22https%3A//cdn.jsdelivr.net/npm/leaflet%401.6.0/dist/leaflet.js%22%3E%3C/script%3E%0A%20%20%20%20%3Cscript%20src%3D%22https%3A//code.jquery.com/jquery-1.12.4.min.js%22%3E%3C/script%3E%0A%20%20%20%20%3Cscript%20src%3D%22https%3A//maxcdn.bootstrapcdn.com/bootstrap/3.2.0/js/bootstrap.min.js%22%3E%3C/script%3E%0A%20%20%20%20%3Cscript%20src%3D%22https%3A//cdnjs.cloudflare.com/ajax/libs/Leaflet.awesome-markers/2.0.2/leaflet.awesome-markers.js%22%3E%3C/script%3E%0A%20%20%20%20%3Clink%20rel%3D%22stylesheet%22%20href%3D%22https%3A//cdn.jsdelivr.net/npm/leaflet%401.6.0/dist/leaflet.css%22/%3E%0A%20%20%20%20%3Clink%20rel%3D%22stylesheet%22%20href%3D%22https%3A//maxcdn.bootstrapcdn.com/bootstrap/3.2.0/css/bootstrap.min.css%22/%3E%0A%20%20%20%20%3Clink%20rel%3D%22stylesheet%22%20href%3D%22https%3A//maxcdn.bootstrapcdn.com/bootstrap/3.2.0/css/bootstrap-theme.min.css%22/%3E%0A%20%20%20%20%3Clink%20rel%3D%22stylesheet%22%20href%3D%22https%3A//maxcdn.bootstrapcdn.com/font-awesome/4.6.3/css/font-awesome.min.css%22/%3E%0A%20%20%20%20%3Clink%20rel%3D%22stylesheet%22%20href%3D%22https%3A//cdnjs.cloudflare.com/ajax/libs/Leaflet.awesome-markers/2.0.2/leaflet.awesome-markers.css%22/%3E%0A%20%20%20%20%3Clink%20rel%3D%22stylesheet%22%20href%3D%22https%3A//cdn.jsdelivr.net/gh/python-visualization/folium/folium/templates/leaflet.awesome.rotate.min.css%22/%3E%0A%20%20%20%20%0A%20%20%20%20%20%20%20%20%20%20%20%20%3Cmeta%20name%3D%22viewport%22%20content%3D%22width%3Ddevice-width%2C%0A%20%20%20%20%20%20%20%20%20%20%20%20%20%20%20%20initial-scale%3D1.0%2C%20maximum-scale%3D1.0%2C%20user-scalable%3Dno%22%20/%3E%0A%20%20%20%20%20%20%20%20%20%20%20%20%3Cstyle%3E%0A%20%20%20%20%20%20%20%20%20%20%20%20%20%20%20%20%23map_a6f3017eec4846989dfdb802a49ad48c%20%7B%0A%20%20%20%20%20%20%20%20%20%20%20%20%20%20%20%20%20%20%20%20position%3A%20relative%3B%0A%20%20%20%20%20%20%20%20%20%20%20%20%20%20%20%20%20%20%20%20width%3A%20100.0%25%3B%0A%20%20%20%20%20%20%20%20%20%20%20%20%20%20%20%20%20%20%20%20height%3A%20100.0%25%3B%0A%20%20%20%20%20%20%20%20%20%20%20%20%20%20%20%20%20%20%20%20left%3A%200.0%25%3B%0A%20%20%20%20%20%20%20%20%20%20%20%20%20%20%20%20%20%20%20%20top%3A%200.0%25%3B%0A%20%20%20%20%20%20%20%20%20%20%20%20%20%20%20%20%7D%0A%20%20%20%20%20%20%20%20%20%20%20%20%3C/style%3E%0A%20%20%20%20%20%20%20%20%0A%3C/head%3E%0A%3Cbody%3E%20%20%20%20%0A%20%20%20%20%0A%20%20%20%20%20%20%20%20%20%20%20%20%3Cdiv%20class%3D%22folium-map%22%20id%3D%22map_a6f3017eec4846989dfdb802a49ad48c%22%20%3E%3C/div%3E%0A%20%20%20%20%20%20%20%20%0A%3C/body%3E%0A%3Cscript%3E%20%20%20%20%0A%20%20%20%20%0A%20%20%20%20%20%20%20%20%20%20%20%20var%20map_a6f3017eec4846989dfdb802a49ad48c%20%3D%20L.map%28%0A%20%20%20%20%20%20%20%20%20%20%20%20%20%20%20%20%22map_a6f3017eec4846989dfdb802a49ad48c%22%2C%0A%20%20%20%20%20%20%20%20%20%20%20%20%20%20%20%20%7B%0A%20%20%20%20%20%20%20%20%20%20%20%20%20%20%20%20%20%20%20%20center%3A%20%5B33.3625%2C%20126.533694%5D%2C%0A%20%20%20%20%20%20%20%20%20%20%20%20%20%20%20%20%20%20%20%20crs%3A%20L.CRS.EPSG3857%2C%0A%20%20%20%20%20%20%20%20%20%20%20%20%20%20%20%20%20%20%20%20zoom%3A%2011%2C%0A%20%20%20%20%20%20%20%20%20%20%20%20%20%20%20%20%20%20%20%20zoomControl%3A%20true%2C%0A%20%20%20%20%20%20%20%20%20%20%20%20%20%20%20%20%20%20%20%20preferCanvas%3A%20false%2C%0A%20%20%20%20%20%20%20%20%20%20%20%20%20%20%20%20%7D%0A%20%20%20%20%20%20%20%20%20%20%20%20%29%3B%0A%0A%20%20%20%20%20%20%20%20%20%20%20%20%0A%0A%20%20%20%20%20%20%20%20%0A%20%20%20%20%0A%20%20%20%20%20%20%20%20%20%20%20%20var%20tile_layer_0d0a13b3075b4661bdee302a31fd40be%20%3D%20L.tileLayer%28%0A%20%20%20%20%20%20%20%20%20%20%20%20%20%20%20%20%22https%3A//%7Bs%7D.tile.openstreetmap.org/%7Bz%7D/%7Bx%7D/%7By%7D.png%22%2C%0A%20%20%20%20%20%20%20%20%20%20%20%20%20%20%20%20%7B%22attribution%22%3A%20%22Data%20by%20%5Cu0026copy%3B%20%5Cu003ca%20href%3D%5C%22http%3A//openstreetmap.org%5C%22%5Cu003eOpenStreetMap%5Cu003c/a%5Cu003e%2C%20under%20%5Cu003ca%20href%3D%5C%22http%3A//www.openstreetmap.org/copyright%5C%22%5Cu003eODbL%5Cu003c/a%5Cu003e.%22%2C%20%22detectRetina%22%3A%20false%2C%20%22maxNativeZoom%22%3A%2018%2C%20%22maxZoom%22%3A%2018%2C%20%22minZoom%22%3A%200%2C%20%22noWrap%22%3A%20false%2C%20%22opacity%22%3A%201%2C%20%22subdomains%22%3A%20%22abc%22%2C%20%22tms%22%3A%20false%7D%0A%20%20%20%20%20%20%20%20%20%20%20%20%29.addTo%28map_a6f3017eec4846989dfdb802a49ad48c%29%3B%0A%20%20%20%20%20%20%20%20%0A%20%20%20%20%0A%20%20%20%20%20%20%20%20%20%20%20%20var%20circle_marker_98a47204e095437c9db191acdb65773b%20%3D%20L.circleMarker%28%0A%20%20%20%20%20%20%20%20%20%20%20%20%20%20%20%20%5B33.2868369487956%2C%20126.328214069844%5D%2C%0A%20%20%20%20%20%20%20%20%20%20%20%20%20%20%20%20%7B%22bubblingMouseEvents%22%3A%20true%2C%20%22color%22%3A%20%22red%22%2C%20%22dashArray%22%3A%20null%2C%20%22dashOffset%22%3A%20null%2C%20%22fill%22%3A%20false%2C%20%22fillColor%22%3A%20%22red%22%2C%20%22fillOpacity%22%3A%200.2%2C%20%22fillRule%22%3A%20%22evenodd%22%2C%20%22lineCap%22%3A%20%22round%22%2C%20%22lineJoin%22%3A%20%22round%22%2C%20%22opacity%22%3A%201.0%2C%20%22radius%22%3A%2010%2C%20%22stroke%22%3A%20true%2C%20%22weight%22%3A%203%7D%0A%20%20%20%20%20%20%20%20%20%20%20%20%29.addTo%28map_a6f3017eec4846989dfdb802a49ad48c%29%3B%0A%20%20%20%20%20%20%20%20%0A%20%20%20%20%0A%20%20%20%20%20%20%20%20var%20popup_095f72cb9b1c48ca82d39751be654c86%20%3D%20L.popup%28%7B%22maxWidth%22%3A%20%22100%25%22%7D%29%3B%0A%0A%20%20%20%20%20%20%20%20%0A%20%20%20%20%20%20%20%20%20%20%20%20var%20html_e8cafb65965f420893c22928ecfa31fa%20%3D%20%24%28%60%3Cdiv%20id%3D%22html_e8cafb65965f420893c22928ecfa31fa%22%20style%3D%22width%3A%20100.0%25%3B%20height%3A%20100.0%25%3B%22%3E%EB%B4%89%EC%9C%A0%3C/div%3E%60%29%5B0%5D%3B%0A%20%20%20%20%20%20%20%20%20%20%20%20popup_095f72cb9b1c48ca82d39751be654c86.setContent%28html_e8cafb65965f420893c22928ecfa31fa%29%3B%0A%20%20%20%20%20%20%20%20%0A%0A%20%20%20%20%20%20%20%20circle_marker_98a47204e095437c9db191acdb65773b.bindPopup%28popup_095f72cb9b1c48ca82d39751be654c86%29%0A%20%20%20%20%20%20%20%20%3B%0A%0A%20%20%20%20%20%20%20%20%0A%20%20%20%20%0A%20%20%20%20%0A%20%20%20%20%20%20%20%20%20%20%20%20var%20circle_marker_deb59e0296fa4a97ae5739a8076b50bd%20%3D%20L.circleMarker%28%0A%20%20%20%20%20%20%20%20%20%20%20%20%20%20%20%20%5B33.46101052414326%2C%20126.93382397984439%5D%2C%0A%20%20%20%20%20%20%20%20%20%20%20%20%20%20%20%20%7B%22bubblingMouseEvents%22%3A%20true%2C%20%22color%22%3A%20%22red%22%2C%20%22dashArray%22%3A%20null%2C%20%22dashOffset%22%3A%20null%2C%20%22fill%22%3A%20false%2C%20%22fillColor%22%3A%20%22red%22%2C%20%22fillOpacity%22%3A%200.2%2C%20%22fillRule%22%3A%20%22evenodd%22%2C%20%22lineCap%22%3A%20%22round%22%2C%20%22lineJoin%22%3A%20%22round%22%2C%20%22opacity%22%3A%201.0%2C%20%22radius%22%3A%2010%2C%20%22stroke%22%3A%20true%2C%20%22weight%22%3A%203%7D%0A%20%20%20%20%20%20%20%20%20%20%20%20%29.addTo%28map_a6f3017eec4846989dfdb802a49ad48c%29%3B%0A%20%20%20%20%20%20%20%20%0A%20%20%20%20%0A%20%20%20%20%20%20%20%20var%20popup_8baad1bc7cd844dc8ca741fce4304a59%20%3D%20L.popup%28%7B%22maxWidth%22%3A%20%22100%25%22%7D%29%3B%0A%0A%20%20%20%20%20%20%20%20%0A%20%20%20%20%20%20%20%20%20%20%20%20var%20html_a0c8f20cc961489d8e5cbdbfdb13c963%20%3D%20%24%28%60%3Cdiv%20id%3D%22html_a0c8f20cc961489d8e5cbdbfdb13c963%22%20style%3D%22width%3A%20100.0%25%3B%20height%3A%20100.0%25%3B%22%3E%EC%88%98%EB%A7%88%3C/div%3E%60%29%5B0%5D%3B%0A%20%20%20%20%20%20%20%20%20%20%20%20popup_8baad1bc7cd844dc8ca741fce4304a59.setContent%28html_a0c8f20cc961489d8e5cbdbfdb13c963%29%3B%0A%20%20%20%20%20%20%20%20%0A%0A%20%20%20%20%20%20%20%20circle_marker_deb59e0296fa4a97ae5739a8076b50bd.bindPopup%28popup_8baad1bc7cd844dc8ca741fce4304a59%29%0A%20%20%20%20%20%20%20%20%3B%0A%0A%20%20%20%20%20%20%20%20%0A%20%20%20%20%0A%20%20%20%20%0A%20%20%20%20%20%20%20%20%20%20%20%20var%20circle_marker_abcf2dd610c040c792252225830ef23a%20%3D%20L.circleMarker%28%0A%20%20%20%20%20%20%20%20%20%20%20%20%20%20%20%20%5B33.24991509958467%2C%20126.56384869150997%5D%2C%0A%20%20%20%20%20%20%20%20%20%20%20%20%20%20%20%20%7B%22bubblingMouseEvents%22%3A%20true%2C%20%22color%22%3A%20%22red%22%2C%20%22dashArray%22%3A%20null%2C%20%22dashOffset%22%3A%20null%2C%20%22fill%22%3A%20false%2C%20%22fillColor%22%3A%20%22red%22%2C%20%22fillOpacity%22%3A%200.2%2C%20%22fillRule%22%3A%20%22evenodd%22%2C%20%22lineCap%22%3A%20%22round%22%2C%20%22lineJoin%22%3A%20%22round%22%2C%20%22opacity%22%3A%201.0%2C%20%22radius%22%3A%2010%2C%20%22stroke%22%3A%20true%2C%20%22weight%22%3A%203%7D%0A%20%20%20%20%20%20%20%20%20%20%20%20%29.addTo%28map_a6f3017eec4846989dfdb802a49ad48c%29%3B%0A%20%20%20%20%20%20%20%20%0A%20%20%20%20%0A%20%20%20%20%20%20%20%20var%20popup_653e2fa0296f4eff8291bfd918c1b7dd%20%3D%20L.popup%28%7B%22maxWidth%22%3A%20%22100%25%22%7D%29%3B%0A%0A%20%20%20%20%20%20%20%20%0A%20%20%20%20%20%20%20%20%20%20%20%20var%20html_8c5e594f1b0747a7902f27e294ad4f1f%20%3D%20%24%28%60%3Cdiv%20id%3D%22html_8c5e594f1b0747a7902f27e294ad4f1f%22%20style%3D%22width%3A%20100.0%25%3B%20height%3A%20100.0%25%3B%22%3E%EC%84%9C%EA%B7%80%ED%8F%AC%EB%A7%A4%EC%9D%BC%EC%98%AC%EB%A0%88%EC%8B%9C%EC%9E%A5%3C/div%3E%60%29%5B0%5D%3B%0A%20%20%20%20%20%20%20%20%20%20%20%20popup_653e2fa0296f4eff8291bfd918c1b7dd.setContent%28html_8c5e594f1b0747a7902f27e294ad4f1f%29%3B%0A%20%20%20%20%20%20%20%20%0A%0A%20%20%20%20%20%20%20%20circle_marker_abcf2dd610c040c792252225830ef23a.bindPopup%28popup_653e2fa0296f4eff8291bfd918c1b7dd%29%0A%20%20%20%20%20%20%20%20%3B%0A%0A%20%20%20%20%20%20%20%20%0A%20%20%20%20%0A%20%20%20%20%0A%20%20%20%20%20%20%20%20%20%20%20%20var%20circle_marker_d46a0004ebb8456ab674f54bf39e3153%20%3D%20L.circleMarker%28%0A%20%20%20%20%20%20%20%20%20%20%20%20%20%20%20%20%5B33.4506575078278%2C%20126.304673157235%5D%2C%0A%20%20%20%20%20%20%20%20%20%20%20%20%20%20%20%20%7B%22bubblingMouseEvents%22%3A%20true%2C%20%22color%22%3A%20%22red%22%2C%20%22dashArray%22%3A%20null%2C%20%22dashOffset%22%3A%20null%2C%20%22fill%22%3A%20false%2C%20%22fillColor%22%3A%20%22red%22%2C%20%22fillOpacity%22%3A%200.2%2C%20%22fillRule%22%3A%20%22evenodd%22%2C%20%22lineCap%22%3A%20%22round%22%2C%20%22lineJoin%22%3A%20%22round%22%2C%20%22opacity%22%3A%201.0%2C%20%22radius%22%3A%2010%2C%20%22stroke%22%3A%20true%2C%20%22weight%22%3A%203%7D%0A%20%20%20%20%20%20%20%20%20%20%20%20%29.addTo%28map_a6f3017eec4846989dfdb802a49ad48c%29%3B%0A%20%20%20%20%20%20%20%20%0A%20%20%20%20%0A%20%20%20%20%20%20%20%20var%20popup_e6f708740db0479bbe2168ff31797fd2%20%3D%20L.popup%28%7B%22maxWidth%22%3A%20%22100%25%22%7D%29%3B%0A%0A%20%20%20%20%20%20%20%20%0A%20%20%20%20%20%20%20%20%20%20%20%20var%20html_b2ec011fa02f408a8d7f48b50ca15a4d%20%3D%20%24%28%60%3Cdiv%20id%3D%22html_b2ec011fa02f408a8d7f48b50ca15a4d%22%20style%3D%22width%3A%20100.0%25%3B%20height%3A%20100.0%25%3B%22%3E%EA%B3%BD%EC%A7%80%ED%95%B4%EC%88%98%EC%9A%95%EC%9E%A5%3C/div%3E%60%29%5B0%5D%3B%0A%20%20%20%20%20%20%20%20%20%20%20%20popup_e6f708740db0479bbe2168ff31797fd2.setContent%28html_b2ec011fa02f408a8d7f48b50ca15a4d%29%3B%0A%20%20%20%20%20%20%20%20%0A%0A%20%20%20%20%20%20%20%20circle_marker_d46a0004ebb8456ab674f54bf39e3153.bindPopup%28popup_e6f708740db0479bbe2168ff31797fd2%29%0A%20%20%20%20%20%20%20%20%3B%0A%0A%20%20%20%20%20%20%20%20%0A%20%20%20%20%0A%20%20%20%20%0A%20%20%20%20%20%20%20%20%20%20%20%20var%20circle_marker_49a3c6d97ac1435181359102b83a7789%20%3D%20L.circleMarker%28%0A%20%20%20%20%20%20%20%20%20%20%20%20%20%20%20%20%5B33.46331725259%2C%20126.31010539641%5D%2C%0A%20%20%20%20%20%20%20%20%20%20%20%20%20%20%20%20%7B%22bubblingMouseEvents%22%3A%20true%2C%20%22color%22%3A%20%22red%22%2C%20%22dashArray%22%3A%20null%2C%20%22dashOffset%22%3A%20null%2C%20%22fill%22%3A%20false%2C%20%22fillColor%22%3A%20%22red%22%2C%20%22fillOpacity%22%3A%200.2%2C%20%22fillRule%22%3A%20%22evenodd%22%2C%20%22lineCap%22%3A%20%22round%22%2C%20%22lineJoin%22%3A%20%22round%22%2C%20%22opacity%22%3A%201.0%2C%20%22radius%22%3A%2010%2C%20%22stroke%22%3A%20true%2C%20%22weight%22%3A%203%7D%0A%20%20%20%20%20%20%20%20%20%20%20%20%29.addTo%28map_a6f3017eec4846989dfdb802a49ad48c%29%3B%0A%20%20%20%20%20%20%20%20%0A%20%20%20%20%0A%20%20%20%20%20%20%20%20var%20popup_ef516be5619744fd80f53d791c6aa950%20%3D%20L.popup%28%7B%22maxWidth%22%3A%20%22100%25%22%7D%29%3B%0A%0A%20%20%20%20%20%20%20%20%0A%20%20%20%20%20%20%20%20%20%20%20%20var%20html_f9a00dbe40e14c758d98a6cc5f6e8be1%20%3D%20%24%28%60%3Cdiv%20id%3D%22html_f9a00dbe40e14c758d98a6cc5f6e8be1%22%20style%3D%22width%3A%20100.0%25%3B%20height%3A%20100.0%25%3B%22%3E%EC%A0%9C%EC%A3%BC%EB%B0%98%EB%94%A7%EB%B6%88%ED%95%9C%EB%8B%B4%20%EC%95%A0%EC%9B%94%EC%A0%90%3C/div%3E%60%29%5B0%5D%3B%0A%20%20%20%20%20%20%20%20%20%20%20%20popup_ef516be5619744fd80f53d791c6aa950.setContent%28html_f9a00dbe40e14c758d98a6cc5f6e8be1%29%3B%0A%20%20%20%20%20%20%20%20%0A%0A%20%20%20%20%20%20%20%20circle_marker_49a3c6d97ac1435181359102b83a7789.bindPopup%28popup_ef516be5619744fd80f53d791c6aa950%29%0A%20%20%20%20%20%20%20%20%3B%0A%0A%20%20%20%20%20%20%20%20%0A%20%20%20%20%0A%20%20%20%20%0A%20%20%20%20%20%20%20%20%20%20%20%20var%20circle_marker_e48d1cf3b8d64f04aa1679e935cb4fd8%20%3D%20L.circleMarker%28%0A%20%20%20%20%20%20%20%20%20%20%20%20%20%20%20%20%5B36.6117190324835%2C%20127.466528359559%5D%2C%0A%20%20%20%20%20%20%20%20%20%20%20%20%20%20%20%20%7B%22bubblingMouseEvents%22%3A%20true%2C%20%22color%22%3A%20%22red%22%2C%20%22dashArray%22%3A%20null%2C%20%22dashOffset%22%3A%20null%2C%20%22fill%22%3A%20false%2C%20%22fillColor%22%3A%20%22red%22%2C%20%22fillOpacity%22%3A%200.2%2C%20%22fillRule%22%3A%20%22evenodd%22%2C%20%22lineCap%22%3A%20%22round%22%2C%20%22lineJoin%22%3A%20%22round%22%2C%20%22opacity%22%3A%201.0%2C%20%22radius%22%3A%2010%2C%20%22stroke%22%3A%20true%2C%20%22weight%22%3A%203%7D%0A%20%20%20%20%20%20%20%20%20%20%20%20%29.addTo%28map_a6f3017eec4846989dfdb802a49ad48c%29%3B%0A%20%20%20%20%20%20%20%20%0A%20%20%20%20%0A%20%20%20%20%20%20%20%20var%20popup_4fb0c9ff3d774e35bfdbb2f2a9b400b5%20%3D%20L.popup%28%7B%22maxWidth%22%3A%20%22100%25%22%7D%29%3B%0A%0A%20%20%20%20%20%20%20%20%0A%20%20%20%20%20%20%20%20%20%20%20%20var%20html_a6238e57ba944b4591e7c96eed4cf63d%20%3D%20%24%28%60%3Cdiv%20id%3D%22html_a6238e57ba944b4591e7c96eed4cf63d%22%20style%3D%22width%3A%20100.0%25%3B%20height%3A%20100.0%25%3B%22%3E%EC%B0%A9%ED%95%9C%EC%A0%84%EB%B3%B5%20%EC%B2%AD%EC%A3%BC%EC%A0%90%3C/div%3E%60%29%5B0%5D%3B%0A%20%20%20%20%20%20%20%20%20%20%20%20popup_4fb0c9ff3d774e35bfdbb2f2a9b400b5.setContent%28html_a6238e57ba944b4591e7c96eed4cf63d%29%3B%0A%20%20%20%20%20%20%20%20%0A%0A%20%20%20%20%20%20%20%20circle_marker_e48d1cf3b8d64f04aa1679e935cb4fd8.bindPopup%28popup_4fb0c9ff3d774e35bfdbb2f2a9b400b5%29%0A%20%20%20%20%20%20%20%20%3B%0A%0A%20%20%20%20%20%20%20%20%0A%20%20%20%20%0A%20%20%20%20%0A%20%20%20%20%20%20%20%20%20%20%20%20var%20circle_marker_016071f6eeca470c8fa5d2ab8af24d5d%20%3D%20L.circleMarker%28%0A%20%20%20%20%20%20%20%20%20%20%20%20%20%20%20%20%5B37.4936703595667%2C%20127.136749964615%5D%2C%0A%20%20%20%20%20%20%20%20%20%20%20%20%20%20%20%20%7B%22bubblingMouseEvents%22%3A%20true%2C%20%22color%22%3A%20%22red%22%2C%20%22dashArray%22%3A%20null%2C%20%22dashOffset%22%3A%20null%2C%20%22fill%22%3A%20false%2C%20%22fillColor%22%3A%20%22red%22%2C%20%22fillOpacity%22%3A%200.2%2C%20%22fillRule%22%3A%20%22evenodd%22%2C%20%22lineCap%22%3A%20%22round%22%2C%20%22lineJoin%22%3A%20%22round%22%2C%20%22opacity%22%3A%201.0%2C%20%22radius%22%3A%2010%2C%20%22stroke%22%3A%20true%2C%20%22weight%22%3A%203%7D%0A%20%20%20%20%20%20%20%20%20%20%20%20%29.addTo%28map_a6f3017eec4846989dfdb802a49ad48c%29%3B%0A%20%20%20%20%20%20%20%20%0A%20%20%20%20%0A%20%20%20%20%20%20%20%20var%20popup_835ad58c83ac489ea0943b6f0516ad57%20%3D%20L.popup%28%7B%22maxWidth%22%3A%20%22100%25%22%7D%29%3B%0A%0A%20%20%20%20%20%20%20%20%0A%20%20%20%20%20%20%20%20%20%20%20%20var%20html_4acc0d1fe89a45d1b9afa6950cadad3e%20%3D%20%24%28%60%3Cdiv%20id%3D%22html_4acc0d1fe89a45d1b9afa6950cadad3e%22%20style%3D%22width%3A%20100.0%25%3B%20height%3A%20100.0%25%3B%22%3E%ED%92%8D%EC%B2%9C%EC%9E%A5%EC%96%B4%3C/div%3E%60%29%5B0%5D%3B%0A%20%20%20%20%20%20%20%20%20%20%20%20popup_835ad58c83ac489ea0943b6f0516ad57.setContent%28html_4acc0d1fe89a45d1b9afa6950cadad3e%29%3B%0A%20%20%20%20%20%20%20%20%0A%0A%20%20%20%20%20%20%20%20circle_marker_016071f6eeca470c8fa5d2ab8af24d5d.bindPopup%28popup_835ad58c83ac489ea0943b6f0516ad57%29%0A%20%20%20%20%20%20%20%20%3B%0A%0A%20%20%20%20%20%20%20%20%0A%20%20%20%20%0A%20%20%20%20%0A%20%20%20%20%20%20%20%20%20%20%20%20var%20circle_marker_b489a78b5f1946589e89292011a460c7%20%3D%20L.circleMarker%28%0A%20%20%20%20%20%20%20%20%20%20%20%20%20%20%20%20%5B33.50061881499584%2C%20126.5294950423096%5D%2C%0A%20%20%20%20%20%20%20%20%20%20%20%20%20%20%20%20%7B%22bubblingMouseEvents%22%3A%20true%2C%20%22color%22%3A%20%22red%22%2C%20%22dashArray%22%3A%20null%2C%20%22dashOffset%22%3A%20null%2C%20%22fill%22%3A%20false%2C%20%22fillColor%22%3A%20%22red%22%2C%20%22fillOpacity%22%3A%200.2%2C%20%22fillRule%22%3A%20%22evenodd%22%2C%20%22lineCap%22%3A%20%22round%22%2C%20%22lineJoin%22%3A%20%22round%22%2C%20%22opacity%22%3A%201.0%2C%20%22radius%22%3A%2010%2C%20%22stroke%22%3A%20true%2C%20%22weight%22%3A%203%7D%0A%20%20%20%20%20%20%20%20%20%20%20%20%29.addTo%28map_a6f3017eec4846989dfdb802a49ad48c%29%3B%0A%20%20%20%20%20%20%20%20%0A%20%20%20%20%0A%20%20%20%20%20%20%20%20var%20popup_730db52de40741aab5b5e2fb9789af09%20%3D%20L.popup%28%7B%22maxWidth%22%3A%20%22100%25%22%7D%29%3B%0A%0A%20%20%20%20%20%20%20%20%0A%20%20%20%20%20%20%20%20%20%20%20%20var%20html_d381baa14c4043bcb876747ef1889b3d%20%3D%20%24%28%60%3Cdiv%20id%3D%22html_d381baa14c4043bcb876747ef1889b3d%22%20style%3D%22width%3A%20100.0%25%3B%20height%3A%20100.0%25%3B%22%3E%EB%8B%A4%EC%9D%B4%EC%86%8C%20%EC%A0%9C%EC%A3%BC%EC%8B%9C%EC%B2%AD%EC%A0%90%3C/div%3E%60%29%5B0%5D%3B%0A%20%20%20%20%20%20%20%20%20%20%20%20popup_730db52de40741aab5b5e2fb9789af09.setContent%28html_d381baa14c4043bcb876747ef1889b3d%29%3B%0A%20%20%20%20%20%20%20%20%0A%0A%20%20%20%20%20%20%20%20circle_marker_b489a78b5f1946589e89292011a460c7.bindPopup%28popup_730db52de40741aab5b5e2fb9789af09%29%0A%20%20%20%20%20%20%20%20%3B%0A%0A%20%20%20%20%20%20%20%20%0A%20%20%20%20%0A%20%20%20%20%0A%20%20%20%20%20%20%20%20%20%20%20%20var%20circle_marker_5be27c5cd20845d08648d0d8ffb87ed4%20%3D%20L.circleMarker%28%0A%20%20%20%20%20%20%20%20%20%20%20%20%20%20%20%20%5B33.5115187080468%2C%20126.520003422855%5D%2C%0A%20%20%20%20%20%20%20%20%20%20%20%20%20%20%20%20%7B%22bubblingMouseEvents%22%3A%20true%2C%20%22color%22%3A%20%22red%22%2C%20%22dashArray%22%3A%20null%2C%20%22dashOffset%22%3A%20null%2C%20%22fill%22%3A%20false%2C%20%22fillColor%22%3A%20%22red%22%2C%20%22fillOpacity%22%3A%200.2%2C%20%22fillRule%22%3A%20%22evenodd%22%2C%20%22lineCap%22%3A%20%22round%22%2C%20%22lineJoin%22%3A%20%22round%22%2C%20%22opacity%22%3A%201.0%2C%20%22radius%22%3A%2010%2C%20%22stroke%22%3A%20true%2C%20%22weight%22%3A%203%7D%0A%20%20%20%20%20%20%20%20%20%20%20%20%29.addTo%28map_a6f3017eec4846989dfdb802a49ad48c%29%3B%0A%20%20%20%20%20%20%20%20%0A%20%20%20%20%0A%20%20%20%20%20%20%20%20var%20popup_6e8c1968ad8244cab33fcc0deb5a3ff5%20%3D%20L.popup%28%7B%22maxWidth%22%3A%20%22100%25%22%7D%29%3B%0A%0A%20%20%20%20%20%20%20%20%0A%20%20%20%20%20%20%20%20%20%20%20%20var%20html_2965fe0c06464f40b1e14ce0dd25d203%20%3D%20%24%28%60%3Cdiv%20id%3D%22html_2965fe0c06464f40b1e14ce0dd25d203%22%20style%3D%22width%3A%20100.0%25%3B%20height%3A%20100.0%25%3B%22%3E%EC%9A%B0%EC%A7%84%ED%95%B4%EC%9E%A5%EA%B5%AD%3C/div%3E%60%29%5B0%5D%3B%0A%20%20%20%20%20%20%20%20%20%20%20%20popup_6e8c1968ad8244cab33fcc0deb5a3ff5.setContent%28html_2965fe0c06464f40b1e14ce0dd25d203%29%3B%0A%20%20%20%20%20%20%20%20%0A%0A%20%20%20%20%20%20%20%20circle_marker_5be27c5cd20845d08648d0d8ffb87ed4.bindPopup%28popup_6e8c1968ad8244cab33fcc0deb5a3ff5%29%0A%20%20%20%20%20%20%20%20%3B%0A%0A%20%20%20%20%20%20%20%20%0A%20%20%20%20%0A%3C/script%3E onload=\"this.contentDocument.open();this.contentDocument.write(    decodeURIComponent(this.getAttribute('data-html')));this.contentDocument.close();\" allowfullscreen webkitallowfullscreen mozallowfullscreen></iframe></div></div>"
      ],
      "text/plain": [
       "<folium.folium.Map at 0x19d9d659710>"
      ]
     },
     "execution_count": 29,
     "metadata": {},
     "output_type": "execute_result"
    }
   ],
   "source": [
    "import folium\n",
    "\n",
    "Mt_Hanla =[33.362500, 126.533694]\n",
    "map_jeju = folium.Map(location = Mt_Hanla, zoom_start = 11)\n",
    "\n",
    "for i in range(len(loc_info_df)):\n",
    "    name = loc_info_df['name_official'][i]\n",
    "    long = float(loc_info_df['위도'][i])\n",
    "    lat = float(loc_info_df['경도'][i])\n",
    "    folium.CircleMarker((long,lat) , radius = 10 , color = \"red\" , popup = name).add_to(map_jeju)\n",
    "map_jeju"
   ]
  },
  {
   "cell_type": "code",
   "execution_count": null,
   "metadata": {},
   "outputs": [],
   "source": [
    "\n",
    "from folium.plugins import MarkerCluster\n",
    "\n",
    "locations = []\n",
    "names = []\n",
    "\n",
    "for i in range(len(loc_info_df))"
   ]
  },
  {
   "cell_type": "code",
   "execution_count": 43,
   "metadata": {},
   "outputs": [
    {
     "name": "stdout",
     "output_type": "stream",
     "text": [
      "\n",
      "\n",
      "파일을 복사하는 함수를 테스트중입ㄴ다\n",
      "\n",
      "가나다라마\n",
      "\n",
      "abcdefg\n",
      "하하호호히히\n",
      "\n",
      "감사합니다 테스트를 종료합니다.\n",
      "\n"
     ]
    }
   ],
   "source": [
    "\n",
    "#-*- coding:utf-8 -*-\n",
    "\n",
    "with open(\"sample.txt\",\"rt\" , encoding=\"utf-8\") as f:\n",
    "    with open(\"sample2.txt\" , \"wt\", encoding=\"utf-8\") as f2:\n",
    "        text = f.read()\n",
    "        f2.write(text)\n",
    "        print(text)\n",
    "    \n",
    "    \n",
    "\n",
    "\n"
   ]
  },
  {
   "cell_type": "code",
   "execution_count": 44,
   "metadata": {},
   "outputs": [
    {
     "name": "stdout",
     "output_type": "stream",
     "text": [
      "\n",
      "\n",
      "파일을 복사하는 함수를 테스트중입ㄴ다\n",
      "\n",
      "가나다라마\n",
      "\n",
      "abcdefg\n",
      "하하호호히히\n",
      "\n",
      "감사합니다 테스트를 종료합니다.\n",
      "\n"
     ]
    }
   ],
   "source": [
    "with open(\"sample2.txt\",\"rt\" , encoding=\"utf-8\") as f:\n",
    "    text = f.read()\n",
    "\n",
    "    print(text)\n",
    "    "
   ]
  },
  {
   "cell_type": "code",
   "execution_count": null,
   "metadata": {},
   "outputs": [],
   "source": []
  }
 ],
 "metadata": {
  "kernelspec": {
   "display_name": "Python 3",
   "language": "python",
   "name": "python3"
  },
  "language_info": {
   "codemirror_mode": {
    "name": "ipython",
    "version": 3
   },
   "file_extension": ".py",
   "mimetype": "text/x-python",
   "name": "python",
   "nbconvert_exporter": "python",
   "pygments_lexer": "ipython3",
   "version": "3.7.3"
  }
 },
 "nbformat": 4,
 "nbformat_minor": 4
}
