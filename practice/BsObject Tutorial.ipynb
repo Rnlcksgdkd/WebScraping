{
 "cells": [
  {
   "cell_type": "code",
   "execution_count": 4,
   "metadata": {},
   "outputs": [
    {
     "name": "stdout",
     "output_type": "stream",
     "text": [
      "[]\n"
     ]
    }
   ],
   "source": [
    "\n",
    "## BeautifulSoup 라이브러리 사용방법에 대해서 다루는 문서입니당\n",
    "\n",
    "\n",
    "# import\n",
    "from urllib.request import urlopen\n",
    "from bs4 import BeautifulSoup\n",
    "\n",
    "# html 불러와서 bsOject 생성 , bsObject 는 코드로 이루어진 한 덩어리 객체인듯? \n",
    "html = urlopen('http://naver.com')\n",
    "bsObject = BeautifulSoup(html, \"html.parser\")\n",
    "\n",
    "# find_all 함수 , 해당 태그를 갖는 모든 객체들을 찾는다\n",
    "output = bsObject.find_all('div', {'class':'detail'})\n",
    "\n",
    "# select 함수 (html 코드(태그) 안에 들어가 있는 태그를 불러올 때 사용)\n",
    "    # 리턴이 리스트 형태이므로 값을 쓰기위해서는 [0] 붙이고 이용\n",
    "\n",
    "    # select 는 태그 속성값에 대해서 검색하지 못한다 (그냥 태그값만 찾는다)\n",
    "    \n",
    "    \n",
    "# get 함수 (태그 안에 속성값 불러올 때 사용)\n",
    "\n",
    "# get_text 함수 (태그 사이에 들어가있는 값을 추출할 때 사용)\n",
    "\n"
   ]
  },
  {
   "cell_type": "code",
   "execution_count": null,
   "metadata": {},
   "outputs": [],
   "source": [
    "\n",
    "\n",
    "# 크롤링을 잘할려면 결국 웹페이즈 구성 원리를 알아야댐!!!!!!!!!!!"
   ]
  },
  {
   "cell_type": "code",
   "execution_count": null,
   "metadata": {},
   "outputs": [],
   "source": [
    "\n",
    "csv 작성방법"
   ]
  }
 ],
 "metadata": {
  "kernelspec": {
   "display_name": "Python 3",
   "language": "python",
   "name": "python3"
  },
  "language_info": {
   "codemirror_mode": {
    "name": "ipython",
    "version": 3
   },
   "file_extension": ".py",
   "mimetype": "text/x-python",
   "name": "python",
   "nbconvert_exporter": "python",
   "pygments_lexer": "ipython3",
   "version": "3.7.3"
  }
 },
 "nbformat": 4,
 "nbformat_minor": 2
}
