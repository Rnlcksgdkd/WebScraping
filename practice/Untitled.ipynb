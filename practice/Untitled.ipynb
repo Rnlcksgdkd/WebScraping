{
 "cells": [
  {
   "cell_type": "code",
   "execution_count": 25,
   "metadata": {},
   "outputs": [],
   "source": [
    "\n",
    "from urllib.request import urlopen\n",
    "import time\n",
    "import threading\n",
    "import sys\n",
    "from bs4 import BeautifulSoup\n",
    "import os\n",
    "import requests\n",
    "import urllib.request\n",
    "from hashlib import sha1\n",
    "import telegram   #텔레그램 모듈을 가져옵니다.\n",
    "\n",
    "\n",
    "# 스르래핑 봇 클래스 정의\n",
    "class scrapping_bot:\n",
    "    \n",
    "    def __init__(self , url , dic):\n",
    "        \n",
    "        self.main_url = url\n",
    "        self.data_format = dic\n",
    "        \n",
    "        # 저장 캐쉬 확인\n",
    "   \n",
    "    \n",
    "    def update_scrapping():\n",
    "        pass\n",
    "    \n",
    "    # 다음 페이지로\n",
    "    def next_page():\n",
    "        pass\n",
    "    \n",
    "    # 이전 페이지로\n",
    "    def prev_page():\n",
    "        pass\n",
    "    \n",
    "    # 엑셀로 저장\n",
    "    def save_xlsx():\n",
    "        pass\n",
    "    \n",
    "    \n",
    "    pass"
   ]
  },
  {
   "cell_type": "code",
   "execution_count": 30,
   "metadata": {},
   "outputs": [
    {
     "data": {
      "text/plain": [
       "{'a': 4}"
      ]
     },
     "execution_count": 30,
     "metadata": {},
     "output_type": "execute_result"
    }
   ],
   "source": [
    "\n",
    "\n",
    "dic = {}\n",
    "dic[\"a\"] = 4\n",
    "dic"
   ]
  },
  {
   "cell_type": "code",
   "execution_count": 15,
   "metadata": {},
   "outputs": [
    {
     "name": "stdout",
     "output_type": "stream",
     "text": [
      "a.product-link.js-product-link\n",
      "\n",
      "Goliath Gang£18.00\n",
      "\n",
      "Palanite Enforcer Patrol£10.00\n",
      "\n",
      "Van Saar Gang£19.00\n",
      "\n",
      "Delaque Gang£18.00\n",
      "\n",
      "Cawdor Gang£19.00\n",
      "\n",
      "Adeptus Arbites Bolt Guns£27.00\n",
      "\n",
      "Crimson Hunter£38.00\n",
      "\n",
      "Adeptus Arbites Grenade Launcher£10.00\n",
      "\n",
      "Hemlock Wraithfighter£38.00\n",
      "\n",
      "Fire Prism£24.00\n",
      "\n",
      "Wave Serpent£20.00\n",
      "\n",
      "Adeptus Arbites Shotgun£10.00\n",
      "\n",
      "Adeptus Arbites Shotgun£10.00\n",
      "\n",
      "Fire Prism£24.00\n",
      "\n",
      "Fire Prism£24.00\n",
      "\n",
      "Adeptus Arbites Heavy Stubber£20.00\n",
      "\n",
      "Adeptus Arbites Grenade Launcher£10.00\n",
      "\n",
      "Farseer Skyrunner£22.00\n",
      "\n",
      "Farseer Skyrunner£22.00\n",
      "\n",
      "Farseer Skyrunner£15.00\n",
      "\n",
      "Support Weapon£10.00\n",
      "\n",
      "Support Weapon£10.00\n",
      "\n",
      "Support Weapon£10.00\n",
      "\n",
      "War Walker£20.00\n",
      "\n",
      "Guardians£13.00\n",
      "\n",
      "Adeptus Arbites Flamer£15.00\n",
      "\n",
      "Guardians£13.00\n",
      "\n",
      "Amber Wizard£40.00\n",
      "\n",
      "Guardians£10.00\n",
      "\n",
      "Shining Spears£35.00\n",
      "\n",
      "Skyweaver£10.00\n",
      "\n",
      "Skyweaver£10.00\n",
      "\n",
      "Skyweaver£10.00\n",
      "\n",
      "Skyweaver£10.00\n",
      "\n",
      "Harlequin Troupe£27.00\n",
      "\n",
      "Dire Avengers£15.00\n",
      "\n",
      "Dire Avengers£15.00\n",
      "\n",
      "Dark Reapers£21.00\n",
      "\n",
      "Epic Valkyrie£40.00\n",
      "\n",
      "Epic Eldar Support Platforms£20.00\n",
      "\n",
      "Epic chimera£12.00\n",
      "\n",
      "Epic Chimera£8.00\n",
      "\n",
      "Epic Chimera£8.00\n",
      "\n",
      "Epic Leman Russ Tanks£9.00\n",
      "\n",
      "Epic bombard£21.00\n",
      "\n",
      "Epic Hydras£15.00\n",
      "\n",
      "Epic Doomweaver£24.00\n",
      "\n",
      "Epic Bloodthirster£14.00\n"
     ]
    }
   ],
   "source": [
    "url = \"https://thetrolltrader.com/collections/new\"\n",
    "\n",
    "dic = { \"name price\" : \"a.product-link.js-product-link\" , \"link\"}\n",
    "\n",
    "\n",
    "html = urlopen(url)\n",
    "bs = BeautifulSoup(html , \"lxml\")\n",
    "\n",
    "bs\n",
    "for key in dic.keys():\n",
    "    print(dic[key])\n",
    "    for b in bs.select(dic[key]):\n",
    "        print(b.text.strip().replace(\"\\n\" , \"\"))\n",
    "\n",
    "    \n"
   ]
  },
  {
   "cell_type": "code",
   "execution_count": 17,
   "metadata": {},
   "outputs": [
    {
     "data": {
      "text/plain": [
       "'/collections/new/products/goliath-gang-20'"
      ]
     },
     "execution_count": 17,
     "metadata": {},
     "output_type": "execute_result"
    }
   ],
   "source": [
    "bs.select(\"a.product-link.js-product-link\")[0].get(\"href\")"
   ]
  },
  {
   "cell_type": "code",
   "execution_count": null,
   "metadata": {},
   "outputs": [],
   "source": []
  }
 ],
 "metadata": {
  "kernelspec": {
   "display_name": "Python 3",
   "language": "python",
   "name": "python3"
  },
  "language_info": {
   "codemirror_mode": {
    "name": "ipython",
    "version": 3
   },
   "file_extension": ".py",
   "mimetype": "text/x-python",
   "name": "python",
   "nbconvert_exporter": "python",
   "pygments_lexer": "ipython3",
   "version": "3.7.3"
  }
 },
 "nbformat": 4,
 "nbformat_minor": 4
}
