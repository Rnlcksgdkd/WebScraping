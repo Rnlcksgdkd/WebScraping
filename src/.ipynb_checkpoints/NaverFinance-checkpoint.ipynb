{
 "cells": [
  {
   "cell_type": "code",
   "execution_count": 2,
   "metadata": {},
   "outputs": [],
   "source": [
    "from selenium import webdriver\n",
    "import time\n",
    "import re\n",
    "from urllib.request import urlopen\n",
    "from bs4 import BeautifulSoup\n",
    "import pandas as pd"
   ]
  },
  {
   "cell_type": "code",
   "execution_count": 8,
   "metadata": {},
   "outputs": [
    {
     "name": "stdout",
     "output_type": "stream",
     "text": [
      "['USDKRW', 'EURKRW', 'JPYKRW', 'CNYKRW', 'HKDKRW', 'TWDKRW', 'GBPKRW', 'OMRKRW', 'CADKRW', 'CHFKRW', 'SEKKRW', 'AUDKRW', 'NZDKRW', 'CZKKRW', 'CLPKRW', 'TRYKRW', 'MNTKRW', 'ILSKRW', 'DKKKRW', 'NOKKRW', 'SARKRW', 'KWDKRW', 'BHDKRW', 'AEDKRW', 'JODKRW', 'EGPKRW', 'THBKRW', 'SGDKRW', 'MYRKRW', 'IDRKRW', 'QARKRW', 'KZTKRW', 'BNDKRW', 'INRKRW', 'PKRKRW', 'BDTKRW', 'PHPKRW', 'MXNKRW', 'BRLKRW', 'VNDKRW', 'ZARKRW', 'RUBKRW', 'HUFKRW', 'PLNKRW']\n"
     ]
    }
   ],
   "source": [
    "\n",
    "hompage_link = \"https://finance.naver.com/\"\n",
    "base_link = \"https://finance.naver.com/marketindex/exchangeList.nhn\"\n",
    "html = urlopen(base_link)\n",
    "bsObject = BeautifulSoup(html, \"html.parser\")\n",
    "cover = bsObject.select(\"td.tit>a\")\n",
    "\n",
    "country_index = []\n",
    "exchanges_daily_link = []\n",
    "\n",
    "for i,cover2 in enumerate(cover):\n",
    "    country_index.append(cover2.get(\"href\")[-6:])\n",
    "print(country_index)\n",
    "    \n",
    "base_link = \"https://finance.naver.com//marketindex/exchangeDailyQuote.nhn?marketindexCd=FX_\"  \n",
    "link_lst = []\n",
    "for country_link in country_index:\n",
    "    link = base_link + country_link\n",
    "    link_lst.append(link)"
   ]
  },
  {
   "cell_type": "code",
   "execution_count": 66,
   "metadata": {},
   "outputs": [
    {
     "data": {
      "application/vnd.jupyter.widget-view+json": {
       "model_id": "a7e20aa0581a4d0ca56232b961681369",
       "version_major": 2,
       "version_minor": 0
      },
      "text/plain": [
       "|          | 0/? [00:00<?, ?it/s]"
      ]
     },
     "metadata": {},
     "output_type": "display_data"
    },
    {
     "name": "stderr",
     "output_type": "stream",
     "text": [
      "C:\\Users\\Ando\\AppData\\Local\\Continuum\\anaconda3\\lib\\site-packages\\ipykernel_launcher.py:43: SettingWithCopyWarning: \n",
      "A value is trying to be set on a copy of a slice from a DataFrame\n",
      "\n",
      "See the caveats in the documentation: https://pandas.pydata.org/pandas-docs/stable/user_guide/indexing.html#returning-a-view-versus-a-copy\n"
     ]
    },
    {
     "ename": "TypeError",
     "evalue": "unsupported operand type(s) for +: 'float' and 'str'",
     "output_type": "error",
     "traceback": [
      "\u001b[1;31m---------------------------------------------------------------------------\u001b[0m",
      "\u001b[1;31mTypeError\u001b[0m                                 Traceback (most recent call last)",
      "\u001b[1;32m<ipython-input-66-393d68a76700>\u001b[0m in \u001b[0;36m<module>\u001b[1;34m\u001b[0m\n\u001b[0;32m     47\u001b[0m \u001b[1;33m\u001b[0m\u001b[0m\n\u001b[0;32m     48\u001b[0m \u001b[1;33m\u001b[0m\u001b[0m\n\u001b[1;32m---> 49\u001b[1;33m \u001b[0mprint\u001b[0m\u001b[1;33m(\u001b[0m\u001b[1;34m\" 실행 시간 : \"\u001b[0m \u001b[1;33m,\u001b[0m \u001b[0mtime\u001b[0m\u001b[1;33m.\u001b[0m\u001b[0mtime\u001b[0m\u001b[1;33m(\u001b[0m\u001b[1;33m)\u001b[0m\u001b[1;33m-\u001b[0m\u001b[0mstart\u001b[0m \u001b[1;33m+\u001b[0m \u001b[1;34m\"  초\"\u001b[0m\u001b[1;33m)\u001b[0m\u001b[1;33m\u001b[0m\u001b[1;33m\u001b[0m\u001b[0m\n\u001b[0m",
      "\u001b[1;31mTypeError\u001b[0m: unsupported operand type(s) for +: 'float' and 'str'"
     ]
    }
   ],
   "source": [
    "import time\n",
    "start = time.time()\n",
    "from tqdm.notebook import tqdm\n",
    "\n",
    "country_index\n",
    "link_lst\n",
    "\n",
    "# 한 국가에 대해서 테스트 중인데 상당히 오래걸린다 , 아마 Selenium을 써야할 듯하다\n",
    "\n",
    "df = pd.DataFrame( [] , columns=country_index)\n",
    "\n",
    "# 전체 국가에 대해서\n",
    "date_index = []\n",
    "for i,link in tqdm(enumerate(link_lst)):\n",
    "    country_exchange = []\n",
    "    \n",
    "    page = 1\n",
    "    maxpage = 2\n",
    "    \n",
    "    if i > 8:\n",
    "        break\n",
    "        \n",
    "    # 한 나라에 대해서\n",
    "    while(True):\n",
    "        html = urlopen(link + \"&page=\" + str(page))\n",
    "        bs = BeautifulSoup(html, \"html.parser\")\n",
    "        bs_select =bs.select(\"table.tbl_exchange.today tbody tr\")\n",
    "        if not len(bs_select): break\n",
    "\n",
    "        # 페이지 스크래핑 \n",
    "        for bs_sub in bs_select:\n",
    "            bs_sub2 = bs_sub.select(\"td\")\n",
    "            date = bs_sub2[0].get_text()\n",
    "            exchange = float(bs_sub2[1].get_text().replace(\",\" , \"\"))\n",
    "            if len(date_index) <= len(country_exchange):\n",
    "                date_index.append(date)\n",
    "            country_exchange.append(exchange)\n",
    "        page += 1\n",
    "  \n",
    "    if len(df[country_index[0]]) == 0:\n",
    "        df[country_index[i]] = country_exchange\n",
    "    else:\n",
    "        df[country_index[i]][0:len(country_exchange)] = country_exchange\n",
    "\n",
    "df.index = date_index\n",
    "df.to_excel(\"Total_exchange.xlsx\")\n",
    "   \n",
    "    \n",
    "print(\" 실행 시간 : \" + time.time()-start + \"  초\")\n"
   ]
  },
  {
   "cell_type": "code",
   "execution_count": 55,
   "metadata": {},
   "outputs": [
    {
     "data": {
      "text/plain": [
       "['USDKRW',\n",
       " 'EURKRW',\n",
       " 'JPYKRW',\n",
       " 'CNYKRW',\n",
       " 'HKDKRW',\n",
       " 'TWDKRW',\n",
       " 'GBPKRW',\n",
       " 'OMRKRW',\n",
       " 'CADKRW',\n",
       " 'CHFKRW',\n",
       " 'SEKKRW',\n",
       " 'AUDKRW',\n",
       " 'NZDKRW',\n",
       " 'CZKKRW',\n",
       " 'CLPKRW',\n",
       " 'TRYKRW',\n",
       " 'MNTKRW',\n",
       " 'ILSKRW',\n",
       " 'DKKKRW',\n",
       " 'NOKKRW',\n",
       " 'SARKRW',\n",
       " 'KWDKRW',\n",
       " 'BHDKRW',\n",
       " 'AEDKRW',\n",
       " 'JODKRW',\n",
       " 'EGPKRW',\n",
       " 'THBKRW',\n",
       " 'SGDKRW',\n",
       " 'MYRKRW',\n",
       " 'IDRKRW',\n",
       " 'QARKRW',\n",
       " 'KZTKRW',\n",
       " 'BNDKRW',\n",
       " 'INRKRW',\n",
       " 'PKRKRW',\n",
       " 'BDTKRW',\n",
       " 'PHPKRW',\n",
       " 'MXNKRW',\n",
       " 'BRLKRW',\n",
       " 'VNDKRW',\n",
       " 'ZARKRW',\n",
       " 'RUBKRW',\n",
       " 'HUFKRW',\n",
       " 'PLNKRW']"
      ]
     },
     "execution_count": 55,
     "metadata": {},
     "output_type": "execute_result"
    }
   ],
   "source": [
    "country_index"
   ]
  },
  {
   "cell_type": "code",
   "execution_count": 52,
   "metadata": {},
   "outputs": [],
   "source": [
    "\n",
    "lst = [[1,2,3],[4,5,6],[7,8,9]]\n",
    "df = pd.DataFrame(lst)\n",
    "df.columns = [\"first\" , \"second\" , \"third\"]\n",
    "df[\"second\"][:2] = [4,1]"
   ]
  },
  {
   "cell_type": "code",
   "execution_count": 58,
   "metadata": {},
   "outputs": [
    {
     "ename": "ValueError",
     "evalue": "Length mismatch: Expected axis has 0 elements, new values have 3 elements",
     "output_type": "error",
     "traceback": [
      "\u001b[1;31m---------------------------------------------------------------------------\u001b[0m",
      "\u001b[1;31mValueError\u001b[0m                                Traceback (most recent call last)",
      "\u001b[1;32m<ipython-input-58-de6839ec555c>\u001b[0m in \u001b[0;36m<module>\u001b[1;34m\u001b[0m\n\u001b[0;32m      1\u001b[0m \u001b[0mlst\u001b[0m \u001b[1;33m=\u001b[0m \u001b[1;33m[\u001b[0m\u001b[1;33m]\u001b[0m\u001b[1;33m\u001b[0m\u001b[1;33m\u001b[0m\u001b[0m\n\u001b[0;32m      2\u001b[0m \u001b[0mdf\u001b[0m \u001b[1;33m=\u001b[0m \u001b[0mpd\u001b[0m\u001b[1;33m.\u001b[0m\u001b[0mDataFrame\u001b[0m\u001b[1;33m(\u001b[0m\u001b[0mlst\u001b[0m\u001b[1;33m)\u001b[0m\u001b[1;33m\u001b[0m\u001b[1;33m\u001b[0m\u001b[0m\n\u001b[1;32m----> 3\u001b[1;33m \u001b[0mdf\u001b[0m\u001b[1;33m.\u001b[0m\u001b[0mcolumns\u001b[0m \u001b[1;33m=\u001b[0m \u001b[1;33m[\u001b[0m\u001b[1;34m\"first\"\u001b[0m \u001b[1;33m,\u001b[0m \u001b[1;34m\"second\"\u001b[0m \u001b[1;33m,\u001b[0m \u001b[1;34m\"third\"\u001b[0m\u001b[1;33m]\u001b[0m\u001b[1;33m\u001b[0m\u001b[1;33m\u001b[0m\u001b[0m\n\u001b[0m",
      "\u001b[1;32m~\\AppData\\Local\\Continuum\\anaconda3\\lib\\site-packages\\pandas\\core\\generic.py\u001b[0m in \u001b[0;36m__setattr__\u001b[1;34m(self, name, value)\u001b[0m\n\u001b[0;32m   5152\u001b[0m         \u001b[1;32mtry\u001b[0m\u001b[1;33m:\u001b[0m\u001b[1;33m\u001b[0m\u001b[1;33m\u001b[0m\u001b[0m\n\u001b[0;32m   5153\u001b[0m             \u001b[0mobject\u001b[0m\u001b[1;33m.\u001b[0m\u001b[0m__getattribute__\u001b[0m\u001b[1;33m(\u001b[0m\u001b[0mself\u001b[0m\u001b[1;33m,\u001b[0m \u001b[0mname\u001b[0m\u001b[1;33m)\u001b[0m\u001b[1;33m\u001b[0m\u001b[1;33m\u001b[0m\u001b[0m\n\u001b[1;32m-> 5154\u001b[1;33m             \u001b[1;32mreturn\u001b[0m \u001b[0mobject\u001b[0m\u001b[1;33m.\u001b[0m\u001b[0m__setattr__\u001b[0m\u001b[1;33m(\u001b[0m\u001b[0mself\u001b[0m\u001b[1;33m,\u001b[0m \u001b[0mname\u001b[0m\u001b[1;33m,\u001b[0m \u001b[0mvalue\u001b[0m\u001b[1;33m)\u001b[0m\u001b[1;33m\u001b[0m\u001b[1;33m\u001b[0m\u001b[0m\n\u001b[0m\u001b[0;32m   5155\u001b[0m         \u001b[1;32mexcept\u001b[0m \u001b[0mAttributeError\u001b[0m\u001b[1;33m:\u001b[0m\u001b[1;33m\u001b[0m\u001b[1;33m\u001b[0m\u001b[0m\n\u001b[0;32m   5156\u001b[0m             \u001b[1;32mpass\u001b[0m\u001b[1;33m\u001b[0m\u001b[1;33m\u001b[0m\u001b[0m\n",
      "\u001b[1;32mpandas\\_libs\\properties.pyx\u001b[0m in \u001b[0;36mpandas._libs.properties.AxisProperty.__set__\u001b[1;34m()\u001b[0m\n",
      "\u001b[1;32m~\\AppData\\Local\\Continuum\\anaconda3\\lib\\site-packages\\pandas\\core\\generic.py\u001b[0m in \u001b[0;36m_set_axis\u001b[1;34m(self, axis, labels)\u001b[0m\n\u001b[0;32m    562\u001b[0m     \u001b[1;32mdef\u001b[0m \u001b[0m_set_axis\u001b[0m\u001b[1;33m(\u001b[0m\u001b[0mself\u001b[0m\u001b[1;33m,\u001b[0m \u001b[0maxis\u001b[0m\u001b[1;33m:\u001b[0m \u001b[0mint\u001b[0m\u001b[1;33m,\u001b[0m \u001b[0mlabels\u001b[0m\u001b[1;33m:\u001b[0m \u001b[0mIndex\u001b[0m\u001b[1;33m)\u001b[0m \u001b[1;33m->\u001b[0m \u001b[1;32mNone\u001b[0m\u001b[1;33m:\u001b[0m\u001b[1;33m\u001b[0m\u001b[1;33m\u001b[0m\u001b[0m\n\u001b[0;32m    563\u001b[0m         \u001b[0mlabels\u001b[0m \u001b[1;33m=\u001b[0m \u001b[0mensure_index\u001b[0m\u001b[1;33m(\u001b[0m\u001b[0mlabels\u001b[0m\u001b[1;33m)\u001b[0m\u001b[1;33m\u001b[0m\u001b[1;33m\u001b[0m\u001b[0m\n\u001b[1;32m--> 564\u001b[1;33m         \u001b[0mself\u001b[0m\u001b[1;33m.\u001b[0m\u001b[0m_mgr\u001b[0m\u001b[1;33m.\u001b[0m\u001b[0mset_axis\u001b[0m\u001b[1;33m(\u001b[0m\u001b[0maxis\u001b[0m\u001b[1;33m,\u001b[0m \u001b[0mlabels\u001b[0m\u001b[1;33m)\u001b[0m\u001b[1;33m\u001b[0m\u001b[1;33m\u001b[0m\u001b[0m\n\u001b[0m\u001b[0;32m    565\u001b[0m         \u001b[0mself\u001b[0m\u001b[1;33m.\u001b[0m\u001b[0m_clear_item_cache\u001b[0m\u001b[1;33m(\u001b[0m\u001b[1;33m)\u001b[0m\u001b[1;33m\u001b[0m\u001b[1;33m\u001b[0m\u001b[0m\n\u001b[0;32m    566\u001b[0m \u001b[1;33m\u001b[0m\u001b[0m\n",
      "\u001b[1;32m~\\AppData\\Local\\Continuum\\anaconda3\\lib\\site-packages\\pandas\\core\\internals\\managers.py\u001b[0m in \u001b[0;36mset_axis\u001b[1;34m(self, axis, new_labels)\u001b[0m\n\u001b[0;32m    225\u001b[0m         \u001b[1;32mif\u001b[0m \u001b[0mnew_len\u001b[0m \u001b[1;33m!=\u001b[0m \u001b[0mold_len\u001b[0m\u001b[1;33m:\u001b[0m\u001b[1;33m\u001b[0m\u001b[1;33m\u001b[0m\u001b[0m\n\u001b[0;32m    226\u001b[0m             raise ValueError(\n\u001b[1;32m--> 227\u001b[1;33m                 \u001b[1;34mf\"Length mismatch: Expected axis has {old_len} elements, new \"\u001b[0m\u001b[1;33m\u001b[0m\u001b[1;33m\u001b[0m\u001b[0m\n\u001b[0m\u001b[0;32m    228\u001b[0m                 \u001b[1;34mf\"values have {new_len} elements\"\u001b[0m\u001b[1;33m\u001b[0m\u001b[1;33m\u001b[0m\u001b[0m\n\u001b[0;32m    229\u001b[0m             )\n",
      "\u001b[1;31mValueError\u001b[0m: Length mismatch: Expected axis has 0 elements, new values have 3 elements"
     ]
    }
   ],
   "source": [
    "lst = []\n",
    "df = pd.DataFrame(lst)\n",
    "df.columns = [\"first\" , \"second\" , \"third\"]"
   ]
  },
  {
   "cell_type": "code",
   "execution_count": 64,
   "metadata": {},
   "outputs": [
    {
     "data": {
      "text/plain": [
       "0"
      ]
     },
     "execution_count": 64,
     "metadata": {},
     "output_type": "execute_result"
    }
   ],
   "source": [
    "df = pd.DataFrame( [] , columns=country_index)\n",
    "lst = [1,2,3]\n",
    "len(df[\"USDKRW\"])\n"
   ]
  },
  {
   "cell_type": "code",
   "execution_count": 62,
   "metadata": {},
   "outputs": [
    {
     "name": "stderr",
     "output_type": "stream",
     "text": [
      "C:\\Users\\Ando\\AppData\\Local\\Continuum\\anaconda3\\lib\\site-packages\\ipykernel_launcher.py:1: SettingWithCopyWarning: \n",
      "A value is trying to be set on a copy of a slice from a DataFrame\n",
      "\n",
      "See the caveats in the documentation: https://pandas.pydata.org/pandas-docs/stable/user_guide/indexing.html#returning-a-view-versus-a-copy\n",
      "  \"\"\"Entry point for launching an IPython kernel.\n"
     ]
    },
    {
     "data": {
      "text/html": [
       "<div>\n",
       "<style scoped>\n",
       "    .dataframe tbody tr th:only-of-type {\n",
       "        vertical-align: middle;\n",
       "    }\n",
       "\n",
       "    .dataframe tbody tr th {\n",
       "        vertical-align: top;\n",
       "    }\n",
       "\n",
       "    .dataframe thead th {\n",
       "        text-align: right;\n",
       "    }\n",
       "</style>\n",
       "<table border=\"1\" class=\"dataframe\">\n",
       "  <thead>\n",
       "    <tr style=\"text-align: right;\">\n",
       "      <th></th>\n",
       "      <th>USDKRW</th>\n",
       "      <th>EURKRW</th>\n",
       "      <th>JPYKRW</th>\n",
       "      <th>CNYKRW</th>\n",
       "      <th>HKDKRW</th>\n",
       "      <th>TWDKRW</th>\n",
       "      <th>GBPKRW</th>\n",
       "      <th>OMRKRW</th>\n",
       "      <th>CADKRW</th>\n",
       "      <th>CHFKRW</th>\n",
       "      <th>...</th>\n",
       "      <th>PKRKRW</th>\n",
       "      <th>BDTKRW</th>\n",
       "      <th>PHPKRW</th>\n",
       "      <th>MXNKRW</th>\n",
       "      <th>BRLKRW</th>\n",
       "      <th>VNDKRW</th>\n",
       "      <th>ZARKRW</th>\n",
       "      <th>RUBKRW</th>\n",
       "      <th>HUFKRW</th>\n",
       "      <th>PLNKRW</th>\n",
       "    </tr>\n",
       "  </thead>\n",
       "  <tbody>\n",
       "    <tr>\n",
       "      <th>0</th>\n",
       "      <td>1</td>\n",
       "      <td>NaN</td>\n",
       "      <td>NaN</td>\n",
       "      <td>NaN</td>\n",
       "      <td>NaN</td>\n",
       "      <td>NaN</td>\n",
       "      <td>NaN</td>\n",
       "      <td>NaN</td>\n",
       "      <td>NaN</td>\n",
       "      <td>NaN</td>\n",
       "      <td>...</td>\n",
       "      <td>NaN</td>\n",
       "      <td>NaN</td>\n",
       "      <td>NaN</td>\n",
       "      <td>NaN</td>\n",
       "      <td>NaN</td>\n",
       "      <td>NaN</td>\n",
       "      <td>NaN</td>\n",
       "      <td>NaN</td>\n",
       "      <td>NaN</td>\n",
       "      <td>NaN</td>\n",
       "    </tr>\n",
       "    <tr>\n",
       "      <th>1</th>\n",
       "      <td>2</td>\n",
       "      <td>4</td>\n",
       "      <td>NaN</td>\n",
       "      <td>NaN</td>\n",
       "      <td>NaN</td>\n",
       "      <td>NaN</td>\n",
       "      <td>NaN</td>\n",
       "      <td>NaN</td>\n",
       "      <td>NaN</td>\n",
       "      <td>NaN</td>\n",
       "      <td>...</td>\n",
       "      <td>NaN</td>\n",
       "      <td>NaN</td>\n",
       "      <td>NaN</td>\n",
       "      <td>NaN</td>\n",
       "      <td>NaN</td>\n",
       "      <td>NaN</td>\n",
       "      <td>NaN</td>\n",
       "      <td>NaN</td>\n",
       "      <td>NaN</td>\n",
       "      <td>NaN</td>\n",
       "    </tr>\n",
       "    <tr>\n",
       "      <th>2</th>\n",
       "      <td>3</td>\n",
       "      <td>1</td>\n",
       "      <td>NaN</td>\n",
       "      <td>NaN</td>\n",
       "      <td>NaN</td>\n",
       "      <td>NaN</td>\n",
       "      <td>NaN</td>\n",
       "      <td>NaN</td>\n",
       "      <td>NaN</td>\n",
       "      <td>NaN</td>\n",
       "      <td>...</td>\n",
       "      <td>NaN</td>\n",
       "      <td>NaN</td>\n",
       "      <td>NaN</td>\n",
       "      <td>NaN</td>\n",
       "      <td>NaN</td>\n",
       "      <td>NaN</td>\n",
       "      <td>NaN</td>\n",
       "      <td>NaN</td>\n",
       "      <td>NaN</td>\n",
       "      <td>NaN</td>\n",
       "    </tr>\n",
       "  </tbody>\n",
       "</table>\n",
       "<p>3 rows × 44 columns</p>\n",
       "</div>"
      ],
      "text/plain": [
       "   USDKRW EURKRW JPYKRW CNYKRW HKDKRW TWDKRW GBPKRW OMRKRW CADKRW CHFKRW  ...  \\\n",
       "0       1    NaN    NaN    NaN    NaN    NaN    NaN    NaN    NaN    NaN  ...   \n",
       "1       2      4    NaN    NaN    NaN    NaN    NaN    NaN    NaN    NaN  ...   \n",
       "2       3      1    NaN    NaN    NaN    NaN    NaN    NaN    NaN    NaN  ...   \n",
       "\n",
       "  PKRKRW BDTKRW PHPKRW MXNKRW BRLKRW VNDKRW ZARKRW RUBKRW HUFKRW PLNKRW  \n",
       "0    NaN    NaN    NaN    NaN    NaN    NaN    NaN    NaN    NaN    NaN  \n",
       "1    NaN    NaN    NaN    NaN    NaN    NaN    NaN    NaN    NaN    NaN  \n",
       "2    NaN    NaN    NaN    NaN    NaN    NaN    NaN    NaN    NaN    NaN  \n",
       "\n",
       "[3 rows x 44 columns]"
      ]
     },
     "execution_count": 62,
     "metadata": {},
     "output_type": "execute_result"
    }
   ],
   "source": [
    "df[\"EURKRW\"][1:3] = [4,1]\n",
    "df"
   ]
  },
  {
   "cell_type": "code",
   "execution_count": null,
   "metadata": {},
   "outputs": [],
   "source": [
    "\n",
    "## 네이버 파이낸스를 통해 주식가격 및 환율 정보를 스크래핑 하는 코드입니다\n",
    "\n",
    "\n",
    "## B. 환율 구해서 취합하기\n",
    "\n",
    "# 현재\n",
    "def get_now_exchange():\n",
    "    \n",
    "    html = urlopen(\"https://finance.naver.com/marketindex/exchangeList.nhn\")\n",
    "    bsObject = BeautifulSoup(html, \"html.parser\")\n",
    "\n",
    "    exchange_data = []\n",
    "    bs = bsObject.select('div.tbl_area tbody tr')\n",
    "    for i,temp in enumerate(bs):\n",
    "        if i < 2: continue\n",
    "        country = temp.select(\"a\")[0].get_text().strip()\n",
    "        exchange = temp.select(\"td\")[1].get_text()\n",
    "        exchange_data.append([country , exchange]) \n",
    "    \n",
    "    for e in exchange_data:\n",
    "        print(e)\n",
    "    return\n",
    "\n",
    "\n",
    "# 각 나라마다 환율 정보가 담긴 홈페이지 링크를 주기 , 저장\n",
    "def get_country_exchange_link():\n",
    "    hompage_link = \"https://finance.naver.com/\"\n",
    "    base_link = \"https://finance.naver.com/marketindex/exchangeList.nhn\"\n",
    "    html = urlopen(base_link)\n",
    "    bsObject = BeautifulSoup(html, \"html.parser\")\n",
    "    cover = bsObject.select(\"td.tit>a\")\n",
    "\n",
    "    country_index = []\n",
    "    exchanges_daily_link = []\n",
    "    \n",
    "    for i,cover2 in enumerate(cover):\n",
    "\n",
    "        country =  cover2.get(\"href\")[-6:-1]\n",
    "        country_link = hompage_link + cover2.get(\"href\")\n",
    "        country_html = urlopen(country_link)\n",
    "        country_bs = BeautifulSoup(country_html, \"html.parser\")\n",
    "        country_daily_link = hompage_link + country_bs.select(\"iframe[title=일별시세]\")[0].get(\"src\")\n",
    "        \n",
    "        country_index.append(country)\n",
    "        exchanges_daily_link.append(country_daily_link)\n",
    "    \n",
    "    \n",
    "    df = pd.DataFrame([exchanges_daily_link] , columns=country_index)\n",
    "    df.to_excel(\"countries daily exchange link.xlsx\" , index=False)\n",
    "    print(\"complete saving link\")\n",
    "    \n",
    "    \n",
    "#     df.toexcel(\"NaverFinance_Exchange_links.xlsx\" , encoding=\"utf-8\")\n",
    "#     print(\"Complete saving exchange link\")\n",
    "        \n",
    "\n",
    "# 페이지 스크래핑 함수\n",
    "def scrapping_page():\n",
    "    pass\n",
    "\n",
    "# 전체 나라들에 대해서 환율 스크래핑 \n",
    "def get_exchange():\n",
    "    \n",
    "    df = pd.read_excel(\"countries daily exchange link.xlsx\" , engine=\"openpyxl\")\n",
    "    date_index = []\n",
    "    total_exchanges = []\n",
    "    date_index = []\n",
    "    \n",
    "    for link in df.loc[0]:\n",
    "        # 각 나라의 환율정보가 들어가 있는 홈페이지 링크 출력\n",
    "    \n",
    "        \n",
    "        country_exchange = []\n",
    "        page = 1\n",
    "        \n",
    "        while(1):\n",
    "            \n",
    "            if page > 2: break    \n",
    "            html = urlopen(link + \"&page=\" + str(page))\n",
    "            bs = BeautifulSoup(html, \"html.parser\")\n",
    "            bs_select = bs.select(\"table.tbl_exchange.today tbody tr\")\n",
    "         \n",
    "            for bs_sub in bs_select:\n",
    "                bs_sub2 = bs_sub.select(\"td\")\n",
    "                if not len(bs_sub2):\n",
    "                    break\n",
    "                date = bs_sub2[0].get_text()\n",
    "                exchange = float(bs_sub2[1].get_text().replace(\",\" , \"\"))\n",
    "                country_exchange.append([date , exchange])\n",
    "            page += 1    \n",
    "        total_exchanges.append(country_exchange)\n",
    "       \n",
    "    return total_exchanges\n",
    "    \n",
    "        \n"
   ]
  },
  {
   "cell_type": "code",
   "execution_count": null,
   "metadata": {},
   "outputs": [],
   "source": [
    "data = get_exchange()"
   ]
  },
  {
   "cell_type": "code",
   "execution_count": null,
   "metadata": {},
   "outputs": [],
   "source": [
    "df = pd.DataFrame()\n",
    "df\n",
    "\n",
    "for country in data:\n",
    "    df.join(pd.Series(reversed(country)))\n",
    "df\n",
    "# for i,e in enumerate(total_exchanges):\n",
    "#     temp = pd.Series(reversed(e) , name = exchange_names[i] )\n",
    "#     df = df.join(temp)"
   ]
  },
  {
   "cell_type": "code",
   "execution_count": null,
   "metadata": {},
   "outputs": [],
   "source": [
    "data"
   ]
  },
  {
   "cell_type": "code",
   "execution_count": null,
   "metadata": {},
   "outputs": [],
   "source": [
    "for link in df.loc[0].values:\n",
    "    print(link)"
   ]
  },
  {
   "cell_type": "code",
   "execution_count": null,
   "metadata": {},
   "outputs": [],
   "source": [
    "df"
   ]
  },
  {
   "cell_type": "code",
   "execution_count": 41,
   "metadata": {},
   "outputs": [],
   "source": [
    "html = urlopen(\"https://finance.naver.com/marketindex/exchangeDailyQuote.nhn?marketindexCd=FX_USDKRW&page=420\")\n",
    "bs = BeautifulSoup(html, \"html.parser\")\n",
    "bs_select =bs.select(\"table.tbl_exchange.today tbody tr\")"
   ]
  },
  {
   "cell_type": "code",
   "execution_count": 42,
   "metadata": {},
   "outputs": [
    {
     "data": {
      "text/plain": [
       "[]"
      ]
     },
     "execution_count": 42,
     "metadata": {},
     "output_type": "execute_result"
    }
   ],
   "source": [
    "bs_select"
   ]
  },
  {
   "cell_type": "code",
   "execution_count": null,
   "metadata": {},
   "outputs": [],
   "source": []
  }
 ],
 "metadata": {
  "kernelspec": {
   "display_name": "Python 3",
   "language": "python",
   "name": "python3"
  },
  "language_info": {
   "codemirror_mode": {
    "name": "ipython",
    "version": 3
   },
   "file_extension": ".py",
   "mimetype": "text/x-python",
   "name": "python",
   "nbconvert_exporter": "python",
   "pygments_lexer": "ipython3",
   "version": "3.7.3"
  }
 },
 "nbformat": 4,
 "nbformat_minor": 4
}
