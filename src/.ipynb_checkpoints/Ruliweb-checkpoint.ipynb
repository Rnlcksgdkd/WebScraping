{
 "cells": [
  {
   "cell_type": "code",
   "execution_count": 1,
   "metadata": {},
   "outputs": [],
   "source": [
    "from selenium import webdriver\n",
    "import time\n",
    "import re\n",
    "from urllib.request import urlopen\n",
    "from bs4 import BeautifulSoup\n",
    "import pandas as pd"
   ]
  },
  {
   "cell_type": "code",
   "execution_count": 115,
   "metadata": {},
   "outputs": [],
   "source": [
    "## 루리웹 핫딜게시판 스크래핑 해보기\n",
    "\n",
    "# 여러 페이지 긁어오기 - BeautifulSoup 이용한 버전\n",
    "def crawling_ruliweb(max_page = 5):\n",
    "    data = []\n",
    "    page = 0\n",
    "    base_link = \"https://bbs.ruliweb.com/market/board/1020\"\n",
    "    while(1):\n",
    "        page += 1\n",
    "        if page >max_page: break\n",
    "        link = base_link + \"?page=\" + str(page)\n",
    "        get_page(link , data)\n",
    "\n",
    "    return data\n",
    "\n",
    "## 여러 페이지 긁어오기 - Selenium 을이용한 버전\n",
    "\n",
    "# 다음 페이지로\n",
    "def next_page(driver):\n",
    "    #print(driver.current_url)\n",
    "    page = int(driver.current_url[47:])\n",
    "    page_index = page%10\n",
    "    if page_index%10 == 0:\n",
    "        next_10page(driver)\n",
    "    else:\n",
    "        nxt = driver.find_elements_by_css_selector(\"a.btn_num\")[page_index%10]\n",
    "        try: nxt.click()\n",
    "        except:\n",
    "            time.sleep(5)\n",
    "            nxt.click()\n",
    "    time.sleep(3)\n",
    "    \n",
    "# 다음 10페이지로\n",
    "def next_10page(driver):\n",
    "    nxt = driver.find_element_by_css_selector(\"a.btn_next\")\n",
    "    try: nxt.click()\n",
    "    except:\n",
    "        time.sleep(5)\n",
    "        nxt.click()\n",
    "    time.sleep(3)\n",
    "\n",
    "# 페이지 스크래핑\n",
    "def get_page(link , data):\n",
    "    \n",
    "    html = urlopen(link)\n",
    "    bsObject = BeautifulSoup(html, \"html.parser\")\n",
    "    total = bsObject.select(\"tr.table_body\")\n",
    "        \n",
    "    for i,cover in enumerate(total):\n",
    "        if i < 8: continue\n",
    "        try:\n",
    "            write_name = cover.select(\"a.deco\")[0].get_text()\n",
    "            html_link = str(cover.select(\"a.deco\")[0].get(\"href\"))\n",
    "            write_number = cover.select(\"td.id\")[0].get_text().strip()\n",
    "            category = cover.select(\"td.divsn\")[0].get_text().strip()\n",
    "            write_time = cover.select(\"td.time\")[0].get_text().strip()\n",
    "            num_reply = int(cover.select(\"a.num_reply>span\")[0].get_text().strip())\n",
    "            num_rec = int(cover.select(\"td.recomd\")[0].get_text().strip())\n",
    "            num_hit = int(cover.select(\"td.hit\")[0].get_text().strip())\n",
    "            data.append([write_name , write_number , category , write_time , num_reply , num_rec , num_hit , html_link])\n",
    "\n",
    "        except: continue\n",
    "    return\n",
    "\n",
    "# 엑셀로 저장\n",
    "def save_data(data , file_name = \"ruliweb_scrapping.xlsx\"):\n",
    "    df = pd.DataFrame(data , columns= [\"제목\", \"작성넘버\", \"카테고리\" , \"작성시간\" , \"댓글\" , \"추천수\" , \"조회수\" , \"링크\"])\n",
    "    df.to_excel(file_name , index=False)\n",
    "    print(\"파일명 : {} 저장 완료\".format(file_name))\n",
    "    return\n",
    "    \n",
    "    \n",
    "# 원하는 페이지만큼 스크래핑 하기\n",
    "def scrapping_ruliweb(max_page = 5):\n",
    "    data = []\n",
    "    driver = webdriver.Chrome(\"./chromedriver.exe\")\n",
    "    driver.get(\"https://bbs.ruliweb.com/market/board/1020?page=1\")\n",
    "    time.sleep(2)\n",
    "    for _ in range(max_page):\n",
    "        url = driver.current_url\n",
    "        get_page(url , data)\n",
    "        next_page(driver)\n",
    "    save_data(data)\n",
    "    return\n",
    "\n"
   ]
  },
  {
   "cell_type": "code",
   "execution_count": 116,
   "metadata": {},
   "outputs": [
    {
     "name": "stdout",
     "output_type": "stream",
     "text": [
      "파일명 : ruliweb_scrapping.xlsx 저장 완료\n",
      "812.3545830249786\n"
     ]
    }
   ],
   "source": [
    "## 함수 테스트 공간 : Selenium 이용한 페이지 이동\n",
    "import time\n",
    "start = time.time()\n",
    "scrapping_ruliweb(100)\n",
    "print(time.time()-start)"
   ]
  },
  {
   "cell_type": "code",
   "execution_count": 113,
   "metadata": {},
   "outputs": [
    {
     "name": "stdout",
     "output_type": "stream",
     "text": [
      "파일명 : sdad.xlsx 저장 완료\n",
      "65.6525890827179\n"
     ]
    }
   ],
   "source": [
    "## 함수 테스트 공간 : BeautifulSoup 로 각 페이지에 해당하는 html 링크 이동\n",
    "import time\n",
    "start = time.time()\n",
    "data = crawling_ruliweb(100)\n",
    "save_data(data , \"sdad.xlsx\")\n",
    "print(\" 실행 시간 : \" , time.time()-start + \"  초\")"
   ]
  },
  {
   "cell_type": "code",
   "execution_count": 69,
   "metadata": {},
   "outputs": [],
   "source": [
    "next_10page(driver)"
   ]
  },
  {
   "cell_type": "code",
   "execution_count": 76,
   "metadata": {},
   "outputs": [],
   "source": [
    "next_page(driver)"
   ]
  },
  {
   "cell_type": "code",
   "execution_count": null,
   "metadata": {},
   "outputs": [],
   "source": [
    "import urllib.request\n",
    "url = 'https://images-na.ssl-images-amazon.com/images/I/810wq1cOY7L._AC_SX679_.jpg'\n",
    "urllib.request.urlretrieve(url, 'test.jpg')"
   ]
  },
  {
   "cell_type": "code",
   "execution_count": null,
   "metadata": {},
   "outputs": [],
   "source": []
  }
 ],
 "metadata": {
  "kernelspec": {
   "display_name": "Python 3",
   "language": "python",
   "name": "python3"
  },
  "language_info": {
   "codemirror_mode": {
    "name": "ipython",
    "version": 3
   },
   "file_extension": ".py",
   "mimetype": "text/x-python",
   "name": "python",
   "nbconvert_exporter": "python",
   "pygments_lexer": "ipython3",
   "version": "3.7.3"
  }
 },
 "nbformat": 4,
 "nbformat_minor": 4
}
