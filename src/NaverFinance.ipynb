{
 "cells": [
  {
   "cell_type": "code",
   "execution_count": 2,
   "metadata": {},
   "outputs": [],
   "source": [
    "from selenium import webdriver\n",
    "import time\n",
    "import re\n",
    "from urllib.request import urlopen\n",
    "from bs4 import BeautifulSoup\n",
    "import pandas as pd"
   ]
  },
  {
   "cell_type": "code",
   "execution_count": 8,
   "metadata": {},
   "outputs": [
    {
     "name": "stdout",
     "output_type": "stream",
     "text": [
      "['USDKRW', 'EURKRW', 'JPYKRW', 'CNYKRW', 'HKDKRW', 'TWDKRW', 'GBPKRW', 'OMRKRW', 'CADKRW', 'CHFKRW', 'SEKKRW', 'AUDKRW', 'NZDKRW', 'CZKKRW', 'CLPKRW', 'TRYKRW', 'MNTKRW', 'ILSKRW', 'DKKKRW', 'NOKKRW', 'SARKRW', 'KWDKRW', 'BHDKRW', 'AEDKRW', 'JODKRW', 'EGPKRW', 'THBKRW', 'SGDKRW', 'MYRKRW', 'IDRKRW', 'QARKRW', 'KZTKRW', 'BNDKRW', 'INRKRW', 'PKRKRW', 'BDTKRW', 'PHPKRW', 'MXNKRW', 'BRLKRW', 'VNDKRW', 'ZARKRW', 'RUBKRW', 'HUFKRW', 'PLNKRW']\n"
     ]
    }
   ],
   "source": [
    "\n",
    "hompage_link = \"https://finance.naver.com/\"\n",
    "base_link = \"https://finance.naver.com/marketindex/exchangeList.nhn\"\n",
    "html = urlopen(base_link)\n",
    "bsObject = BeautifulSoup(html, \"html.parser\")\n",
    "cover = bsObject.select(\"td.tit>a\")\n",
    "\n",
    "country_index = []\n",
    "exchanges_daily_link = []\n",
    "\n",
    "for i,cover2 in enumerate(cover):\n",
    "    country_index.append(cover2.get(\"href\")[-6:])\n",
    "print(country_index)\n",
    "    \n",
    "base_link = \"https://finance.naver.com//marketindex/exchangeDailyQuote.nhn?marketindexCd=FX_\"  \n",
    "link_lst = []\n",
    "for country_link in country_index:\n",
    "    link = base_link + country_link\n",
    "    link_lst.append(link)"
   ]
  },
  {
   "cell_type": "code",
   "execution_count": 66,
   "metadata": {},
   "outputs": [
    {
     "data": {
      "application/vnd.jupyter.widget-view+json": {
       "model_id": "a7e20aa0581a4d0ca56232b961681369",
       "version_major": 2,
       "version_minor": 0
      },
      "text/plain": [
       "|          | 0/? [00:00<?, ?it/s]"
      ]
     },
     "metadata": {},
     "output_type": "display_data"
    },
    {
     "name": "stderr",
     "output_type": "stream",
     "text": [
      "C:\\Users\\Ando\\AppData\\Local\\Continuum\\anaconda3\\lib\\site-packages\\ipykernel_launcher.py:43: SettingWithCopyWarning: \n",
      "A value is trying to be set on a copy of a slice from a DataFrame\n",
      "\n",
      "See the caveats in the documentation: https://pandas.pydata.org/pandas-docs/stable/user_guide/indexing.html#returning-a-view-versus-a-copy\n"
     ]
    },
    {
     "ename": "TypeError",
     "evalue": "unsupported operand type(s) for +: 'float' and 'str'",
     "output_type": "error",
     "traceback": [
      "\u001b[1;31m---------------------------------------------------------------------------\u001b[0m",
      "\u001b[1;31mTypeError\u001b[0m                                 Traceback (most recent call last)",
      "\u001b[1;32m<ipython-input-66-393d68a76700>\u001b[0m in \u001b[0;36m<module>\u001b[1;34m\u001b[0m\n\u001b[0;32m     47\u001b[0m \u001b[1;33m\u001b[0m\u001b[0m\n\u001b[0;32m     48\u001b[0m \u001b[1;33m\u001b[0m\u001b[0m\n\u001b[1;32m---> 49\u001b[1;33m \u001b[0mprint\u001b[0m\u001b[1;33m(\u001b[0m\u001b[1;34m\" 실행 시간 : \"\u001b[0m \u001b[1;33m,\u001b[0m \u001b[0mtime\u001b[0m\u001b[1;33m.\u001b[0m\u001b[0mtime\u001b[0m\u001b[1;33m(\u001b[0m\u001b[1;33m)\u001b[0m\u001b[1;33m-\u001b[0m\u001b[0mstart\u001b[0m \u001b[1;33m+\u001b[0m \u001b[1;34m\"  초\"\u001b[0m\u001b[1;33m)\u001b[0m\u001b[1;33m\u001b[0m\u001b[1;33m\u001b[0m\u001b[0m\n\u001b[0m",
      "\u001b[1;31mTypeError\u001b[0m: unsupported operand type(s) for +: 'float' and 'str'"
     ]
    }
   ],
   "source": [
    "import time\n",
    "start = time.time()\n",
    "from tqdm.notebook import tqdm\n",
    "\n",
    "country_index\n",
    "link_lst\n",
    "\n",
    "# 한 국가에 대해서 테스트 중인데 상당히 오래걸린다 , 아마 Selenium을 써야할 듯하다\n",
    "\n",
    "df = pd.DataFrame( [] , columns=country_index)\n",
    "\n",
    "# 전체 국가에 대해서\n",
    "date_index = []\n",
    "for i,link in tqdm(enumerate(link_lst)):\n",
    "    country_exchange = []\n",
    "    \n",
    "    page = 1\n",
    "    maxpage = 2\n",
    "    \n",
    "    if i > 8:\n",
    "        break\n",
    "        \n",
    "    # 한 나라에 대해서\n",
    "    while(True):\n",
    "        html = urlopen(link + \"&page=\" + str(page))\n",
    "        bs = BeautifulSoup(html, \"html.parser\")\n",
    "        bs_select =bs.select(\"table.tbl_exchange.today tbody tr\")\n",
    "        if not len(bs_select): break\n",
    "\n",
    "        # 페이지 스크래핑 \n",
    "        for bs_sub in bs_select:\n",
    "            bs_sub2 = bs_sub.select(\"td\")\n",
    "            date = bs_sub2[0].get_text()\n",
    "            exchange = float(bs_sub2[1].get_text().replace(\",\" , \"\"))\n",
    "            if len(date_index) <= len(country_exchange):\n",
    "                date_index.append(date)\n",
    "            country_exchange.append(exchange)\n",
    "        page += 1\n",
    "  \n",
    "    if len(df[country_index[0]]) == 0:\n",
    "        df[country_index[i]] = country_exchange\n",
    "    else:\n",
    "        df[country_index[i]][0:len(country_exchange)] = country_exchange\n",
    "\n",
    "df.index = date_index\n",
    "df.to_excel(\"Total_exchange.xlsx\")\n",
    "   \n",
    "    \n",
    "print(\" 실행 시간 : \" + time.time()-start + \"  초\")\n"
   ]
  },
  {
   "cell_type": "code",
   "execution_count": 55,
   "metadata": {},
   "outputs": [
    {
     "data": {
      "text/plain": [
       "['USDKRW',\n",
       " 'EURKRW',\n",
       " 'JPYKRW',\n",
       " 'CNYKRW',\n",
       " 'HKDKRW',\n",
       " 'TWDKRW',\n",
       " 'GBPKRW',\n",
       " 'OMRKRW',\n",
       " 'CADKRW',\n",
       " 'CHFKRW',\n",
       " 'SEKKRW',\n",
       " 'AUDKRW',\n",
       " 'NZDKRW',\n",
       " 'CZKKRW',\n",
       " 'CLPKRW',\n",
       " 'TRYKRW',\n",
       " 'MNTKRW',\n",
       " 'ILSKRW',\n",
       " 'DKKKRW',\n",
       " 'NOKKRW',\n",
       " 'SARKRW',\n",
       " 'KWDKRW',\n",
       " 'BHDKRW',\n",
       " 'AEDKRW',\n",
       " 'JODKRW',\n",
       " 'EGPKRW',\n",
       " 'THBKRW',\n",
       " 'SGDKRW',\n",
       " 'MYRKRW',\n",
       " 'IDRKRW',\n",
       " 'QARKRW',\n",
       " 'KZTKRW',\n",
       " 'BNDKRW',\n",
       " 'INRKRW',\n",
       " 'PKRKRW',\n",
       " 'BDTKRW',\n",
       " 'PHPKRW',\n",
       " 'MXNKRW',\n",
       " 'BRLKRW',\n",
       " 'VNDKRW',\n",
       " 'ZARKRW',\n",
       " 'RUBKRW',\n",
       " 'HUFKRW',\n",
       " 'PLNKRW']"
      ]
     },
     "execution_count": 55,
     "metadata": {},
     "output_type": "execute_result"
    }
   ],
   "source": [
    "country_index"
   ]
  },
  {
   "cell_type": "code",
   "execution_count": 52,
   "metadata": {},
   "outputs": [],
   "source": [
    "\n",
    "lst = [[1,2,3],[4,5,6],[7,8,9]]\n",
    "df = pd.DataFrame(lst)\n",
    "df.columns = [\"first\" , \"second\" , \"third\"]\n",
    "df[\"second\"][:2] = [4,1]"
   ]
  },
  {
   "cell_type": "code",
   "execution_count": 58,
   "metadata": {},
   "outputs": [
    {
     "ename": "ValueError",
     "evalue": "Length mismatch: Expected axis has 0 elements, new values have 3 elements",
     "output_type": "error",
     "traceback": [
      "\u001b[1;31m---------------------------------------------------------------------------\u001b[0m",
      "\u001b[1;31mValueError\u001b[0m                                Traceback (most recent call last)",
      "\u001b[1;32m<ipython-input-58-de6839ec555c>\u001b[0m in \u001b[0;36m<module>\u001b[1;34m\u001b[0m\n\u001b[0;32m      1\u001b[0m \u001b[0mlst\u001b[0m \u001b[1;33m=\u001b[0m \u001b[1;33m[\u001b[0m\u001b[1;33m]\u001b[0m\u001b[1;33m\u001b[0m\u001b[1;33m\u001b[0m\u001b[0m\n\u001b[0;32m      2\u001b[0m \u001b[0mdf\u001b[0m \u001b[1;33m=\u001b[0m \u001b[0mpd\u001b[0m\u001b[1;33m.\u001b[0m\u001b[0mDataFrame\u001b[0m\u001b[1;33m(\u001b[0m\u001b[0mlst\u001b[0m\u001b[1;33m)\u001b[0m\u001b[1;33m\u001b[0m\u001b[1;33m\u001b[0m\u001b[0m\n\u001b[1;32m----> 3\u001b[1;33m \u001b[0mdf\u001b[0m\u001b[1;33m.\u001b[0m\u001b[0mcolumns\u001b[0m \u001b[1;33m=\u001b[0m \u001b[1;33m[\u001b[0m\u001b[1;34m\"first\"\u001b[0m \u001b[1;33m,\u001b[0m \u001b[1;34m\"second\"\u001b[0m \u001b[1;33m,\u001b[0m \u001b[1;34m\"third\"\u001b[0m\u001b[1;33m]\u001b[0m\u001b[1;33m\u001b[0m\u001b[1;33m\u001b[0m\u001b[0m\n\u001b[0m",
      "\u001b[1;32m~\\AppData\\Local\\Continuum\\anaconda3\\lib\\site-packages\\pandas\\core\\generic.py\u001b[0m in \u001b[0;36m__setattr__\u001b[1;34m(self, name, value)\u001b[0m\n\u001b[0;32m   5152\u001b[0m         \u001b[1;32mtry\u001b[0m\u001b[1;33m:\u001b[0m\u001b[1;33m\u001b[0m\u001b[1;33m\u001b[0m\u001b[0m\n\u001b[0;32m   5153\u001b[0m             \u001b[0mobject\u001b[0m\u001b[1;33m.\u001b[0m\u001b[0m__getattribute__\u001b[0m\u001b[1;33m(\u001b[0m\u001b[0mself\u001b[0m\u001b[1;33m,\u001b[0m \u001b[0mname\u001b[0m\u001b[1;33m)\u001b[0m\u001b[1;33m\u001b[0m\u001b[1;33m\u001b[0m\u001b[0m\n\u001b[1;32m-> 5154\u001b[1;33m             \u001b[1;32mreturn\u001b[0m \u001b[0mobject\u001b[0m\u001b[1;33m.\u001b[0m\u001b[0m__setattr__\u001b[0m\u001b[1;33m(\u001b[0m\u001b[0mself\u001b[0m\u001b[1;33m,\u001b[0m \u001b[0mname\u001b[0m\u001b[1;33m,\u001b[0m \u001b[0mvalue\u001b[0m\u001b[1;33m)\u001b[0m\u001b[1;33m\u001b[0m\u001b[1;33m\u001b[0m\u001b[0m\n\u001b[0m\u001b[0;32m   5155\u001b[0m         \u001b[1;32mexcept\u001b[0m \u001b[0mAttributeError\u001b[0m\u001b[1;33m:\u001b[0m\u001b[1;33m\u001b[0m\u001b[1;33m\u001b[0m\u001b[0m\n\u001b[0;32m   5156\u001b[0m             \u001b[1;32mpass\u001b[0m\u001b[1;33m\u001b[0m\u001b[1;33m\u001b[0m\u001b[0m\n",
      "\u001b[1;32mpandas\\_libs\\properties.pyx\u001b[0m in \u001b[0;36mpandas._libs.properties.AxisProperty.__set__\u001b[1;34m()\u001b[0m\n",
      "\u001b[1;32m~\\AppData\\Local\\Continuum\\anaconda3\\lib\\site-packages\\pandas\\core\\generic.py\u001b[0m in \u001b[0;36m_set_axis\u001b[1;34m(self, axis, labels)\u001b[0m\n\u001b[0;32m    562\u001b[0m     \u001b[1;32mdef\u001b[0m \u001b[0m_set_axis\u001b[0m\u001b[1;33m(\u001b[0m\u001b[0mself\u001b[0m\u001b[1;33m,\u001b[0m \u001b[0maxis\u001b[0m\u001b[1;33m:\u001b[0m \u001b[0mint\u001b[0m\u001b[1;33m,\u001b[0m \u001b[0mlabels\u001b[0m\u001b[1;33m:\u001b[0m \u001b[0mIndex\u001b[0m\u001b[1;33m)\u001b[0m \u001b[1;33m->\u001b[0m \u001b[1;32mNone\u001b[0m\u001b[1;33m:\u001b[0m\u001b[1;33m\u001b[0m\u001b[1;33m\u001b[0m\u001b[0m\n\u001b[0;32m    563\u001b[0m         \u001b[0mlabels\u001b[0m \u001b[1;33m=\u001b[0m \u001b[0mensure_index\u001b[0m\u001b[1;33m(\u001b[0m\u001b[0mlabels\u001b[0m\u001b[1;33m)\u001b[0m\u001b[1;33m\u001b[0m\u001b[1;33m\u001b[0m\u001b[0m\n\u001b[1;32m--> 564\u001b[1;33m         \u001b[0mself\u001b[0m\u001b[1;33m.\u001b[0m\u001b[0m_mgr\u001b[0m\u001b[1;33m.\u001b[0m\u001b[0mset_axis\u001b[0m\u001b[1;33m(\u001b[0m\u001b[0maxis\u001b[0m\u001b[1;33m,\u001b[0m \u001b[0mlabels\u001b[0m\u001b[1;33m)\u001b[0m\u001b[1;33m\u001b[0m\u001b[1;33m\u001b[0m\u001b[0m\n\u001b[0m\u001b[0;32m    565\u001b[0m         \u001b[0mself\u001b[0m\u001b[1;33m.\u001b[0m\u001b[0m_clear_item_cache\u001b[0m\u001b[1;33m(\u001b[0m\u001b[1;33m)\u001b[0m\u001b[1;33m\u001b[0m\u001b[1;33m\u001b[0m\u001b[0m\n\u001b[0;32m    566\u001b[0m \u001b[1;33m\u001b[0m\u001b[0m\n",
      "\u001b[1;32m~\\AppData\\Local\\Continuum\\anaconda3\\lib\\site-packages\\pandas\\core\\internals\\managers.py\u001b[0m in \u001b[0;36mset_axis\u001b[1;34m(self, axis, new_labels)\u001b[0m\n\u001b[0;32m    225\u001b[0m         \u001b[1;32mif\u001b[0m \u001b[0mnew_len\u001b[0m \u001b[1;33m!=\u001b[0m \u001b[0mold_len\u001b[0m\u001b[1;33m:\u001b[0m\u001b[1;33m\u001b[0m\u001b[1;33m\u001b[0m\u001b[0m\n\u001b[0;32m    226\u001b[0m             raise ValueError(\n\u001b[1;32m--> 227\u001b[1;33m                 \u001b[1;34mf\"Length mismatch: Expected axis has {old_len} elements, new \"\u001b[0m\u001b[1;33m\u001b[0m\u001b[1;33m\u001b[0m\u001b[0m\n\u001b[0m\u001b[0;32m    228\u001b[0m                 \u001b[1;34mf\"values have {new_len} elements\"\u001b[0m\u001b[1;33m\u001b[0m\u001b[1;33m\u001b[0m\u001b[0m\n\u001b[0;32m    229\u001b[0m             )\n",
      "\u001b[1;31mValueError\u001b[0m: Length mismatch: Expected axis has 0 elements, new values have 3 elements"
     ]
    }
   ],
   "source": [
    "lst = []\n",
    "df = pd.DataFrame(lst)\n",
    "df.columns = [\"first\" , \"second\" , \"third\"]"
   ]
  },
  {
   "cell_type": "code",
   "execution_count": 64,
   "metadata": {},
   "outputs": [
    {
     "data": {
      "text/plain": [
       "0"
      ]
     },
     "execution_count": 64,
     "metadata": {},
     "output_type": "execute_result"
    }
   ],
   "source": [
    "df = pd.DataFrame( [] , columns=country_index)\n",
    "lst = [1,2,3]\n",
    "len(df[\"USDKRW\"])\n"
   ]
  },
  {
   "cell_type": "code",
   "execution_count": 62,
   "metadata": {},
   "outputs": [
    {
     "name": "stderr",
     "output_type": "stream",
     "text": [
      "C:\\Users\\Ando\\AppData\\Local\\Continuum\\anaconda3\\lib\\site-packages\\ipykernel_launcher.py:1: SettingWithCopyWarning: \n",
      "A value is trying to be set on a copy of a slice from a DataFrame\n",
      "\n",
      "See the caveats in the documentation: https://pandas.pydata.org/pandas-docs/stable/user_guide/indexing.html#returning-a-view-versus-a-copy\n",
      "  \"\"\"Entry point for launching an IPython kernel.\n"
     ]
    },
    {
     "data": {
      "text/html": [
       "<div>\n",
       "<style scoped>\n",
       "    .dataframe tbody tr th:only-of-type {\n",
       "        vertical-align: middle;\n",
       "    }\n",
       "\n",
       "    .dataframe tbody tr th {\n",
       "        vertical-align: top;\n",
       "    }\n",
       "\n",
       "    .dataframe thead th {\n",
       "        text-align: right;\n",
       "    }\n",
       "</style>\n",
       "<table border=\"1\" class=\"dataframe\">\n",
       "  <thead>\n",
       "    <tr style=\"text-align: right;\">\n",
       "      <th></th>\n",
       "      <th>USDKRW</th>\n",
       "      <th>EURKRW</th>\n",
       "      <th>JPYKRW</th>\n",
       "      <th>CNYKRW</th>\n",
       "      <th>HKDKRW</th>\n",
       "      <th>TWDKRW</th>\n",
       "      <th>GBPKRW</th>\n",
       "      <th>OMRKRW</th>\n",
       "      <th>CADKRW</th>\n",
       "      <th>CHFKRW</th>\n",
       "      <th>...</th>\n",
       "      <th>PKRKRW</th>\n",
       "      <th>BDTKRW</th>\n",
       "      <th>PHPKRW</th>\n",
       "      <th>MXNKRW</th>\n",
       "      <th>BRLKRW</th>\n",
       "      <th>VNDKRW</th>\n",
       "      <th>ZARKRW</th>\n",
       "      <th>RUBKRW</th>\n",
       "      <th>HUFKRW</th>\n",
       "      <th>PLNKRW</th>\n",
       "    </tr>\n",
       "  </thead>\n",
       "  <tbody>\n",
       "    <tr>\n",
       "      <th>0</th>\n",
       "      <td>1</td>\n",
       "      <td>NaN</td>\n",
       "      <td>NaN</td>\n",
       "      <td>NaN</td>\n",
       "      <td>NaN</td>\n",
       "      <td>NaN</td>\n",
       "      <td>NaN</td>\n",
       "      <td>NaN</td>\n",
       "      <td>NaN</td>\n",
       "      <td>NaN</td>\n",
       "      <td>...</td>\n",
       "      <td>NaN</td>\n",
       "      <td>NaN</td>\n",
       "      <td>NaN</td>\n",
       "      <td>NaN</td>\n",
       "      <td>NaN</td>\n",
       "      <td>NaN</td>\n",
       "      <td>NaN</td>\n",
       "      <td>NaN</td>\n",
       "      <td>NaN</td>\n",
       "      <td>NaN</td>\n",
       "    </tr>\n",
       "    <tr>\n",
       "      <th>1</th>\n",
       "      <td>2</td>\n",
       "      <td>4</td>\n",
       "      <td>NaN</td>\n",
       "      <td>NaN</td>\n",
       "      <td>NaN</td>\n",
       "      <td>NaN</td>\n",
       "      <td>NaN</td>\n",
       "      <td>NaN</td>\n",
       "      <td>NaN</td>\n",
       "      <td>NaN</td>\n",
       "      <td>...</td>\n",
       "      <td>NaN</td>\n",
       "      <td>NaN</td>\n",
       "      <td>NaN</td>\n",
       "      <td>NaN</td>\n",
       "      <td>NaN</td>\n",
       "      <td>NaN</td>\n",
       "      <td>NaN</td>\n",
       "      <td>NaN</td>\n",
       "      <td>NaN</td>\n",
       "      <td>NaN</td>\n",
       "    </tr>\n",
       "    <tr>\n",
       "      <th>2</th>\n",
       "      <td>3</td>\n",
       "      <td>1</td>\n",
       "      <td>NaN</td>\n",
       "      <td>NaN</td>\n",
       "      <td>NaN</td>\n",
       "      <td>NaN</td>\n",
       "      <td>NaN</td>\n",
       "      <td>NaN</td>\n",
       "      <td>NaN</td>\n",
       "      <td>NaN</td>\n",
       "      <td>...</td>\n",
       "      <td>NaN</td>\n",
       "      <td>NaN</td>\n",
       "      <td>NaN</td>\n",
       "      <td>NaN</td>\n",
       "      <td>NaN</td>\n",
       "      <td>NaN</td>\n",
       "      <td>NaN</td>\n",
       "      <td>NaN</td>\n",
       "      <td>NaN</td>\n",
       "      <td>NaN</td>\n",
       "    </tr>\n",
       "  </tbody>\n",
       "</table>\n",
       "<p>3 rows × 44 columns</p>\n",
       "</div>"
      ],
      "text/plain": [
       "   USDKRW EURKRW JPYKRW CNYKRW HKDKRW TWDKRW GBPKRW OMRKRW CADKRW CHFKRW  ...  \\\n",
       "0       1    NaN    NaN    NaN    NaN    NaN    NaN    NaN    NaN    NaN  ...   \n",
       "1       2      4    NaN    NaN    NaN    NaN    NaN    NaN    NaN    NaN  ...   \n",
       "2       3      1    NaN    NaN    NaN    NaN    NaN    NaN    NaN    NaN  ...   \n",
       "\n",
       "  PKRKRW BDTKRW PHPKRW MXNKRW BRLKRW VNDKRW ZARKRW RUBKRW HUFKRW PLNKRW  \n",
       "0    NaN    NaN    NaN    NaN    NaN    NaN    NaN    NaN    NaN    NaN  \n",
       "1    NaN    NaN    NaN    NaN    NaN    NaN    NaN    NaN    NaN    NaN  \n",
       "2    NaN    NaN    NaN    NaN    NaN    NaN    NaN    NaN    NaN    NaN  \n",
       "\n",
       "[3 rows x 44 columns]"
      ]
     },
     "execution_count": 62,
     "metadata": {},
     "output_type": "execute_result"
    }
   ],
   "source": [
    "df[\"EURKRW\"][1:3] = [4,1]\n",
    "df"
   ]
  },
  {
   "cell_type": "code",
   "execution_count": 32,
   "metadata": {},
   "outputs": [
    {
     "name": "stdout",
     "output_type": "stream",
     "text": [
      "[<dd>2021년 01월 15일 16시 11분 기준 장마감</dd>, <dd>종목명 삼성전자</dd>, <dd>종목코드 005930 코스피</dd>, <dd>현재가 88,000 전일대비 하락 1,700 마이너스 1.90 퍼센트</dd>, <dd>전일가 89,700</dd>, <dd>시가 89,800</dd>, <dd>고가 91,800</dd>, <dd>상한가 116,500</dd>, <dd>저가 88,000</dd>, <dd>하한가 62,800</dd>, <dd>거래량 33,117,980</dd>, <dd>거래대금 2,947,682백만</dd>, <dd>오늘의시세 88,000 포인트</dd>, <dd>1,700 포인트 하락</dd>, <dd>1.90% 마이너스</dd>]\n"
     ]
    }
   ],
   "source": [
    "\n",
    "html = urlopen('https://finance.naver.com/item/main.nhn?code=005930')\n",
    "bsObject = BeautifulSoup(html, \"html.parser\")\n",
    "\n",
    "meta_data = []\n",
    "\n",
    "\n",
    "bs = bsObject.select(\"dl.blind dd\")\n",
    "print(bs)\n",
    "# for cover in bsObject.find_all('dl' , {\"class\" : \"blind\"}):\n",
    "#     print(cover)\n",
    "#     data = []\n",
    "#     for cover2 in cover.find_all('dd'):\n",
    "#         data.append(cover2.get_text())\n",
    "#         print(\"//\")\n",
    "#         print(cover2)\n",
    "#     meta_data.append(data)\n",
    "# print(meta_data)"
   ]
  },
  {
   "cell_type": "code",
   "execution_count": 54,
   "metadata": {},
   "outputs": [
    {
     "ename": "AttributeError",
     "evalue": "'list' object has no attribute 'text'",
     "output_type": "error",
     "traceback": [
      "\u001b[1;31m---------------------------------------------------------------------------\u001b[0m",
      "\u001b[1;31mAttributeError\u001b[0m                            Traceback (most recent call last)",
      "\u001b[1;32m<ipython-input-54-03f7ad8462a1>\u001b[0m in \u001b[0;36m<module>\u001b[1;34m\u001b[0m\n\u001b[0;32m      4\u001b[0m \u001b[0ma\u001b[0m \u001b[1;33m=\u001b[0m \u001b[0mdriver\u001b[0m\u001b[1;33m.\u001b[0m\u001b[0mfind_elements_by_css_selector\u001b[0m\u001b[1;33m(\u001b[0m\u001b[1;34m\"span.tah.p10.gray03\"\u001b[0m\u001b[1;33m)\u001b[0m\u001b[1;33m\u001b[0m\u001b[1;33m\u001b[0m\u001b[0m\n\u001b[0;32m      5\u001b[0m \u001b[0mb\u001b[0m \u001b[1;33m=\u001b[0m \u001b[0mdriver\u001b[0m\u001b[1;33m.\u001b[0m\u001b[0mfind_elements_by_css_selector\u001b[0m\u001b[1;33m(\u001b[0m\u001b[1;34m\"span.tah.p11\"\u001b[0m\u001b[1;33m)\u001b[0m\u001b[1;33m\u001b[0m\u001b[1;33m\u001b[0m\u001b[0m\n\u001b[1;32m----> 6\u001b[1;33m \u001b[0ma\u001b[0m\u001b[1;33m.\u001b[0m\u001b[0mtext\u001b[0m\u001b[1;33m\u001b[0m\u001b[1;33m\u001b[0m\u001b[0m\n\u001b[0m\u001b[0;32m      7\u001b[0m \u001b[0mb\u001b[0m\u001b[1;33m.\u001b[0m\u001b[0mtext\u001b[0m\u001b[1;33m\u001b[0m\u001b[1;33m\u001b[0m\u001b[0m\n",
      "\u001b[1;31mAttributeError\u001b[0m: 'list' object has no attribute 'text'"
     ]
    }
   ],
   "source": [
    "\n",
    "driver = webdriver.Chrome(\"./chromedriver.exe\")\n",
    "driver.get(\"https://finance.naver.com/item/sise_day.nhn?code=035720\")\n",
    "driver.page_source\n",
    "a = driver.find_elements_by_css_selector(\"span.tah.p10.gray03\")\n",
    "b = driver.find_elements_by_css_selector(\"span.tah.p11\")\n"
   ]
  },
  {
   "cell_type": "code",
   "execution_count": 19,
   "metadata": {},
   "outputs": [
    {
     "data": {
      "text/plain": [
       "[<matplotlib.lines.Line2D at 0x170bb8b7550>]"
      ]
     },
     "execution_count": 19,
     "metadata": {},
     "output_type": "execute_result"
    },
    {
     "data": {
      "image/png": "[encoded data removed]",
      "text/plain": [
       "<Figure size 432x288 with 1 Axes>"
      ]
     },
     "metadata": {
      "needs_background": "light"
     },
     "output_type": "display_data"
    }
   ],
   "source": [
    "\n",
    "## Time.sleep 안해도 잘되네..?? 인스타그램은 사진이라 그런가\n",
    "\n",
    "driver = webdriver.Chrome(\"./chromedriver.exe\")\n",
    "\n",
    "prices = []\n",
    "date = []\n",
    "\n",
    "for page in range(1,11):\n",
    "    url = \"https://finance.naver.com/item/sise_day.nhn?code=035720\" + \"&page=\" + str(page)\n",
    "    driver.get(url)\n",
    "    date_sel = driver.find_elements_by_css_selector(\"span.tah.p10.gray03\")\n",
    "    price_sel= driver.find_elements_by_css_selector(\"span.tah.p11\")\n",
    "    for d in date_sel:\n",
    "        date.append(d.text)\n",
    "\n",
    "    for i,p in enumerate(price_sel):\n",
    "        if i% 6 == 0:\n",
    "            prices.append(int(p.text.replace(\",\",\"\")))\n",
    "            \n",
    "df = pd.DataFrame({\"price (종가)\" : prices})\n",
    "df.index = date\n",
    "plt.plot(df[\"price (종가)\"].values)"
   ]
  },
  {
   "cell_type": "code",
   "execution_count": 14,
   "metadata": {},
   "outputs": [
    {
     "data": {
      "text/plain": [
       "2021.01.18    434,500\n",
       "2021.01.15    437,500\n",
       "2021.01.14    451,500\n",
       "2021.01.13    454,500\n",
       "2021.01.12    457,500\n",
       "               ...   \n",
       "2019.11.07    151,000\n",
       "2019.11.06    151,000\n",
       "2019.11.05    148,500\n",
       "2019.11.04    146,500\n",
       "2019.11.01    145,500\n",
       "Name: price (종가), Length: 300, dtype: object"
      ]
     },
     "execution_count": 14,
     "metadata": {},
     "output_type": "execute_result"
    },
    {
     "data": {
      "image/png": "[encoded data removed]",
      "text/plain": [
       "<Figure size 432x288 with 1 Axes>"
      ]
     },
     "metadata": {
      "needs_background": "light"
     },
     "output_type": "display_data"
    }
   ],
   "source": [
    "import matplotlib.pyplot as plt\n",
    "plt.plot(df[\"price (종가)\"].values)\n",
    "df[\"price (종가)\"]"
   ]
  },
  {
   "cell_type": "code",
   "execution_count": 16,
   "metadata": {},
   "outputs": [
    {
     "data": {
      "text/plain": [
       "[<matplotlib.lines.Line2D at 0x170bf56eeb8>]"
      ]
     },
     "execution_count": 16,
     "metadata": {},
     "output_type": "execute_result"
    },
    {
     "data": {
      "image/png": "[encoded data removed]",
      "text/plain": [
       "<Figure size 432x288 with 1 Axes>"
      ]
     },
     "metadata": {
      "needs_background": "light"
     },
     "output_type": "display_data"
    }
   ],
   "source": [
    "plt.plot(df[\"price (종가)\"].values[0:10])"
   ]
  },
  {
   "cell_type": "code",
   "execution_count": 58,
   "metadata": {},
   "outputs": [
    {
     "data": {
      "image/png": "[encoded data removed]",
      "text/plain": [
       "<Figure size 864x288 with 1 Axes>"
      ]
     },
     "metadata": {
      "needs_background": "light"
     },
     "output_type": "display_data"
    }
   ],
   "source": [
    "from matplotlib import font_manager , rc\n",
    "import platform\n",
    "\n",
    "# matplot 에서 한글 폰트 사용\n",
    "if platform.system() == \"Windows\":\n",
    "    path =  \"c:/Windows/Fonts/malgun.ttf\"\n",
    "    font_name = font_manager.FontProperties(fname=path).get_name()\n",
    "    rc('font' , family =  font_name)\n",
    "\n",
    "xticks = []\n",
    "for i in range(len(df)):\n",
    "    num_divide = 10\n",
    "    if i%10 == 0:\n",
    "        xticks.append(df.index[i])\n",
    "plt.xticks(xticks)\n",
    "\n",
    "# 좀 더 그럴듯하게 그려보기\n",
    "plt.figure(figsize=(12,4))\n",
    "plt.plot(df.index , df[\"price (종가)\"])\n",
    "plt.title(\"주식 가격 그래프\")\n",
    "plt.xlabel(\"기준 년월\")\n",
    "plt.ylabel(\"주식 가격 (종가 기준)\")\n",
    "\n",
    "plt.show()"
   ]
  },
  {
   "cell_type": "code",
   "execution_count": 103,
   "metadata": {},
   "outputs": [
    {
     "name": "stdout",
     "output_type": "stream",
     "text": [
      "코드 종목 : 카카오 / 코드 번호 : 035720\n",
      "Succesful Saving\n"
     ]
    }
   ],
   "source": [
    "\n",
    "\n",
    "def get_stock_prices(code_number):\n",
    "\n",
    "    driver = webdriver.Chrome(\"./chromedriver.exe\")\n",
    "    url = \"https://finance.naver.com/item/main.nhn?code=\" + code_number\n",
    "    driver.get(url)\n",
    "    if driver.find_elements_by_css_selector(\"div.error_content\"):\n",
    "        print(\"잘못된 코드번호 입니다\")\n",
    "        return\n",
    "    \n",
    "    stock_name = driver.find_element_by_css_selector(\"div.wrap_company a\").text\n",
    "    print(\"코드 종목 : {} / 코드 번호 : {}\".format(stock_name , code_number))\n",
    " \n",
    "    # 스크래핑\n",
    "    prices = []\n",
    "    date = []\n",
    "    pv_date = \"\"\n",
    "    while(1):\n",
    "        page += 1\n",
    "        url = \"https://finance.naver.com/item/sise_day.nhn?code=\" + code_number + \"&page=\" + str(page)\n",
    "        driver.get(url)\n",
    "        date_sel = driver.find_elements_by_css_selector(\"span.tah.p10.gray03\")\n",
    "        price_sel= driver.find_elements_by_css_selector(\"span.tah.p11\")\n",
    "\n",
    "        now_date = date_sel[0].text\n",
    "        if pv_date == now_date: break\n",
    "        else:\n",
    "            pv_date = now_date\n",
    "        for d in date_sel:\n",
    "            date.append(d.text)\n",
    "\n",
    "        for i,p in enumerate(price_sel):\n",
    "            if i% 6 == 0:\n",
    "                prices.append(int(p.text.replace(\",\",\"\")))\n",
    "    prices.reverse()\n",
    "    df = pd.DataFrame({\"price(종가)\" : prices})\n",
    "    df.index = date\n",
    "    save_name = stock_name + \" stock price.xlsx\"\n",
    "    df.to_excel(save_name , engine=\"openpyxl\")\n",
    "    print(\"Succesful Saving\")            \n",
    "    return\n",
    "\n",
    "\n",
    "get_stock_prices(\"035720\")      \n"
   ]
  },
  {
   "cell_type": "code",
   "execution_count": 107,
   "metadata": {},
   "outputs": [
    {
     "data": {
      "text/html": [
       "<div>\n",
       "<style scoped>\n",
       "    .dataframe tbody tr th:only-of-type {\n",
       "        vertical-align: middle;\n",
       "    }\n",
       "\n",
       "    .dataframe tbody tr th {\n",
       "        vertical-align: top;\n",
       "    }\n",
       "\n",
       "    .dataframe thead th {\n",
       "        text-align: right;\n",
       "    }\n",
       "</style>\n",
       "<table border=\"1\" class=\"dataframe\">\n",
       "  <thead>\n",
       "    <tr style=\"text-align: right;\">\n",
       "      <th></th>\n",
       "      <th>price(종가)</th>\n",
       "    </tr>\n",
       "  </thead>\n",
       "  <tbody>\n",
       "    <tr>\n",
       "      <th>2000.10.20</th>\n",
       "      <td>166500</td>\n",
       "    </tr>\n",
       "    <tr>\n",
       "      <th>2000.10.19</th>\n",
       "      <td>145000</td>\n",
       "    </tr>\n",
       "    <tr>\n",
       "      <th>2000.10.18</th>\n",
       "      <td>136500</td>\n",
       "    </tr>\n",
       "    <tr>\n",
       "      <th>2000.10.17</th>\n",
       "      <td>137000</td>\n",
       "    </tr>\n",
       "    <tr>\n",
       "      <th>2000.10.16</th>\n",
       "      <td>158000</td>\n",
       "    </tr>\n",
       "    <tr>\n",
       "      <th>...</th>\n",
       "      <td>...</td>\n",
       "    </tr>\n",
       "    <tr>\n",
       "      <th>1996.06.29</th>\n",
       "      <td>68500</td>\n",
       "    </tr>\n",
       "    <tr>\n",
       "      <th>1996.06.28</th>\n",
       "      <td>68100</td>\n",
       "    </tr>\n",
       "    <tr>\n",
       "      <th>1996.06.27</th>\n",
       "      <td>66900</td>\n",
       "    </tr>\n",
       "    <tr>\n",
       "      <th>1996.06.26</th>\n",
       "      <td>67700</td>\n",
       "    </tr>\n",
       "    <tr>\n",
       "      <th>1996.06.25</th>\n",
       "      <td>67500</td>\n",
       "    </tr>\n",
       "  </tbody>\n",
       "</table>\n",
       "<p>1173 rows × 1 columns</p>\n",
       "</div>"
      ],
      "text/plain": [
       "            price(종가)\n",
       "2000.10.20     166500\n",
       "2000.10.19     145000\n",
       "2000.10.18     136500\n",
       "2000.10.17     137000\n",
       "2000.10.16     158000\n",
       "...               ...\n",
       "1996.06.29      68500\n",
       "1996.06.28      68100\n",
       "1996.06.27      66900\n",
       "1996.06.26      67700\n",
       "1996.06.25      67500\n",
       "\n",
       "[1173 rows x 1 columns]"
      ]
     },
     "execution_count": 107,
     "metadata": {},
     "output_type": "execute_result"
    }
   ],
   "source": [
    "code_number = \"005930\"\n",
    "driver = webdriver.Chrome(\"./chromedriver.exe\")\n",
    "url = \"https://finance.naver.com/item/sise_day.nhn?code=035720&page=1000\"\n",
    "driver.get(url)\n",
    "\n",
    "page = 500\n",
    "prices = []\n",
    "date = []\n",
    "\n",
    "pv_date = \"\"\n",
    "while(1):\n",
    "    page += 1\n",
    "    url = \"https://finance.naver.com/item/sise_day.nhn?code=\" + code_number + \"&page=\" + str(page)\n",
    "    driver.get(url)\n",
    "    date_sel = driver.find_elements_by_css_selector(\"span.tah.p10.gray03\")\n",
    "    price_sel= driver.find_elements_by_css_selector(\"span.tah.p11\")\n",
    "    \n",
    "    now_date = date_sel[0].text\n",
    "    if pv_date == now_date: break\n",
    "    else:\n",
    "        pv_date = now_date\n",
    "    for d in date_sel:\n",
    "        date.append(d.text)\n",
    "\n",
    "    for i,p in enumerate(price_sel):\n",
    "        if i% 6 == 0:\n",
    "            prices.append(int(p.text.replace(\",\",\"\")))\n",
    "            \n",
    "\n",
    "df = pd.DataFrame({\"price(종가)\" : prices})\n",
    "df.index = date\n",
    "\n",
    "df\n"
   ]
  },
  {
   "cell_type": "code",
   "execution_count": 102,
   "metadata": {},
   "outputs": [
    {
     "data": {
      "text/plain": [
       "[5, 3, 1]"
      ]
     },
     "execution_count": 102,
     "metadata": {},
     "output_type": "execute_result"
    }
   ],
   "source": [
    "a = [1,3,5]\n",
    "a.reverse()\n",
    "a"
   ]
  },
  {
   "cell_type": "code",
   "execution_count": 76,
   "metadata": {},
   "outputs": [
    {
     "ename": "WebDriverException",
     "evalue": "Message: chrome not reachable\n  (Session info: chrome=87.0.4280.141)\n",
     "output_type": "error",
     "traceback": [
      "\u001b[1;31m---------------------------------------------------------------------------\u001b[0m",
      "\u001b[1;31mWebDriverException\u001b[0m                        Traceback (most recent call last)",
      "\u001b[1;32m<ipython-input-76-274c7985dc66>\u001b[0m in \u001b[0;36m<module>\u001b[1;34m\u001b[0m\n\u001b[1;32m----> 1\u001b[1;33m \u001b[0mlst\u001b[0m \u001b[1;33m=\u001b[0m \u001b[0mdriver\u001b[0m\u001b[1;33m.\u001b[0m\u001b[0mfind_elements_by_css_selector\u001b[0m\u001b[1;33m(\u001b[0m\u001b[1;34m\"a\"\u001b[0m\u001b[1;33m)\u001b[0m\u001b[1;33m\u001b[0m\u001b[1;33m\u001b[0m\u001b[0m\n\u001b[0m\u001b[0;32m      2\u001b[0m \u001b[1;33m\u001b[0m\u001b[0m\n\u001b[0;32m      3\u001b[0m \u001b[1;32mfor\u001b[0m \u001b[0ml\u001b[0m \u001b[1;32min\u001b[0m \u001b[0mlst\u001b[0m\u001b[1;33m:\u001b[0m\u001b[1;33m\u001b[0m\u001b[1;33m\u001b[0m\u001b[0m\n\u001b[0;32m      4\u001b[0m     \u001b[0mprint\u001b[0m\u001b[1;33m(\u001b[0m\u001b[0ml\u001b[0m\u001b[1;33m.\u001b[0m\u001b[0mtext\u001b[0m\u001b[1;33m)\u001b[0m\u001b[1;33m\u001b[0m\u001b[1;33m\u001b[0m\u001b[0m\n",
      "\u001b[1;32m~\\AppData\\Local\\Continuum\\anaconda3\\lib\\site-packages\\selenium\\webdriver\\remote\\webdriver.py\u001b[0m in \u001b[0;36mfind_elements_by_css_selector\u001b[1;34m(self, css_selector)\u001b[0m\n\u001b[0;32m    612\u001b[0m             \u001b[0melements\u001b[0m \u001b[1;33m=\u001b[0m \u001b[0mdriver\u001b[0m\u001b[1;33m.\u001b[0m\u001b[0mfind_elements_by_css_selector\u001b[0m\u001b[1;33m(\u001b[0m\u001b[1;34m'.foo'\u001b[0m\u001b[1;33m)\u001b[0m\u001b[1;33m\u001b[0m\u001b[1;33m\u001b[0m\u001b[0m\n\u001b[0;32m    613\u001b[0m         \"\"\"\n\u001b[1;32m--> 614\u001b[1;33m         \u001b[1;32mreturn\u001b[0m \u001b[0mself\u001b[0m\u001b[1;33m.\u001b[0m\u001b[0mfind_elements\u001b[0m\u001b[1;33m(\u001b[0m\u001b[0mby\u001b[0m\u001b[1;33m=\u001b[0m\u001b[0mBy\u001b[0m\u001b[1;33m.\u001b[0m\u001b[0mCSS_SELECTOR\u001b[0m\u001b[1;33m,\u001b[0m \u001b[0mvalue\u001b[0m\u001b[1;33m=\u001b[0m\u001b[0mcss_selector\u001b[0m\u001b[1;33m)\u001b[0m\u001b[1;33m\u001b[0m\u001b[1;33m\u001b[0m\u001b[0m\n\u001b[0m\u001b[0;32m    615\u001b[0m \u001b[1;33m\u001b[0m\u001b[0m\n\u001b[0;32m    616\u001b[0m     \u001b[1;32mdef\u001b[0m \u001b[0mexecute_script\u001b[0m\u001b[1;33m(\u001b[0m\u001b[0mself\u001b[0m\u001b[1;33m,\u001b[0m \u001b[0mscript\u001b[0m\u001b[1;33m,\u001b[0m \u001b[1;33m*\u001b[0m\u001b[0margs\u001b[0m\u001b[1;33m)\u001b[0m\u001b[1;33m:\u001b[0m\u001b[1;33m\u001b[0m\u001b[1;33m\u001b[0m\u001b[0m\n",
      "\u001b[1;32m~\\AppData\\Local\\Continuum\\anaconda3\\lib\\site-packages\\selenium\\webdriver\\remote\\webdriver.py\u001b[0m in \u001b[0;36mfind_elements\u001b[1;34m(self, by, value)\u001b[0m\n\u001b[0;32m   1005\u001b[0m         return self.execute(Command.FIND_ELEMENTS, {\n\u001b[0;32m   1006\u001b[0m             \u001b[1;34m'using'\u001b[0m\u001b[1;33m:\u001b[0m \u001b[0mby\u001b[0m\u001b[1;33m,\u001b[0m\u001b[1;33m\u001b[0m\u001b[1;33m\u001b[0m\u001b[0m\n\u001b[1;32m-> 1007\u001b[1;33m             'value': value})['value'] or []\n\u001b[0m\u001b[0;32m   1008\u001b[0m \u001b[1;33m\u001b[0m\u001b[0m\n\u001b[0;32m   1009\u001b[0m     \u001b[1;33m@\u001b[0m\u001b[0mproperty\u001b[0m\u001b[1;33m\u001b[0m\u001b[1;33m\u001b[0m\u001b[0m\n",
      "\u001b[1;32m~\\AppData\\Local\\Continuum\\anaconda3\\lib\\site-packages\\selenium\\webdriver\\remote\\webdriver.py\u001b[0m in \u001b[0;36mexecute\u001b[1;34m(self, driver_command, params)\u001b[0m\n\u001b[0;32m    319\u001b[0m         \u001b[0mresponse\u001b[0m \u001b[1;33m=\u001b[0m \u001b[0mself\u001b[0m\u001b[1;33m.\u001b[0m\u001b[0mcommand_executor\u001b[0m\u001b[1;33m.\u001b[0m\u001b[0mexecute\u001b[0m\u001b[1;33m(\u001b[0m\u001b[0mdriver_command\u001b[0m\u001b[1;33m,\u001b[0m \u001b[0mparams\u001b[0m\u001b[1;33m)\u001b[0m\u001b[1;33m\u001b[0m\u001b[1;33m\u001b[0m\u001b[0m\n\u001b[0;32m    320\u001b[0m         \u001b[1;32mif\u001b[0m \u001b[0mresponse\u001b[0m\u001b[1;33m:\u001b[0m\u001b[1;33m\u001b[0m\u001b[1;33m\u001b[0m\u001b[0m\n\u001b[1;32m--> 321\u001b[1;33m             \u001b[0mself\u001b[0m\u001b[1;33m.\u001b[0m\u001b[0merror_handler\u001b[0m\u001b[1;33m.\u001b[0m\u001b[0mcheck_response\u001b[0m\u001b[1;33m(\u001b[0m\u001b[0mresponse\u001b[0m\u001b[1;33m)\u001b[0m\u001b[1;33m\u001b[0m\u001b[1;33m\u001b[0m\u001b[0m\n\u001b[0m\u001b[0;32m    322\u001b[0m             response['value'] = self._unwrap_value(\n\u001b[0;32m    323\u001b[0m                 response.get('value', None))\n",
      "\u001b[1;32m~\\AppData\\Local\\Continuum\\anaconda3\\lib\\site-packages\\selenium\\webdriver\\remote\\errorhandler.py\u001b[0m in \u001b[0;36mcheck_response\u001b[1;34m(self, response)\u001b[0m\n\u001b[0;32m    240\u001b[0m                 \u001b[0malert_text\u001b[0m \u001b[1;33m=\u001b[0m \u001b[0mvalue\u001b[0m\u001b[1;33m[\u001b[0m\u001b[1;34m'alert'\u001b[0m\u001b[1;33m]\u001b[0m\u001b[1;33m.\u001b[0m\u001b[0mget\u001b[0m\u001b[1;33m(\u001b[0m\u001b[1;34m'text'\u001b[0m\u001b[1;33m)\u001b[0m\u001b[1;33m\u001b[0m\u001b[1;33m\u001b[0m\u001b[0m\n\u001b[0;32m    241\u001b[0m             \u001b[1;32mraise\u001b[0m \u001b[0mexception_class\u001b[0m\u001b[1;33m(\u001b[0m\u001b[0mmessage\u001b[0m\u001b[1;33m,\u001b[0m \u001b[0mscreen\u001b[0m\u001b[1;33m,\u001b[0m \u001b[0mstacktrace\u001b[0m\u001b[1;33m,\u001b[0m \u001b[0malert_text\u001b[0m\u001b[1;33m)\u001b[0m\u001b[1;33m\u001b[0m\u001b[1;33m\u001b[0m\u001b[0m\n\u001b[1;32m--> 242\u001b[1;33m         \u001b[1;32mraise\u001b[0m \u001b[0mexception_class\u001b[0m\u001b[1;33m(\u001b[0m\u001b[0mmessage\u001b[0m\u001b[1;33m,\u001b[0m \u001b[0mscreen\u001b[0m\u001b[1;33m,\u001b[0m \u001b[0mstacktrace\u001b[0m\u001b[1;33m)\u001b[0m\u001b[1;33m\u001b[0m\u001b[1;33m\u001b[0m\u001b[0m\n\u001b[0m\u001b[0;32m    243\u001b[0m \u001b[1;33m\u001b[0m\u001b[0m\n\u001b[0;32m    244\u001b[0m     \u001b[1;32mdef\u001b[0m \u001b[0m_value_or_default\u001b[0m\u001b[1;33m(\u001b[0m\u001b[0mself\u001b[0m\u001b[1;33m,\u001b[0m \u001b[0mobj\u001b[0m\u001b[1;33m,\u001b[0m \u001b[0mkey\u001b[0m\u001b[1;33m,\u001b[0m \u001b[0mdefault\u001b[0m\u001b[1;33m)\u001b[0m\u001b[1;33m:\u001b[0m\u001b[1;33m\u001b[0m\u001b[1;33m\u001b[0m\u001b[0m\n",
      "\u001b[1;31mWebDriverException\u001b[0m: Message: chrome not reachable\n  (Session info: chrome=87.0.4280.141)\n"
     ]
    }
   ],
   "source": []
  },
  {
   "cell_type": "code",
   "execution_count": null,
   "metadata": {},
   "outputs": [],
   "source": [
    "    prices = []\n",
    "    date = []\n",
    "\n",
    "    for page in range(1,11):\n",
    "        url = \"https://finance.naver.com/item/sise_day.nhn?code=035720\" + \"&page=\" + str(page)\n",
    "        driver.get(url)\n",
    "        date_sel = driver.find_elements_by_css_selector(\"span.tah.p10.gray03\")\n",
    "        price_sel= driver.find_elements_by_css_selector(\"span.tah.p11\")\n",
    "        for d in date_sel:\n",
    "            date.append(d.text)\n",
    "\n",
    "        for i,p in enumerate(price_sel):\n",
    "            if i% 6 == 0:\n",
    "                prices.append(int(p.text.replace(\",\",\"\")))\n",
    "            \n",
    "df = pd.DataFrame({\"price (종가)\" : prices})\n",
    "df.index = date\n",
    "plt.plot(df[\"price (종가)\"].values)"
   ]
  },
  {
   "cell_type": "code",
   "execution_count": 55,
   "metadata": {},
   "outputs": [
    {
     "data": {
      "text/plain": [
       "100"
      ]
     },
     "execution_count": 55,
     "metadata": {},
     "output_type": "execute_result"
    }
   ],
   "source": [
    "df.index\n",
    "len(df)"
   ]
  },
  {
   "cell_type": "code",
   "execution_count": 51,
   "metadata": {},
   "outputs": [
    {
     "name": "stdout",
     "output_type": "stream",
     "text": [
      "<html lang=\"ko\">\n",
      "<head>\n",
      "<title>네이버 금융</title>\n",
      "<meta content=\"text/html; charset=utf-8\" http-equiv=\"Content-Type\"/>\n",
      "<meta content=\"text/javascript\" http-equiv=\"Content-Script-Type\"/>\n",
      "<meta content=\"text/css\" http-equiv=\"Content-Style-Type\"/>\n",
      "<link href=\"https://ssl.pstatic.net/imgstock/static.pc/20210115182045/css/finance.css\" rel=\"stylesheet\" type=\"text/css\"/>\n",
      "<script language=\"javascript\">document.domain=\"naver.com\";</script>\n",
      "<script src=\"https://ssl.pstatic.net/imgstock/static.pc/20210115182045/js/info/jindo.min.ns.1.5.3.euckr.js\" type=\"text/javascript\"></script>\n",
      "<script src=\"https://ssl.pstatic.net/imgstock/static.pc/20210115182045/js/lcslog.js\" type=\"text/javascript\"></script>\n",
      "</head>\n",
      "<body>\n",
      "<div class=\"section_exchange section_today\">\n",
      "<h3 class=\"h_today\"><span>일별 환율</span></h3>\n",
      "<table border=\"1\" class=\"tbl_exchange today\" summary=\"일별 환율 리스트\">\n",
      "<caption>일별 환율</caption>\n",
      "<colgroup>\n",
      "<col width=\"78\"/>\n",
      "<col width=\"78\"/>\n",
      "<col width=\"73\"/>\n",
      "<col width=\"76\"/>\n",
      "<col width=\"76\"/>\n",
      "<col width=\"76\"/>\n",
      "<col width=\"78\"/>\n",
      "<col width=\"85\"/>\n",
      "</colgroup>\n",
      "<thead>\n",
      "<tr>\n",
      "<th class=\"th_today1\" rowspan=\"2\"><span>날짜</span></th>\n",
      "<th class=\"th_today2\" rowspan=\"2\"><span>매매기준율</span></th>\n",
      "<th class=\"th_today3\" rowspan=\"2\"><span>전일대비</span></th>\n",
      "<th class=\"th_today4\" colspan=\"2\"><span>현찰</span></th>\n",
      "<th class=\"th_today5\" colspan=\"2\"><span>송금</span></th>\n",
      "<th class=\"th_today6\" rowspan=\"2\"><span>T/C 사실때</span></th>\n",
      "<th class=\"th_today7\" rowspan=\"2\"><span>외화수표 파실 때</span></th>\n",
      "</tr>\n",
      "<tr>\n",
      "<th class=\"th_today9\"><span>사실 때 </span></th>\n",
      "<th class=\"th_today10\"><span>파실 때 </span></th>\n",
      "<th class=\"th_today11\"><span>보내실 때 </span></th>\n",
      "<th class=\"th_today12\"><span>받으실 때</span></th>\n",
      "</tr>\n",
      "</thead>\n",
      "<tbody>\n",
      "<tr class=\"up\">\n",
      "<td class=\"date\">2021.01.15</td>\n",
      "<td class=\"num\">1,103.50</td>\n",
      "<td class=\"num\"><img alt=\"상승\" height=\"6\" src=\"https://ssl.pstatic.net/static/nfinance/ico_up.gif\" width=\"7\"/> 7.50</td>\n",
      "<td>1,122.81</td>\n",
      "<td>1,084.19</td>\n",
      "<td>1,114.30</td>\n",
      "<td>1,092.70</td>\n",
      "<td>\n",
      "\t\n",
      "\t\t\n",
      "\t\t1,116.74\n",
      "\t\n",
      "\t</td>\n",
      "<td class=\"last_td\">\n",
      "\t\n",
      "\t\t\n",
      "\t\t1,092.10\n",
      "\t\n",
      "\t</td>\n",
      "</tr>\n",
      "<tr class=\"down\">\n",
      "<td class=\"date\">2021.01.14</td>\n",
      "<td class=\"num\">1,096.00</td>\n",
      "<td class=\"num\"><img alt=\"하락\" height=\"6\" src=\"https://ssl.pstatic.net/static/nfinance/ico_down.gif\" width=\"7\"/>  1.00</td>\n",
      "<td>1,115.18</td>\n",
      "<td>1,076.82</td>\n",
      "<td>1,106.70</td>\n",
      "<td>1,085.30</td>\n",
      "<td>\n",
      "\t\n",
      "\t\t\n",
      "\t\t1,109.15\n",
      "\t\n",
      "\t</td>\n",
      "<td class=\"last_td\">\n",
      "\t\n",
      "\t\t\n",
      "\t\t1,084.70\n",
      "\t\n",
      "\t</td>\n",
      "</tr>\n",
      "<tr class=\"down\">\n",
      "<td class=\"date\">2021.01.13</td>\n",
      "<td class=\"num\">1,097.00</td>\n",
      "<td class=\"num\"><img alt=\"하락\" height=\"6\" src=\"https://ssl.pstatic.net/static/nfinance/ico_down.gif\" width=\"7\"/>  2.00</td>\n",
      "<td>1,116.19</td>\n",
      "<td>1,077.81</td>\n",
      "<td>1,107.70</td>\n",
      "<td>1,086.30</td>\n",
      "<td>\n",
      "\t\n",
      "\t\t\n",
      "\t\t1,110.16\n",
      "\t\n",
      "\t</td>\n",
      "<td class=\"last_td\">\n",
      "\t\n",
      "\t\t\n",
      "\t\t1,085.70\n",
      "\t\n",
      "\t</td>\n",
      "</tr>\n",
      "<tr class=\"up\">\n",
      "<td class=\"date\">2021.01.12</td>\n",
      "<td class=\"num\">1,099.00</td>\n",
      "<td class=\"num\"><img alt=\"상승\" height=\"6\" src=\"https://ssl.pstatic.net/static/nfinance/ico_up.gif\" width=\"7\"/> 1.00</td>\n",
      "<td>1,118.23</td>\n",
      "<td>1,079.77</td>\n",
      "<td>1,109.70</td>\n",
      "<td>1,088.30</td>\n",
      "<td>\n",
      "\t\n",
      "\t\t\n",
      "\t\t1,112.18\n",
      "\t\n",
      "\t</td>\n",
      "<td class=\"last_td\">\n",
      "\t\n",
      "\t\t\n",
      "\t\t1,087.70\n",
      "\t\n",
      "\t</td>\n",
      "</tr>\n",
      "<tr class=\"up\">\n",
      "<td class=\"date\">2021.01.11</td>\n",
      "<td class=\"num\">1,098.00</td>\n",
      "<td class=\"num\"><img alt=\"상승\" height=\"6\" src=\"https://ssl.pstatic.net/static/nfinance/ico_up.gif\" width=\"7\"/> 6.00</td>\n",
      "<td>1,117.21</td>\n",
      "<td>1,078.79</td>\n",
      "<td>1,108.70</td>\n",
      "<td>1,087.30</td>\n",
      "<td>\n",
      "\t\n",
      "\t\t\n",
      "\t\t1,111.17\n",
      "\t\n",
      "\t</td>\n",
      "<td class=\"last_td\">\n",
      "\t\n",
      "\t\t\n",
      "\t\t1,086.70\n",
      "\t\n",
      "\t</td>\n",
      "</tr>\n",
      "<tr class=\"same2\">\n",
      "<td class=\"date\">2021.01.08</td>\n",
      "<td class=\"num\">1,092.00</td>\n",
      "<td class=\"num\"><img alt=\"보합\" height=\"6\" src=\"https://ssl.pstatic.net/static/nfinance/ico_same2.gif\" width=\"7\"/> 0.00</td>\n",
      "<td>1,111.11</td>\n",
      "<td>1,072.89</td>\n",
      "<td>1,102.70</td>\n",
      "<td>1,081.30</td>\n",
      "<td>\n",
      "\t\n",
      "\t\t\n",
      "\t\t1,105.10\n",
      "\t\n",
      "\t</td>\n",
      "<td class=\"last_td\">\n",
      "\t\n",
      "\t\t\n",
      "\t\t1,080.70\n",
      "\t\n",
      "\t</td>\n",
      "</tr>\n",
      "<tr class=\"up\">\n",
      "<td class=\"date\">2021.01.07</td>\n",
      "<td class=\"num\">1,092.00</td>\n",
      "<td class=\"num\"><img alt=\"상승\" height=\"6\" src=\"https://ssl.pstatic.net/static/nfinance/ico_up.gif\" width=\"7\"/> 5.50</td>\n",
      "<td>1,111.11</td>\n",
      "<td>1,072.89</td>\n",
      "<td>1,102.70</td>\n",
      "<td>1,081.30</td>\n",
      "<td>\n",
      "\t\n",
      "\t\t\n",
      "\t\t1,105.10\n",
      "\t\n",
      "\t</td>\n",
      "<td class=\"last_td\">\n",
      "\t\n",
      "\t\t\n",
      "\t\t1,080.70\n",
      "\t\n",
      "\t</td>\n",
      "</tr>\n",
      "<tr class=\"down\">\n",
      "<td class=\"date\">2021.01.06</td>\n",
      "<td class=\"num\">1,086.50</td>\n",
      "<td class=\"num\"><img alt=\"하락\" height=\"6\" src=\"https://ssl.pstatic.net/static/nfinance/ico_down.gif\" width=\"7\"/>  2.50</td>\n",
      "<td>1,105.51</td>\n",
      "<td>1,067.49</td>\n",
      "<td>1,097.10</td>\n",
      "<td>1,075.90</td>\n",
      "<td>\n",
      "\t\n",
      "\t\t\n",
      "\t\t1,099.53\n",
      "\t\n",
      "\t</td>\n",
      "<td class=\"last_td\">\n",
      "\t\n",
      "\t\t\n",
      "\t\t1,075.31\n",
      "\t\n",
      "\t</td>\n",
      "</tr>\n",
      "<tr class=\"up\">\n",
      "<td class=\"date\">2021.01.05</td>\n",
      "<td class=\"num\">1,089.00</td>\n",
      "<td class=\"num\"><img alt=\"상승\" height=\"6\" src=\"https://ssl.pstatic.net/static/nfinance/ico_up.gif\" width=\"7\"/> 6.50</td>\n",
      "<td>1,108.05</td>\n",
      "<td>1,069.95</td>\n",
      "<td>1,099.60</td>\n",
      "<td>1,078.40</td>\n",
      "<td>\n",
      "\t\n",
      "\t\t\n",
      "\t\t1,102.06\n",
      "\t\n",
      "\t</td>\n",
      "<td class=\"last_td\">\n",
      "\t\n",
      "\t\t\n",
      "\t\t1,077.80\n",
      "\t\n",
      "\t</td>\n",
      "</tr>\n",
      "<tr class=\"down\">\n",
      "<td class=\"date\">2021.01.04</td>\n",
      "<td class=\"num\">1,082.50</td>\n",
      "<td class=\"num\"><img alt=\"하락\" height=\"6\" src=\"https://ssl.pstatic.net/static/nfinance/ico_down.gif\" width=\"7\"/>  5.50</td>\n",
      "<td>1,101.44</td>\n",
      "<td>1,063.56</td>\n",
      "<td>1,093.10</td>\n",
      "<td>1,071.90</td>\n",
      "<td>\n",
      "\t\n",
      "\t\t\n",
      "\t\t1,095.49\n",
      "\t\n",
      "\t</td>\n",
      "<td class=\"last_td\">\n",
      "\t\n",
      "\t\t\n",
      "\t\t1,071.31\n",
      "\t\n",
      "\t</td>\n",
      "</tr>\n",
      "</tbody>\n",
      "</table>\n",
      "<div class=\"paging\">\n",
      "<a class=\"on\" href=\"/marketindex/exchangeDailyQuote.nhn?marketindexCd=FX_USDKRW&amp;page=1\" onclick=\"parent.clickcr(this,'med.pagination','','',event);\">1</a>\n",
      "<a href=\"/marketindex/exchangeDailyQuote.nhn?marketindexCd=FX_USDKRW&amp;page=2\" onclick=\"parent.clickcr(this,'med.pagination','','',event);\">2</a>\n",
      "<a href=\"/marketindex/exchangeDailyQuote.nhn?marketindexCd=FX_USDKRW&amp;page=3\" onclick=\"parent.clickcr(this,'med.pagination','','',event);\">3</a>\n",
      "<a href=\"/marketindex/exchangeDailyQuote.nhn?marketindexCd=FX_USDKRW&amp;page=4\" onclick=\"parent.clickcr(this,'med.pagination','','',event);\">4</a>\n",
      "<a href=\"/marketindex/exchangeDailyQuote.nhn?marketindexCd=FX_USDKRW&amp;page=5\" onclick=\"parent.clickcr(this,'med.pagination','','',event);\">5</a>\n",
      "<a href=\"/marketindex/exchangeDailyQuote.nhn?marketindexCd=FX_USDKRW&amp;page=6\" onclick=\"parent.clickcr(this,'med.pagination','','',event);\">6</a>\n",
      "<a href=\"/marketindex/exchangeDailyQuote.nhn?marketindexCd=FX_USDKRW&amp;page=7\" onclick=\"parent.clickcr(this,'med.pagination','','',event);\">7</a>\n",
      "<a href=\"/marketindex/exchangeDailyQuote.nhn?marketindexCd=FX_USDKRW&amp;page=8\" onclick=\"parent.clickcr(this,'med.pagination','','',event);\">8</a>\n",
      "<a href=\"/marketindex/exchangeDailyQuote.nhn?marketindexCd=FX_USDKRW&amp;page=9\" onclick=\"parent.clickcr(this,'med.pagination','','',event);\">9</a>\n",
      "<a href=\"/marketindex/exchangeDailyQuote.nhn?marketindexCd=FX_USDKRW&amp;page=10\" onclick=\"parent.clickcr(this,'med.pagination','','',event);\">10</a>\n",
      "<a class=\"next\" href=\"/marketindex/exchangeDailyQuote.nhn?marketindexCd=FX_USDKRW&amp;page=11\" onclick=\"parent.clickcr(this,'med.pagination','','',event);\">다음 <img alt=\"\" border=\"0\" height=\"5\" src=\"https://ssl.pstatic.net/static/nfinance/bu_pgarR.gif\" width=\"3\"/></a>\n",
      "</div>\n",
      "</div>\n",
      "<script>\n",
      "\t\n",
      "\t var iframeResizeHelper = jindo.$Class({\n",
      "\t\tresizeIframe: function(minFrameSize){\n",
      "\t\t    var iframe = jindo.$Element(parent.document.getElementById('exchangeDailyQuote'));\n",
      "\t\t    if (iframe) {\n",
      "                var agent = jindo.$Agent().navigator();\n",
      "                var height = (agent.ie ? document.body.scrollHeight + (document.body.offsetHeight - document.body.clientHeight) : document.body.offsetHeight);\n",
      "\t\t        height = (agent.opera ? document.body.scrollHeight : height);\n",
      "\t\t\n",
      "\t\t        if (agent.chrome || agent.safari) {\n",
      "\t\t            var dummy = document.createElement(\"DIV\");\n",
      "\t\t            document.body.appendChild(dummy);\n",
      "\t\t            height = dummy.offsetTop;\n",
      "\t\t            document.body.removeChild(dummy);\n",
      "\t\t        }\n",
      "\t\t        \n",
      "\t\t        //minFrameSize가 document.body.height 보다 크다면 minFrameSize로 높이를 조정한다.\n",
      "\t\t        if(typeof minFrameSize == 'number' && minFrameSize > height){\n",
      "\t\t            height = minFrameSize;\n",
      "\t\t        }\n",
      "\t\t        iframe.height(height);\n",
      "\t\t\n",
      "\t\t\n",
      "\t\t        if (typeof this.resizeIframe.check == 'undefined') {\n",
      "\t\t            this.resizeIframe.check = 0;\n",
      "\t\t        }\n",
      "\t\t\n",
      "\t\t        if (this.resizeIframe.check < 3) {\n",
      "\t\t            this.resizeIframe.check = this.resizeIframe.check + 1;\n",
      "\t\t            setTimeout(jindo.$Fn(this.resizeIframe, this).bind(height), 100); // check 5 times for IE bug\n",
      "\t\t\n",
      "\t\t        }else {\n",
      "\t\t            this.resizeIframe.check = 0;\n",
      "\t\t        }\n",
      "\t\t    }\n",
      "\t\t}\n",
      "\t});\n",
      "\n",
      "\t jindo.$Fn(function() {\n",
      "\t\tvar oIframeResizeHelper = new iframeResizeHelper();\n",
      "\t\toIframeResizeHelper.resizeIframe(1);\n",
      "\t}).attach(window, \"load\");\t\n",
      "</script>\n",
      "<script type=\"text/javascript\">\n",
      "</script>\n",
      "</body>\n",
      "</html>\n"
     ]
    }
   ],
   "source": [
    "html = urlopen('https://finance.naver.com/marketindex/exchangeDailyQuote.nhn?marketindexCd=FX_USDKRW')\n",
    "bsObject = BeautifulSoup(html, \"lxml\")\n",
    "print(bsObject)\n"
   ]
  },
  {
   "cell_type": "code",
   "execution_count": 23,
   "metadata": {},
   "outputs": [
    {
     "data": {
      "text/plain": [
       "[]"
      ]
     },
     "execution_count": 23,
     "metadata": {},
     "output_type": "execute_result"
    }
   ],
   "source": [
    "bs = bsObject.select(\"table\")\n",
    "bs"
   ]
  },
  {
   "cell_type": "code",
   "execution_count": 21,
   "metadata": {},
   "outputs": [
    {
     "data": {
      "text/plain": [
       "[]"
      ]
     },
     "execution_count": 21,
     "metadata": {},
     "output_type": "execute_result"
    }
   ],
   "source": [
    "bs1"
   ]
  },
  {
   "cell_type": "code",
   "execution_count": null,
   "metadata": {},
   "outputs": [],
   "source": []
  }
 ],
 "metadata": {
  "kernelspec": {
   "display_name": "Python 3",
   "language": "python",
   "name": "python3"
  },
  "language_info": {
   "codemirror_mode": {
    "name": "ipython",
    "version": 3
   },
   "file_extension": ".py",
   "mimetype": "text/x-python",
   "name": "python",
   "nbconvert_exporter": "python",
   "pygments_lexer": "ipython3",
   "version": "3.7.3"
  }
 },
 "nbformat": 4,
 "nbformat_minor": 4
}
