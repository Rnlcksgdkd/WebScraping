{
 "cells": [
  {
   "cell_type": "code",
   "execution_count": 1,
   "metadata": {},
   "outputs": [],
   "source": [
    "from selenium import webdriver\n",
    "import time\n",
    "import re\n",
    "from urllib.request import urlopen\n",
    "from bs4 import BeautifulSoup\n",
    "import pandas as pd"
   ]
  },
  {
   "cell_type": "code",
   "execution_count": 14,
   "metadata": {},
   "outputs": [],
   "source": [
    "\n",
    "## 네이버 파이낸스를 통해 주식가격 및 환율 정보를 스크래핑 하는 코드입니다\n",
    "\n",
    "\n",
    "## B. 환율 구해서 취합하기\n",
    "\n",
    "# 현재\n",
    "def get_now_exchange():\n",
    "    \n",
    "    html = urlopen(\"https://finance.naver.com/marketindex/exchangeList.nhn\")\n",
    "    bsObject = BeautifulSoup(html, \"html.parser\")\n",
    "\n",
    "    exchange_data = []\n",
    "    bs = bsObject.select('div.tbl_area tbody tr')\n",
    "    for i,temp in enumerate(bs):\n",
    "        if i < 2: continue\n",
    "        country = temp.select(\"a\")[0].get_text().strip()\n",
    "        exchange = temp.select(\"td\")[1].get_text()\n",
    "        exchange_data.append([country , exchange]) \n",
    "    \n",
    "    for e in exchange_data:\n",
    "        print(e)\n",
    "    return\n",
    "\n",
    "\n",
    "# 각 나라마다 환율 정보가 담긴 홈페이지 링크를 주기 , 저장\n",
    "def get_country_exchange_link():\n",
    "    hompage_link = \"https://finance.naver.com/\"\n",
    "    base_link = \"https://finance.naver.com/marketindex/exchangeList.nhn\"\n",
    "    html = urlopen(base_link)\n",
    "    bsObject = BeautifulSoup(html, \"html.parser\")\n",
    "    cover = bsObject.select(\"td.tit>a\")\n",
    "    \n",
    "    for i,cover2 in enumerate(cover):\n",
    "\n",
    "        country =  cover2.get(\"href\")[-6:-1]\n",
    "        country_link = hompage_link + cover2.get(\"href\")\n",
    "        country_html = urlopen(country_link)\n",
    "        country_bs = BeautifulSoup(country_html, \"html.parser\")\n",
    "        country_daily_link = hompage_link + country_bs.select(\"iframe[title=일별시세]\")[0].get(\"src\")\n",
    "        print(country)\n",
    "        print(country_link)\n",
    "        print(country_daily_link)\n",
    "        break\n",
    "\n",
    "# 페이지 스크래핑 함수\n",
    "def scrapping_page():\n",
    "    pass\n",
    "\n",
    "# 전체에 대해서 환율 정보\n",
    "def get_exchange():\n",
    "    pass\n",
    "\n",
    "# 각 환율정보에 대한 기록을 갱신한다\n",
    "def update_exchange():\n",
    "    pass\n",
    "\n",
    "        "
   ]
  },
  {
   "cell_type": "code",
   "execution_count": 15,
   "metadata": {},
   "outputs": [
    {
     "name": "stdout",
     "output_type": "stream",
     "text": [
      "USDKR\n",
      "https://finance.naver.com//marketindex/exchangeDetail.nhn?marketindexCd=FX_USDKRW\n",
      "https://finance.naver.com//marketindex/exchangeDailyQuote.nhn?marketindexCd=FX_USDKRW\n"
     ]
    }
   ],
   "source": [
    "get_country_exchange_link()"
   ]
  },
  {
   "cell_type": "code",
   "execution_count": null,
   "metadata": {},
   "outputs": [],
   "source": []
  }
 ],
 "metadata": {
  "kernelspec": {
   "display_name": "Python 3",
   "language": "python",
   "name": "python3"
  },
  "language_info": {
   "codemirror_mode": {
    "name": "ipython",
    "version": 3
   },
   "file_extension": ".py",
   "mimetype": "text/x-python",
   "name": "python",
   "nbconvert_exporter": "python",
   "pygments_lexer": "ipython3",
   "version": "3.7.3"
  }
 },
 "nbformat": 4,
 "nbformat_minor": 4
}
