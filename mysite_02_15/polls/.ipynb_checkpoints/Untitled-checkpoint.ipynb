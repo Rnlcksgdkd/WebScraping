{
 "cells": [
  {
   "cell_type": "code",
   "execution_count": 1,
   "metadata": {},
   "outputs": [
    {
     "data": {
      "text/html": [
       "<div>\n",
       "<style scoped>\n",
       "    .dataframe tbody tr th:only-of-type {\n",
       "        vertical-align: middle;\n",
       "    }\n",
       "\n",
       "    .dataframe tbody tr th {\n",
       "        vertical-align: top;\n",
       "    }\n",
       "\n",
       "    .dataframe thead th {\n",
       "        text-align: right;\n",
       "    }\n",
       "</style>\n",
       "<table border=\"1\" class=\"dataframe\">\n",
       "  <thead>\n",
       "    <tr style=\"text-align: right;\">\n",
       "      <th></th>\n",
       "      <th>room_number</th>\n",
       "      <th>room_types</th>\n",
       "      <th>room_price</th>\n",
       "      <th>room_img</th>\n",
       "    </tr>\n",
       "  </thead>\n",
       "  <tbody>\n",
       "    <tr>\n",
       "      <th>0</th>\n",
       "      <td>50000</td>\n",
       "      <td>로즈마리</td>\n",
       "      <td>100000</td>\n",
       "      <td>//image.goodchoice.kr/resize_370x220/affiliate...</td>\n",
       "    </tr>\n",
       "    <tr>\n",
       "      <th>1</th>\n",
       "      <td>50000</td>\n",
       "      <td>베고니아</td>\n",
       "      <td>110000</td>\n",
       "      <td>//image.goodchoice.kr/resize_370x220/affiliate...</td>\n",
       "    </tr>\n",
       "    <tr>\n",
       "      <th>2</th>\n",
       "      <td>50000</td>\n",
       "      <td>아이리스</td>\n",
       "      <td>110000</td>\n",
       "      <td>//image.goodchoice.kr/resize_370x220/affiliate...</td>\n",
       "    </tr>\n",
       "    <tr>\n",
       "      <th>3</th>\n",
       "      <td>50000</td>\n",
       "      <td>쟈스민</td>\n",
       "      <td>110000</td>\n",
       "      <td>//image.goodchoice.kr/resize_370x220/affiliate...</td>\n",
       "    </tr>\n",
       "    <tr>\n",
       "      <th>4</th>\n",
       "      <td>50000</td>\n",
       "      <td>크로바</td>\n",
       "      <td>110000</td>\n",
       "      <td>//image.goodchoice.kr/resize_370x220/affiliate...</td>\n",
       "    </tr>\n",
       "    <tr>\n",
       "      <th>...</th>\n",
       "      <td>...</td>\n",
       "      <td>...</td>\n",
       "      <td>...</td>\n",
       "      <td>...</td>\n",
       "    </tr>\n",
       "    <tr>\n",
       "      <th>1213</th>\n",
       "      <td>50699</td>\n",
       "      <td>스탠다드 쿼드</td>\n",
       "      <td>240000</td>\n",
       "      <td>https://image.goodchoice.kr/resize_370x220/aff...</td>\n",
       "    </tr>\n",
       "    <tr>\n",
       "      <th>1214</th>\n",
       "      <td>50699</td>\n",
       "      <td>[조식 2인 패키지] 스탠다드 온돌</td>\n",
       "      <td>220000</td>\n",
       "      <td>https://image.goodchoice.kr/resize_370x220/aff...</td>\n",
       "    </tr>\n",
       "    <tr>\n",
       "      <th>1215</th>\n",
       "      <td>50699</td>\n",
       "      <td>[조식 2인 패키지] 스탠다드 플러스</td>\n",
       "      <td>220000</td>\n",
       "      <td>https://image.goodchoice.kr/resize_370x220/aff...</td>\n",
       "    </tr>\n",
       "    <tr>\n",
       "      <th>1216</th>\n",
       "      <td>50699</td>\n",
       "      <td>[조식 2인 패키지] 스탠다드 쿼드</td>\n",
       "      <td>260000</td>\n",
       "      <td>https://image.goodchoice.kr/resize_370x220/aff...</td>\n",
       "    </tr>\n",
       "    <tr>\n",
       "      <th>1217</th>\n",
       "      <td>50699</td>\n",
       "      <td>주니어 스위트 (투베드)</td>\n",
       "      <td>300000</td>\n",
       "      <td>https://image.goodchoice.kr/resize_370x220/aff...</td>\n",
       "    </tr>\n",
       "  </tbody>\n",
       "</table>\n",
       "<p>1218 rows × 4 columns</p>\n",
       "</div>"
      ],
      "text/plain": [
       "      room_number            room_types room_price                                           room_img\n",
       "0           50000                  로즈마리     100000  //image.goodchoice.kr/resize_370x220/affiliate...\n",
       "1           50000                  베고니아     110000  //image.goodchoice.kr/resize_370x220/affiliate...\n",
       "2           50000                  아이리스     110000  //image.goodchoice.kr/resize_370x220/affiliate...\n",
       "3           50000                   쟈스민     110000  //image.goodchoice.kr/resize_370x220/affiliate...\n",
       "4           50000                   크로바     110000  //image.goodchoice.kr/resize_370x220/affiliate...\n",
       "...           ...                   ...        ...                                                ...\n",
       "1213        50699               스탠다드 쿼드     240000  https://image.goodchoice.kr/resize_370x220/aff...\n",
       "1214        50699   [조식 2인 패키지] 스탠다드 온돌     220000  https://image.goodchoice.kr/resize_370x220/aff...\n",
       "1215        50699  [조식 2인 패키지] 스탠다드 플러스     220000  https://image.goodchoice.kr/resize_370x220/aff...\n",
       "1216        50699   [조식 2인 패키지] 스탠다드 쿼드     260000  https://image.goodchoice.kr/resize_370x220/aff...\n",
       "1217        50699         주니어 스위트 (투베드)     300000  https://image.goodchoice.kr/resize_370x220/aff...\n",
       "\n",
       "[1218 rows x 4 columns]"
      ]
     },
     "execution_count": 1,
     "metadata": {},
     "output_type": "execute_result"
    }
   ],
   "source": [
    "import pandas as pd\n",
    "\n",
    "df = pd.read_csv(\"roomdetail_final.csv\")\n",
    "\n",
    "\n",
    "df\n",
    "    "
   ]
  },
  {
   "cell_type": "code",
   "execution_count": 42,
   "metadata": {},
   "outputs": [],
   "source": [
    "count_blank = 0\n",
    "count_null = 0\n",
    "null_df = df.isnull()\n",
    "\n",
    "for i in range(len(df)):\n",
    "    if df.loc[i][\"room_types\"] == \" \":\n",
    "        count_blank += 1\n",
    "    if null_df[\"room_price\"][i] == True:\n",
    "        df[\"room_price\"][i] = \" \"\n",
    "        count_null += 1\n"
   ]
  },
  {
   "cell_type": "code",
   "execution_count": 43,
   "metadata": {},
   "outputs": [
    {
     "name": "stdout",
     "output_type": "stream",
     "text": [
      "42 0\n"
     ]
    }
   ],
   "source": [
    "print(count_blank , count_null)"
   ]
  },
  {
   "cell_type": "code",
   "execution_count": 44,
   "metadata": {},
   "outputs": [
    {
     "data": {
      "text/plain": [
       "room_number    0\n",
       "room_types     0\n",
       "room_price     0\n",
       "room_img       0\n",
       "dtype: int64"
      ]
     },
     "execution_count": 44,
     "metadata": {},
     "output_type": "execute_result"
    }
   ],
   "source": [
    "df.isnull().sum()"
   ]
  },
  {
   "cell_type": "code",
   "execution_count": 46,
   "metadata": {},
   "outputs": [
    {
     "data": {
      "text/plain": [
       "' '"
      ]
     },
     "execution_count": 46,
     "metadata": {},
     "output_type": "execute_result"
    }
   ],
   "source": [
    "df.loc[40][\"room_price\"]"
   ]
  },
  {
   "cell_type": "code",
   "execution_count": 48,
   "metadata": {},
   "outputs": [],
   "source": [
    "df.to_csv(\"roomdetail_final_2.csv\", mode='w', index=False)"
   ]
  },
  {
   "cell_type": "code",
   "execution_count": 61,
   "metadata": {},
   "outputs": [
    {
     "data": {
      "text/plain": [
       "list"
      ]
     },
     "execution_count": 61,
     "metadata": {},
     "output_type": "execute_result"
    }
   ],
   "source": [
    "type(df[\"room_number\"].values.tolist())"
   ]
  },
  {
   "cell_type": "code",
   "execution_count": 57,
   "metadata": {},
   "outputs": [
    {
     "name": "stderr",
     "output_type": "stream",
     "text": [
      "C:\\Users\\Ando\\AppData\\Local\\Continuum\\anaconda3\\lib\\site-packages\\ipykernel_launcher.py:2: SettingWithCopyWarning: \n",
      "A value is trying to be set on a copy of a slice from a DataFrame\n",
      "\n",
      "See the caveats in the documentation: https://pandas.pydata.org/pandas-docs/stable/user_guide/indexing.html#returning-a-view-versus-a-copy\n",
      "  \n"
     ]
    }
   ],
   "source": [
    "for i in range(len(df)):\n",
    "    df[\"room_number\"][i] = int( df[\"room_number\"][i])"
   ]
  },
  {
   "cell_type": "code",
   "execution_count": 63,
   "metadata": {},
   "outputs": [],
   "source": [
    "lst = df[\"room_number\"].values.tolist()"
   ]
  },
  {
   "cell_type": "code",
   "execution_count": 64,
   "metadata": {},
   "outputs": [
    {
     "data": {
      "text/plain": [
       "int"
      ]
     },
     "execution_count": 64,
     "metadata": {},
     "output_type": "execute_result"
    }
   ],
   "source": [
    "type(lst[0])"
   ]
  },
  {
   "cell_type": "code",
   "execution_count": null,
   "metadata": {},
   "outputs": [],
   "source": []
  }
 ],
 "metadata": {
  "kernelspec": {
   "display_name": "Python 3",
   "language": "python",
   "name": "python3"
  },
  "language_info": {
   "codemirror_mode": {
    "name": "ipython",
    "version": 3
   },
   "file_extension": ".py",
   "mimetype": "text/x-python",
   "name": "python",
   "nbconvert_exporter": "python",
   "pygments_lexer": "ipython3",
   "version": "3.7.3"
  }
 },
 "nbformat": 4,
 "nbformat_minor": 4
}
