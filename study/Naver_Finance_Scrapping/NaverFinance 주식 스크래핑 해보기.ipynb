{
 "cells": [
  {
   "cell_type": "code",
   "execution_count": 1,
   "metadata": {},
   "outputs": [],
   "source": [
    "from selenium import webdriver\n",
    "import time\n",
    "import re\n",
    "from urllib.request import urlopen\n",
    "from bs4 import BeautifulSoup\n",
    "import pandas as pd\n",
    "import matplotlib.pyplot as plt\n",
    "from matplotlib import font_manager , rc\n",
    "import platform\n",
    "\n",
    "fn_name = font_manager.FontProperties(fname='c:/Windows/Fonts/malgun.ttf').get_name()\n",
    "rc('font',family=fn_name)\n"
   ]
  },
  {
   "cell_type": "code",
   "execution_count": 2,
   "metadata": {},
   "outputs": [
    {
     "data": {
      "text/html": [
       "<div>\n",
       "<style scoped>\n",
       "    .dataframe tbody tr th:only-of-type {\n",
       "        vertical-align: middle;\n",
       "    }\n",
       "\n",
       "    .dataframe tbody tr th {\n",
       "        vertical-align: top;\n",
       "    }\n",
       "\n",
       "    .dataframe thead th {\n",
       "        text-align: right;\n",
       "    }\n",
       "</style>\n",
       "<table border=\"1\" class=\"dataframe\">\n",
       "  <thead>\n",
       "    <tr style=\"text-align: right;\">\n",
       "      <th></th>\n",
       "      <th>price (종가)</th>\n",
       "    </tr>\n",
       "  </thead>\n",
       "  <tbody>\n",
       "    <tr>\n",
       "      <th>2021.02.02</th>\n",
       "      <td>445,500</td>\n",
       "    </tr>\n",
       "    <tr>\n",
       "      <th>2021.02.01</th>\n",
       "      <td>441,500</td>\n",
       "    </tr>\n",
       "    <tr>\n",
       "      <th>2021.01.29</th>\n",
       "      <td>441,000</td>\n",
       "    </tr>\n",
       "    <tr>\n",
       "      <th>2021.01.28</th>\n",
       "      <td>458,000</td>\n",
       "    </tr>\n",
       "    <tr>\n",
       "      <th>2021.01.27</th>\n",
       "      <td>465,000</td>\n",
       "    </tr>\n",
       "    <tr>\n",
       "      <th>...</th>\n",
       "      <td>...</td>\n",
       "    </tr>\n",
       "    <tr>\n",
       "      <th>2020.09.11</th>\n",
       "      <td>379,000</td>\n",
       "    </tr>\n",
       "    <tr>\n",
       "      <th>2020.09.10</th>\n",
       "      <td>385,500</td>\n",
       "    </tr>\n",
       "    <tr>\n",
       "      <th>2020.09.09</th>\n",
       "      <td>384,000</td>\n",
       "    </tr>\n",
       "    <tr>\n",
       "      <th>2020.09.08</th>\n",
       "      <td>390,000</td>\n",
       "    </tr>\n",
       "    <tr>\n",
       "      <th>2020.09.07</th>\n",
       "      <td>392,000</td>\n",
       "    </tr>\n",
       "  </tbody>\n",
       "</table>\n",
       "<p>100 rows × 1 columns</p>\n",
       "</div>"
      ],
      "text/plain": [
       "           price (종가)\n",
       "2021.02.02    445,500\n",
       "2021.02.01    441,500\n",
       "2021.01.29    441,000\n",
       "2021.01.28    458,000\n",
       "2021.01.27    465,000\n",
       "...               ...\n",
       "2020.09.11    379,000\n",
       "2020.09.10    385,500\n",
       "2020.09.09    384,000\n",
       "2020.09.08    390,000\n",
       "2020.09.07    392,000\n",
       "\n",
       "[100 rows x 1 columns]"
      ]
     },
     "execution_count": 2,
     "metadata": {},
     "output_type": "execute_result"
    }
   ],
   "source": [
    "driver = webdriver.Chrome(\"./chromedriver.exe\")\n",
    "\n",
    "prices = []\n",
    "date = []\n",
    "\n",
    "# 우선 10 페이지만 테스트\n",
    "for page in range(1,11):\n",
    "    url = \"https://finance.naver.com/item/sise_day.nhn?code=035720\" + \"&page=\" + str(page)\n",
    "    driver.get(url)\n",
    "    date_sel = driver.find_elements_by_css_selector(\"span.tah.p10.gray03\")\n",
    "    price_sel= driver.find_elements_by_css_selector(\"span.tah.p11\")\n",
    "    for d in date_sel:\n",
    "        date.append(d.text)\n",
    "\t# 가격은 매매종가 기준\n",
    "    for i,p in enumerate(price_sel):\n",
    "        if i% 6 == 0:\n",
    "            prices.append(p.text)\n",
    "            \n",
    "df = pd.DataFrame({\"price (종가)\" : prices})\n",
    "df.index = date\n",
    "df"
   ]
  },
  {
   "cell_type": "code",
   "execution_count": null,
   "metadata": {},
   "outputs": [],
   "source": [
    "plt.plot(df[\"price (종가)\"].values)\n",
    "df[\"price (종가)\"]"
   ]
  },
  {
   "cell_type": "code",
   "execution_count": null,
   "metadata": {},
   "outputs": [],
   "source": [
    "plt.plot(df[\"price (종가)\"].values[0:10])"
   ]
  },
  {
   "cell_type": "code",
   "execution_count": null,
   "metadata": {},
   "outputs": [],
   "source": [
    "prices = []\n",
    "date = []\n",
    "\n",
    "# 우선 10 페이지만 테스트\n",
    "for page in range(1,11):\n",
    "    url = \"https://finance.naver.com/item/sise_day.nhn?code=005930\" + \"&page=\" + str(page)\n",
    "    driver.get(url)\n",
    "    date_sel = driver.find_elements_by_css_selector(\"span.tah.p10.gray03\")\n",
    "    price_sel= driver.find_elements_by_css_selector(\"span.tah.p11\")\n",
    "    for d in date_sel:\n",
    "        date.append(d.text)\n",
    "\n",
    "    for i,p in enumerate(price_sel):\n",
    "        if i%6 == 0: prices.append(int(p.text.replace(',',\"\")))\n",
    "            \n",
    "df = pd.DataFrame({\"price (종가)\" : prices})\n",
    "df.index = date\n",
    "plt.plot(df[\"price (종가)\"].values)"
   ]
  },
  {
   "cell_type": "code",
   "execution_count": null,
   "metadata": {},
   "outputs": [],
   "source": [
    "from matplotlib import font_manager , rc\n",
    "import platform\n",
    "\n",
    "# matplot 에서 한글 폰트 사용\n",
    "if platform.system() == \"Windows\":\n",
    "    path =  \"c:/Windows/Fonts/malgun.ttf\"\n",
    "    font_name = font_manager.FontProperties(fname=path).get_name()\n",
    "    rc('font' , family =  font_name)\n",
    "\n",
    "# 좀 더 그럴듯하게 그려보기\n",
    "plt.figure(figsize=(12,4))\n",
    "plt.plot(df[\"price (종가)\"] , label = \"Price\")\n",
    "plt.title(\"주식 가격 그래프\")\n",
    "plt.xlabel(\"기준 년월\")\n",
    "plt.ylabel(\"주식 가격 (종가 기준)\")\n",
    "plt.legend()\n",
    "plt.show()"
   ]
  },
  {
   "cell_type": "code",
   "execution_count": null,
   "metadata": {},
   "outputs": [],
   "source": [
    "\n",
    "plt.figure(figsize=(12,4))\n",
    "plt.plot(df[\"price (종가)\"] , label = \"Price\")\n",
    "plt.title(\"주식 가격 그래프\")\n",
    "plt.xlabel(\"기준 년월\")\n",
    "plt.ylabel(\"주식 가격 (종가 기준)\")\n",
    "plt.legend()\n",
    "\n",
    "# X 축에서 눈금이 len_xticks 개수만큼만 보이도록 설정\n",
    "xticks = []\n",
    "len_xticks = 10\n",
    "for i in range(len(df)):\n",
    "    num_divide = int(len(df)/len_xticks)\n",
    "    if i%num_divide == 0:\n",
    "        xticks.append(df.index[i])\n",
    "xticks.append(df.index[-1])\n",
    "plt.xticks(xticks)\n",
    "plt.show()"
   ]
  },
  {
   "cell_type": "code",
   "execution_count": null,
   "metadata": {},
   "outputs": [],
   "source": [
    "code_number = \"005930\"\n",
    "page = 0\n",
    "prices = []\n",
    "date = []\n",
    "\n",
    "pv_date = \"\"\n",
    "while(1):\n",
    "    page += 1\n",
    "    url = \"https://finance.naver.com/item/sise_day.nhn?code=\" + code_number + \"&page=\" + str(page)\n",
    "    driver.get(url)\n",
    "    date_sel = driver.find_elements_by_css_selector(\"span.tah.p10.gray03\")\n",
    "    price_sel= driver.find_elements_by_css_selector(\"span.tah.p11\")\n",
    "    \n",
    "    now_date = date_sel[0].text\n",
    "    if pv_date == now_date: break\n",
    "    else:\n",
    "        pv_date = now_date\n",
    "    for d in date_sel:\n",
    "        date.append(d.text)\n",
    "\n",
    "    for i,p in enumerate(price_sel):\n",
    "        if i% 6 == 0:\n",
    "            prices.append(int(p.text.replace(\",\",\"\")))\n",
    "            \n",
    "price.reverse()\n",
    "date.reverse()\n",
    "df = pd.DataFrame({\"price(종가)\" : prices})\n",
    "df.index = date\n",
    "\n",
    "df\n"
   ]
  },
  {
   "cell_type": "code",
   "execution_count": null,
   "metadata": {},
   "outputs": [],
   "source": [
    "def get_stock_prices(code_number):\n",
    "\n",
    "    driver = webdriver.Chrome(\"./chromedriver.exe\")\n",
    "    url = \"https://finance.naver.com/item/main.nhn?code=\" + code_number\n",
    "    driver.get(url)\n",
    "    if driver.find_elements_by_css_selector(\"div.error_content\"):\n",
    "        print(\"잘못된 코드번호 입니다\")\n",
    "        return\n",
    "    stock_name = driver.find_element_by_css_selector(\"div.wrap_company a\").text\n",
    "    print(\"코드 종목 : {} / 코드 번호 : {}\".format(stock_name , code_number))"
   ]
  },
  {
   "cell_type": "code",
   "execution_count": null,
   "metadata": {},
   "outputs": [],
   "source": [
    "get_stock_prices(\"000000\")\n",
    "get_stock_prices(\"293490\")"
   ]
  },
  {
   "cell_type": "code",
   "execution_count": null,
   "metadata": {},
   "outputs": [],
   "source": [
    "# 종목코드를 입력받아 전체 데이터 스크래핑\n",
    "def get_stock_prices(code_number):\n",
    "    \n",
    "    driver = webdriver.Chrome(\"./chromedriver.exe\")\n",
    "    url = \"https://finance.naver.com/item/main.nhn?code=\" + code_number\n",
    "    driver.get(url)\n",
    "    if driver.find_elements_by_css_selector(\"div.error_content\"):\n",
    "        print(\"잘못된 코드번호 입니다\")\n",
    "        return\n",
    "  \n",
    "    stock_name = driver.find_element_by_css_selector(\"div.wrap_company a\").text\n",
    "    print(\"코드 종목 : {} / 코드 번호 : {}\".format(stock_name , code_number))\n",
    "    \n",
    "    # 스크래핑\n",
    "    prices = []\n",
    "    date = []\n",
    "    pv_date = \"\"\n",
    "    page = 0\n",
    "    while(1):\n",
    "        page += 1\n",
    "        url = \"https://finance.naver.com/item/sise_day.nhn?code=\" + code_number + \"&page=\" + str(page)\n",
    "        driver.get(url)\n",
    "        date_sel = driver.find_elements_by_css_selector(\"span.tah.p10.gray03\")\n",
    "        price_sel= driver.find_elements_by_css_selector(\"span.tah.p11\")\n",
    "\n",
    "        now_date = date_sel[0].text\n",
    "        if pv_date == now_date: break\n",
    "        else:\n",
    "            pv_date = now_date\n",
    "        for d in date_sel:\n",
    "            date.append(d.text)\n",
    "\n",
    "        for i,p in enumerate(price_sel):\n",
    "            if i% 6 == 0:\n",
    "                prices.append(int(p.text.replace(\",\",\"\")))\n",
    "\n",
    "    df = pd.DataFrame({\"price(종가)\" : prices})\n",
    "    df.index = date\n",
    "    save_name = code_number + \" (\" + stock_name + \")\" + \" Price.xlsx\"\n",
    "    if not os.path.exists(\"./data\"): os.makedirs(\"./data\")\n",
    "    df.to_excel(\"./data/\" + save_name , engine=\"openpyxl\" , index=True)\n",
    "    print(\"Succesful Saving\")   \n",
    "    driver.close()\n",
    "    return"
   ]
  },
  {
   "cell_type": "code",
   "execution_count": null,
   "metadata": {},
   "outputs": [],
   "source": [
    "get_stock_prices(\"005930\")"
   ]
  },
  {
   "cell_type": "code",
   "execution_count": 30,
   "metadata": {},
   "outputs": [],
   "source": [
    "from matplotlib import font_manager, rc\n",
    "\n",
    "# 파일 경로를 입력받아 그래프 출력/저장\n",
    "def draw_graph(code_number):\n",
    "    \n",
    "    url = \"https://finance.naver.com/item/main.nhn?code=\" + code_number\n",
    "    html = urlopen(url)\n",
    "    bs = BeautifulSoup(html , \"lxml\")\n",
    " \n",
    "    dir_path = \"./data/\"\n",
    "    code_name =  bs.select(\"div.wrap_company a\")[0].text\n",
    "    try:\n",
    "        path = dir_path + code_number + \" (\" + code_name + \") Price\"\n",
    "        df = pd.read_excel(path + \".xlsx\", engine=\"openpyxl\" , index_col= 0)\n",
    "\n",
    "    except:\n",
    "        print(\"Error - 종목코드를 확인하거나 데이터가 존재하는지 확인해주세요\")\n",
    "        return\n",
    "\n",
    "    # 한글 폰트 문제\n",
    "    fn_name = font_manager.FontProperties(fname='c:/Windows/Fonts/malgun.ttf').get_name()\n",
    "    rc('font',family=fn_name)\n",
    "        \n",
    "    # 좀 더 그럴듯하게 그려보기\n",
    "    plt.figure(figsize=(12,4))\n",
    "    plt.plot(list(reversed(df.index)) , list(reversed(df[\"price(종가)\"])) , label = \"매매가 (종가)\")\n",
    "    plt.title(code_number + \" (\" + code_name + \") 가격 그래프\")\n",
    "    plt.xlabel(\"기준년월일\")\n",
    "    plt.ylabel(\"가격 (종가 기준)\")\n",
    "    xticks = []\n",
    "    len_xticks = 10\n",
    "    for i in range(len(df)):\n",
    "        num_divide = int(len(df)/len_xticks)\n",
    "        if i%num_divide == 0:\n",
    "            xticks.append(df.index[i])\n",
    "    xticks.append(df.index[-1])\n",
    "    plt.xticks(xticks)\n",
    "    plt.legend()\n",
    "    plt.savefig(path + \".png\")\n",
    "\n",
    "    print(\"Saving Succesuflly\")\n",
    "    return\n",
    "    \n",
    "    "
   ]
  },
  {
   "cell_type": "code",
   "execution_count": 31,
   "metadata": {},
   "outputs": [
    {
     "name": "stdout",
     "output_type": "stream",
     "text": [
      "Saving Succesuflly\n"
     ]
    },
    {
     "data": {
      "image/png": "[encoded data removed]",
      "text/plain": [
       "<Figure size 864x288 with 1 Axes>"
      ]
     },
     "metadata": {
      "needs_background": "light"
     },
     "output_type": "display_data"
    }
   ],
   "source": [
    "draw_graph(\"005930\")"
   ]
  },
  {
   "cell_type": "code",
   "execution_count": 26,
   "metadata": {},
   "outputs": [],
   "source": [
    "# 2018년 5월 3일들부터 이전의 주가들만 1/50 \n",
    "def correct_value_division(code_number, division_date, division_rate):\n",
    "    url = \"https://finance.naver.com/item/main.nhn?code=\" + code_number\n",
    "    html = urlopen(url)\n",
    "    bs = BeautifulSoup(html , \"lxml\")\n",
    "    dir_path = \"./data/\"\n",
    "    code_name =  bs.select(\"div.wrap_company a\")[0].text\n",
    "  \n",
    "    try:\n",
    "        path = dir_path + code_number + \" (\" + code_name + \") Price\"\n",
    "        df = pd.read_excel(path + \".xlsx\", engine=\"openpyxl\" , index_col= 0)\n",
    "    except:\n",
    "        print(\"Error - 종목코드를 확인하거나 데이터가 존재하는지 확인해주세요\")\n",
    "        return\n",
    "\n",
    "    df.loc[division_date:] = df.loc[division_date:]/division_rate\n",
    "    \n",
    "    df.to_excel(path + \".xlsx\", engine=\"openpyxl\")    \n",
    "    \n",
    "\n",
    "    \n"
   ]
  },
  {
   "cell_type": "code",
   "execution_count": 27,
   "metadata": {},
   "outputs": [],
   "source": [
    "correct_value_division(\"005930\" , \"2018.05.03\" , 50)"
   ]
  },
  {
   "cell_type": "code",
   "execution_count": null,
   "metadata": {},
   "outputs": [],
   "source": [
    "# xlsx 파일을 열어서 업데이트 한다\n",
    "def update_stock_prices(code_number):\n",
    "    \n",
    "    url = \"https://finance.naver.com/item/main.nhn?code=\" + code_number\n",
    "    \n",
    "   \n",
    "    try:\n",
    "        html = urlopen(url)\n",
    "        bs = BeautifulSoup(html , \"lxml\")\n",
    "        dir_path = \"./data/\"\n",
    "        code_name =  bs.select(\"div.wrap_company a\")[0].text\n",
    "        path = dir_path + code_number + \" (\" + code_name + \") Price\"\n",
    "        df = pd.read_excel(path + \".xlsx\", engine=\"openpyxl\" , index_col= 0)\n",
    "    except:\n",
    "        print(\"Error - 종목코드를 확인하거나 데이터가 존재하는지 확인해주세요\")\n",
    "        return\n",
    "    \n",
    "    \n",
    "    latest_date = df.index[0]\n",
    "    page = 0\n",
    "    date = []\n",
    "    prices = []\n",
    "    driver = webdriver.Chrome(\"./chromedriver.exe\")\n",
    "    while(1):\n",
    "        page += 1\n",
    "        url = \"https://finance.naver.com/item/sise_day.nhn?code=\" + code_number + \"&page=\" + str(page)\n",
    "        driver.get(url)\n",
    "        date_sel = driver.find_elements_by_css_selector(\"span.tah.p10.gray03\")\n",
    "        price_sel= driver.find_elements_by_css_selector(\"span.tah.p11\")\n",
    "\n",
    "        now_date = date_sel[0].text\n",
    "        print(latest_date , now_date)\n",
    "        if latest_date == now_date: \n",
    "            break\n",
    "            \n",
    "        for d in date_sel:\n",
    "            date.append(d.text)\n",
    "\n",
    "        for i,p in enumerate(price_sel):\n",
    "            if i% 6 == 0:\n",
    "                prices.append(int(p.text.replace(\",\",\"\")))\n",
    "\n",
    "    #     # 가장 최신 데이터까지 확인하면 탈출\n",
    "    #     if date_sel[0].text == last_date: break\n",
    "    print(date)\n",
    "    driver.close()\n",
    "    "
   ]
  },
  {
   "cell_type": "code",
   "execution_count": 7,
   "metadata": {},
   "outputs": [
    {
     "data": {
      "text/plain": [
       "[<matplotlib.lines.Line2D at 0x18c17d50cc0>]"
      ]
     },
     "execution_count": 7,
     "metadata": {},
     "output_type": "execute_result"
    },
    {
     "data": {
      "image/png": "[encoded data removed]",
      "text/plain": [
       "<Figure size 432x288 with 1 Axes>"
      ]
     },
     "metadata": {
      "needs_background": "light"
     },
     "output_type": "display_data"
    }
   ],
   "source": [
    "import pandas as pd\n",
    "\n",
    "a = pd.DataFrame( {\"val_a\" : [1,10,3,4,5]} , index = [1,2,3,4,5])\n",
    "b = pd.DataFrame( {\"val_b\" : [7,1,3,4,5]} , index = [1,2,3,4,5])\n",
    "c = pd.DataFrame( {\"val_c\" : [1,2,4,4,5]} , index = [1,2,3,4,5])\n",
    "\n",
    "\n",
    "\n",
    "\n",
    "\n",
    "\n",
    "import matplotlib.pyplot as plt\n",
    "\n",
    "plt.plot(a.index , a[\"val_a\"])\n",
    "plt.plot(a.index , b[\"val_b\"])\n",
    "plt.plot(c.index , c[\"val_c\"])\n"
   ]
  },
  {
   "cell_type": "code",
   "execution_count": 9,
   "metadata": {},
   "outputs": [
    {
     "data": {
      "text/plain": [
       "[<matplotlib.lines.Line2D at 0x18c17da7240>]"
      ]
     },
     "execution_count": 9,
     "metadata": {},
     "output_type": "execute_result"
    },
    {
     "data": {
      "image/png": "[encoded data removed]",
      "text/plain": [
       "<Figure size 432x288 with 1 Axes>"
      ]
     },
     "metadata": {
      "needs_background": "light"
     },
     "output_type": "display_data"
    }
   ],
   "source": [
    "\n",
    "nor_a = (a - a.mean())/a.std()\n",
    "nor_b = (b - b.mean())/b.std()\n",
    "nor_c = (c - c.mean())/c.std()\n",
    "\n",
    "plt.plot(a.index , nor_a[\"val_a\"])\n",
    "plt.plot(a.index , nor_b[\"val_b\"])\n",
    "plt.plot(c.index , nor_c[\"val_c\"])\n",
    "\n"
   ]
  },
  {
   "cell_type": "code",
   "execution_count": 14,
   "metadata": {},
   "outputs": [
    {
     "name": "stdout",
     "output_type": "stream",
     "text": [
      "1\n"
     ]
    }
   ],
   "source": [
    "\n",
    "\n",
    "def sample(**args):\n",
    "    if args.get(\"start\"):\n",
    "        print(args[\"start\"])\n",
    "\n",
    "sample(start = 1)\n"
   ]
  },
  {
   "cell_type": "code",
   "execution_count": null,
   "metadata": {},
   "outputs": [],
   "source": []
  }
 ],
 "metadata": {
  "kernelspec": {
   "display_name": "Python 3",
   "language": "python",
   "name": "python3"
  },
  "language_info": {
   "codemirror_mode": {
    "name": "ipython",
    "version": 3
   },
   "file_extension": ".py",
   "mimetype": "text/x-python",
   "name": "python",
   "nbconvert_exporter": "python",
   "pygments_lexer": "ipython3",
   "version": "3.7.3"
  }
 },
 "nbformat": 4,
 "nbformat_minor": 4
}
