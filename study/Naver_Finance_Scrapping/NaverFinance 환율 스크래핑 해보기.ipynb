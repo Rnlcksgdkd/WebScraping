{
 "cells": [
  {
   "cell_type": "code",
   "execution_count": 52,
   "metadata": {},
   "outputs": [],
   "source": [
    "from selenium import webdriver\n",
    "import time\n",
    "import re\n",
    "from urllib.request import urlopen\n",
    "from bs4 import BeautifulSoup\n",
    "import pandas as pd\n",
    "from matplotlib import font_manager , rc\n",
    "import platform"
   ]
  },
  {
   "cell_type": "code",
   "execution_count": 8,
   "metadata": {
    "scrolled": true
   },
   "outputs": [
    {
     "name": "stdout",
     "output_type": "stream",
     "text": [
      "['USDKRW', 'EURKRW', 'JPYKRW', 'CNYKRW', 'HKDKRW', 'TWDKRW', 'GBPKRW', 'OMRKRW', 'CADKRW', 'CHFKRW', 'SEKKRW', 'AUDKRW', 'NZDKRW', 'CZKKRW', 'CLPKRW', 'TRYKRW', 'MNTKRW', 'ILSKRW', 'DKKKRW', 'NOKKRW', 'SARKRW', 'KWDKRW', 'BHDKRW', 'AEDKRW', 'JODKRW', 'EGPKRW', 'THBKRW', 'SGDKRW', 'MYRKRW', 'IDRKRW', 'QARKRW', 'KZTKRW', 'BNDKRW', 'INRKRW', 'PKRKRW', 'BDTKRW', 'PHPKRW', 'MXNKRW', 'BRLKRW', 'VNDKRW', 'ZARKRW', 'RUBKRW', 'HUFKRW', 'PLNKRW']\n"
     ]
    }
   ],
   "source": [
    "link = \"https://finance.naver.com/marketindex/exchangeList.nhn\"\n",
    "html = urlopen(link)\n",
    "bsObject = BeautifulSoup(html, \"lxml\")\n",
    "bs = bsObject.select(\"td.tit>a\")\n",
    "\n",
    "country_index = []\n",
    "\n",
    "for bs2 in bs:\n",
    "    country_index.append(bs2.get(\"href\")[-6:])\n",
    "    \n",
    "print(country_index)"
   ]
  },
  {
   "cell_type": "code",
   "execution_count": 4,
   "metadata": {},
   "outputs": [
    {
     "data": {
      "text/plain": [
       "44"
      ]
     },
     "execution_count": 4,
     "metadata": {},
     "output_type": "execute_result"
    }
   ],
   "source": [
    "len(country_index)"
   ]
  },
  {
   "cell_type": "code",
   "execution_count": 8,
   "metadata": {
    "scrolled": true
   },
   "outputs": [
    {
     "name": "stdout",
     "output_type": "stream",
     "text": [
      "https://finance.naver.com//marketindex/exchangeDailyQuote.nhn??marketindexCd=FX_USDKRW\n",
      "https://finance.naver.com//marketindex/exchangeDailyQuote.nhn??marketindexCd=FX_EURKRW\n",
      "https://finance.naver.com//marketindex/exchangeDailyQuote.nhn??marketindexCd=FX_JPYKRW\n",
      "https://finance.naver.com//marketindex/exchangeDailyQuote.nhn??marketindexCd=FX_CNYKRW\n",
      "https://finance.naver.com//marketindex/exchangeDailyQuote.nhn??marketindexCd=FX_HKDKRW\n",
      "https://finance.naver.com//marketindex/exchangeDailyQuote.nhn??marketindexCd=FX_TWDKRW\n"
     ]
    }
   ],
   "source": [
    "exchange_daily_link = \"https://finance.naver.com//marketindex/exchangeDailyQuote.nhn??marketindexCd=FX_\"  \n",
    "link_lst = []\n",
    "for country_link in country_index:\n",
    "    link = exchange_daily_link + country_link\n",
    "    link_lst.append(link)\n",
    "for i in range(len(link_lst)):\n",
    "    if i > 5: break\n",
    "    print(link_lst[i])"
   ]
  },
  {
   "cell_type": "code",
   "execution_count": 9,
   "metadata": {},
   "outputs": [
    {
     "data": {
      "text/html": [
       "<div>\n",
       "<style scoped>\n",
       "    .dataframe tbody tr th:only-of-type {\n",
       "        vertical-align: middle;\n",
       "    }\n",
       "\n",
       "    .dataframe tbody tr th {\n",
       "        vertical-align: top;\n",
       "    }\n",
       "\n",
       "    .dataframe thead th {\n",
       "        text-align: right;\n",
       "    }\n",
       "</style>\n",
       "<table border=\"1\" class=\"dataframe\">\n",
       "  <thead>\n",
       "    <tr style=\"text-align: right;\">\n",
       "      <th></th>\n",
       "      <th>USDKRW</th>\n",
       "    </tr>\n",
       "  </thead>\n",
       "  <tbody>\n",
       "    <tr>\n",
       "      <th>2021.01.29</th>\n",
       "      <td>1117.5</td>\n",
       "    </tr>\n",
       "    <tr>\n",
       "      <th>2021.01.28</th>\n",
       "      <td>1118.0</td>\n",
       "    </tr>\n",
       "    <tr>\n",
       "      <th>2021.01.27</th>\n",
       "      <td>1105.0</td>\n",
       "    </tr>\n",
       "    <tr>\n",
       "      <th>2021.01.26</th>\n",
       "      <td>1105.5</td>\n",
       "    </tr>\n",
       "    <tr>\n",
       "      <th>2021.01.25</th>\n",
       "      <td>1102.5</td>\n",
       "    </tr>\n",
       "    <tr>\n",
       "      <th>2021.01.22</th>\n",
       "      <td>1105.0</td>\n",
       "    </tr>\n",
       "    <tr>\n",
       "      <th>2021.01.21</th>\n",
       "      <td>1101.0</td>\n",
       "    </tr>\n",
       "    <tr>\n",
       "      <th>2021.01.20</th>\n",
       "      <td>1101.5</td>\n",
       "    </tr>\n",
       "    <tr>\n",
       "      <th>2021.01.19</th>\n",
       "      <td>1102.5</td>\n",
       "    </tr>\n",
       "    <tr>\n",
       "      <th>2021.01.18</th>\n",
       "      <td>1107.0</td>\n",
       "    </tr>\n",
       "  </tbody>\n",
       "</table>\n",
       "</div>"
      ],
      "text/plain": [
       "            USDKRW\n",
       "2021.01.29  1117.5\n",
       "2021.01.28  1118.0\n",
       "2021.01.27  1105.0\n",
       "2021.01.26  1105.5\n",
       "2021.01.25  1102.5\n",
       "2021.01.22  1105.0\n",
       "2021.01.21  1101.0\n",
       "2021.01.20  1101.5\n",
       "2021.01.19  1102.5\n",
       "2021.01.18  1107.0"
      ]
     },
     "execution_count": 9,
     "metadata": {},
     "output_type": "execute_result"
    }
   ],
   "source": [
    "\n",
    "# USD 통화에 대해서 테스트 해보기\n",
    "sample_link = link_lst[0]\n",
    "\n",
    "page = 1\n",
    "html = urlopen(sample_link + \"&page=\" + str(page))\n",
    "bs = BeautifulSoup(html, \"lxml\")\n",
    "bs_select =bs.select(\"table.tbl_exchange.today tbody tr td\")\n",
    "\n",
    "DATE = []\n",
    "USDKRW = []\n",
    "\n",
    "for i,bs_sub in enumerate(bs_select):\n",
    "  \n",
    "    if i%9== 0:\n",
    "        date = bs_sub.get_text()\n",
    "        DATE.append(date)\n",
    "    if i%9 == 1:\n",
    "        exchange = float(bs_sub.get_text().replace(\",\" , \"\"))\n",
    "        USDKRW.append(exchange)\n",
    "    \n",
    "df = pd.DataFrame({\"USDKRW\" : USDKRW } , index = DATE)\n",
    "df.head(10)\n"
   ]
  },
  {
   "cell_type": "code",
   "execution_count": 10,
   "metadata": {},
   "outputs": [
    {
     "name": "stdout",
     "output_type": "stream",
     "text": [
      " 실행 시간 : 37.590388774871826 (초) \n",
      "데이터 개수 :  4177\n"
     ]
    }
   ],
   "source": [
    "import time\n",
    "start = time.time()\n",
    "\n",
    "# USD 통화에 대해서 테스트 해보기\n",
    "sample_link = link_lst[0]\n",
    "page = 0\n",
    "DATE = []\n",
    "USDKRW = []\n",
    "    \n",
    "while(1):\n",
    "    page += 1\n",
    "    html = urlopen(sample_link + \"&page=\" + str(page))\n",
    "    bs = BeautifulSoup(html, \"lxml\")\n",
    "    bs_select =bs.select(\"table.tbl_exchange.today tbody tr td\")\n",
    "\n",
    "    # 마지막 페이지를 넘어가면 break\n",
    "    if not len(bs_select): break\n",
    "    \n",
    "\t# html-table에서 9개의 정보가 행으로 담겨져있다, 여기서 날짜/매매기준율 2가지 정보만 가져옴\n",
    "    for i,bs_sub in enumerate(bs_select):\n",
    "        if i%9== 0:\n",
    "            date = bs_sub.get_text()\n",
    "            DATE.append(date)\n",
    "        if i%9 == 1:\n",
    "            exchange = float(bs_sub.get_text().replace(\",\" , \"\"))\n",
    "            USDKRW.append(exchange)\n",
    "\n",
    "print(\" 실행 시간 : {} (초) \".format(time.time() - start))\n",
    "\n",
    "df = pd.DataFrame({\"USDKRW\" : USDKRW } , index = DATE)\n",
    "\n",
    "print(\"데이터 개수 : \" , len(df))\n"
   ]
  },
  {
   "cell_type": "code",
   "execution_count": 11,
   "metadata": {},
   "outputs": [
    {
     "data": {
      "text/html": [
       "<div>\n",
       "<style scoped>\n",
       "    .dataframe tbody tr th:only-of-type {\n",
       "        vertical-align: middle;\n",
       "    }\n",
       "\n",
       "    .dataframe tbody tr th {\n",
       "        vertical-align: top;\n",
       "    }\n",
       "\n",
       "    .dataframe thead th {\n",
       "        text-align: right;\n",
       "    }\n",
       "</style>\n",
       "<table border=\"1\" class=\"dataframe\">\n",
       "  <thead>\n",
       "    <tr style=\"text-align: right;\">\n",
       "      <th></th>\n",
       "      <th>USDKRW</th>\n",
       "    </tr>\n",
       "  </thead>\n",
       "  <tbody>\n",
       "    <tr>\n",
       "      <th>2004.04.26</th>\n",
       "      <td>1155.0</td>\n",
       "    </tr>\n",
       "    <tr>\n",
       "      <th>2004.04.23</th>\n",
       "      <td>1158.3</td>\n",
       "    </tr>\n",
       "    <tr>\n",
       "      <th>2004.04.22</th>\n",
       "      <td>1159.7</td>\n",
       "    </tr>\n",
       "    <tr>\n",
       "      <th>2004.04.21</th>\n",
       "      <td>1154.8</td>\n",
       "    </tr>\n",
       "    <tr>\n",
       "      <th>2004.04.20</th>\n",
       "      <td>1151.4</td>\n",
       "    </tr>\n",
       "    <tr>\n",
       "      <th>2004.04.19</th>\n",
       "      <td>1153.6</td>\n",
       "    </tr>\n",
       "    <tr>\n",
       "      <th>2004.04.16</th>\n",
       "      <td>1160.1</td>\n",
       "    </tr>\n",
       "    <tr>\n",
       "      <th>2004.04.14</th>\n",
       "      <td>1151.3</td>\n",
       "    </tr>\n",
       "    <tr>\n",
       "      <th>2004.04.13</th>\n",
       "      <td>1141.1</td>\n",
       "    </tr>\n",
       "    <tr>\n",
       "      <th>2004.04.12</th>\n",
       "      <td>1141.8</td>\n",
       "    </tr>\n",
       "  </tbody>\n",
       "</table>\n",
       "</div>"
      ],
      "text/plain": [
       "            USDKRW\n",
       "2004.04.26  1155.0\n",
       "2004.04.23  1158.3\n",
       "2004.04.22  1159.7\n",
       "2004.04.21  1154.8\n",
       "2004.04.20  1151.4\n",
       "2004.04.19  1153.6\n",
       "2004.04.16  1160.1\n",
       "2004.04.14  1151.3\n",
       "2004.04.13  1141.1\n",
       "2004.04.12  1141.8"
      ]
     },
     "execution_count": 11,
     "metadata": {},
     "output_type": "execute_result"
    }
   ],
   "source": [
    "df.tail(10)"
   ]
  },
  {
   "cell_type": "code",
   "execution_count": 43,
   "metadata": {},
   "outputs": [],
   "source": [
    "\n",
    "def get_country_daily_exchange(country):\n",
    "    \n",
    "    page = 0\n",
    "    exchange_daily_link = \"https://finance.naver.com/marketindex/exchangeDailyQuote.nhn?marketindexCd=FX_\" \n",
    "    DATE = []\n",
    "    EXCHANGE = []\n",
    "    \n",
    "    while(1):\n",
    "        page += 1\n",
    "        link = exchange_daily_link + country + \"&page=\" + str(page)\n",
    "        html = urlopen(link)\n",
    "        bs = BeautifulSoup(html, \"lxml\")\n",
    "        bs_select =bs.select(\"table.tbl_exchange.today tbody tr td\")\n",
    "\n",
    "        # 마지막 페이지를 넘어가면 break\n",
    "        if not len(bs_select): break\n",
    "\n",
    "        # html-table에서 9개의 정보가 행으로 담겨져있다, 여기서 날짜/매매기준율 2가지 정보만 가져옴\n",
    "        for i,bs_sub in enumerate(bs_select):\n",
    "            if i%9== 0:\n",
    "                date = bs_sub.get_text()\n",
    "                DATE.append(date)\n",
    "            if i%9 == 1:\n",
    "                exchange = float(bs_sub.get_text().replace(\",\" , \"\"))\n",
    "                EXCHANGE.append(exchange)\n",
    "    \n",
    "    return DATE , EXCHANGE\n",
    "\n"
   ]
  },
  {
   "cell_type": "code",
   "execution_count": 28,
   "metadata": {},
   "outputs": [],
   "source": [
    "input_country = \"USD\"\n",
    "DATE , EXCHANGE = get_country_daily_exchange(input_country)"
   ]
  },
  {
   "cell_type": "code",
   "execution_count": 31,
   "metadata": {},
   "outputs": [
    {
     "data": {
      "text/html": [
       "<div>\n",
       "<style scoped>\n",
       "    .dataframe tbody tr th:only-of-type {\n",
       "        vertical-align: middle;\n",
       "    }\n",
       "\n",
       "    .dataframe tbody tr th {\n",
       "        vertical-align: top;\n",
       "    }\n",
       "\n",
       "    .dataframe thead th {\n",
       "        text-align: right;\n",
       "    }\n",
       "</style>\n",
       "<table border=\"1\" class=\"dataframe\">\n",
       "  <thead>\n",
       "    <tr style=\"text-align: right;\">\n",
       "      <th></th>\n",
       "      <th>USDKRW</th>\n",
       "    </tr>\n",
       "  </thead>\n",
       "  <tbody>\n",
       "    <tr>\n",
       "      <th>2004.04.26</th>\n",
       "      <td>1155.0</td>\n",
       "    </tr>\n",
       "    <tr>\n",
       "      <th>2004.04.23</th>\n",
       "      <td>1158.3</td>\n",
       "    </tr>\n",
       "    <tr>\n",
       "      <th>2004.04.22</th>\n",
       "      <td>1159.7</td>\n",
       "    </tr>\n",
       "    <tr>\n",
       "      <th>2004.04.21</th>\n",
       "      <td>1154.8</td>\n",
       "    </tr>\n",
       "    <tr>\n",
       "      <th>2004.04.20</th>\n",
       "      <td>1151.4</td>\n",
       "    </tr>\n",
       "    <tr>\n",
       "      <th>2004.04.19</th>\n",
       "      <td>1153.6</td>\n",
       "    </tr>\n",
       "    <tr>\n",
       "      <th>2004.04.16</th>\n",
       "      <td>1160.1</td>\n",
       "    </tr>\n",
       "    <tr>\n",
       "      <th>2004.04.14</th>\n",
       "      <td>1151.3</td>\n",
       "    </tr>\n",
       "    <tr>\n",
       "      <th>2004.04.13</th>\n",
       "      <td>1141.1</td>\n",
       "    </tr>\n",
       "    <tr>\n",
       "      <th>2004.04.12</th>\n",
       "      <td>1141.8</td>\n",
       "    </tr>\n",
       "  </tbody>\n",
       "</table>\n",
       "</div>"
      ],
      "text/plain": [
       "            USDKRW\n",
       "2004.04.26  1155.0\n",
       "2004.04.23  1158.3\n",
       "2004.04.22  1159.7\n",
       "2004.04.21  1154.8\n",
       "2004.04.20  1151.4\n",
       "2004.04.19  1153.6\n",
       "2004.04.16  1160.1\n",
       "2004.04.14  1151.3\n",
       "2004.04.13  1141.1\n",
       "2004.04.12  1141.8"
      ]
     },
     "execution_count": 31,
     "metadata": {},
     "output_type": "execute_result"
    }
   ],
   "source": [
    "df = pd.DataFrame({input_country + \"KRW\" : EXCHANGE} , index = DATE)\n",
    "df.tail(10)"
   ]
  },
  {
   "cell_type": "code",
   "execution_count": 44,
   "metadata": {},
   "outputs": [],
   "source": [
    "\n",
    "\n",
    "import time\n",
    "from tqdm import tqdm\n",
    "\n",
    "# # 모든 통화에 대해 스크래핑\n",
    "def get_all_countries_daily_exchange(country_index):\n",
    "     \n",
    "    flag = 0\n",
    "    i = 0\n",
    "    for country in tqdm(country_index):\n",
    "        print(country)\n",
    "        DATE , EXCHANGE = get_country_daily_exchange(country)\n",
    "        if not flag: \n",
    "            df = pd.DataFrame({country : EXCHANGE} , index = DATE)\n",
    "            flag = 1\n",
    "        else:\n",
    "            new_df = pd.DataFrame({country : EXCHANGE} , index = DATE)\n",
    "            df = pd.merge(df , new_df , left_index = True , right_index = True , how = \"outer\")\n",
    "\n",
    "\n",
    "    df.to_excel(\"all_countries_exchange.xlsx\" , engine=\"openpyxl\")\n",
    "    print(\"Saving Successfully\")\n",
    "    return df\n",
    "    \n"
   ]
  },
  {
   "cell_type": "code",
   "execution_count": 45,
   "metadata": {},
   "outputs": [
    {
     "name": "stderr",
     "output_type": "stream",
     "text": [
      "\r",
      "  0%|                                                                                           | 0/44 [00:00<?, ?it/s]"
     ]
    },
    {
     "name": "stdout",
     "output_type": "stream",
     "text": [
      "USDKRW\n"
     ]
    },
    {
     "name": "stderr",
     "output_type": "stream",
     "text": [
      "\r",
      "  2%|█▉                                                                                 | 1/44 [00:34<24:59, 34.87s/it]"
     ]
    },
    {
     "name": "stdout",
     "output_type": "stream",
     "text": [
      "EURKRW\n"
     ]
    },
    {
     "name": "stderr",
     "output_type": "stream",
     "text": [
      "\r",
      "  5%|███▊                                                                               | 2/44 [01:12<25:21, 36.23s/it]"
     ]
    },
    {
     "name": "stdout",
     "output_type": "stream",
     "text": [
      "JPYKRW\n"
     ]
    },
    {
     "name": "stderr",
     "output_type": "stream",
     "text": [
      "\r",
      "  7%|█████▋                                                                             | 3/44 [01:46<24:09, 35.35s/it]"
     ]
    },
    {
     "name": "stdout",
     "output_type": "stream",
     "text": [
      "CNYKRW\n"
     ]
    },
    {
     "name": "stderr",
     "output_type": "stream",
     "text": [
      "\r",
      "  9%|███████▌                                                                           | 4/44 [02:23<23:59, 36.00s/it]"
     ]
    },
    {
     "name": "stdout",
     "output_type": "stream",
     "text": [
      "HKDKRW\n"
     ]
    },
    {
     "name": "stderr",
     "output_type": "stream",
     "text": [
      "\r",
      " 11%|█████████▍                                                                         | 5/44 [02:56<22:46, 35.03s/it]"
     ]
    },
    {
     "name": "stdout",
     "output_type": "stream",
     "text": [
      "TWDKRW\n"
     ]
    },
    {
     "name": "stderr",
     "output_type": "stream",
     "text": [
      "\r",
      " 14%|███████████▎                                                                       | 6/44 [03:30<21:53, 34.56s/it]"
     ]
    },
    {
     "name": "stdout",
     "output_type": "stream",
     "text": [
      "GBPKRW\n"
     ]
    },
    {
     "name": "stderr",
     "output_type": "stream",
     "text": [
      "\r",
      " 16%|█████████████▏                                                                     | 7/44 [04:04<21:09, 34.32s/it]"
     ]
    },
    {
     "name": "stdout",
     "output_type": "stream",
     "text": [
      "OMRKRW\n"
     ]
    },
    {
     "name": "stderr",
     "output_type": "stream",
     "text": [
      "\r",
      " 18%|███████████████                                                                    | 8/44 [04:19<16:52, 28.14s/it]"
     ]
    },
    {
     "name": "stdout",
     "output_type": "stream",
     "text": [
      "CADKRW\n"
     ]
    },
    {
     "name": "stderr",
     "output_type": "stream",
     "text": [
      "\r",
      " 20%|████████████████▉                                                                  | 9/44 [04:52<17:23, 29.82s/it]"
     ]
    },
    {
     "name": "stdout",
     "output_type": "stream",
     "text": [
      "CHFKRW\n"
     ]
    },
    {
     "name": "stderr",
     "output_type": "stream",
     "text": [
      "\r",
      " 23%|██████████████████▋                                                               | 10/44 [05:26<17:35, 31.04s/it]"
     ]
    },
    {
     "name": "stdout",
     "output_type": "stream",
     "text": [
      "SEKKRW\n"
     ]
    },
    {
     "name": "stderr",
     "output_type": "stream",
     "text": [
      "\r",
      " 25%|████████████████████▌                                                             | 11/44 [06:03<18:02, 32.79s/it]"
     ]
    },
    {
     "name": "stdout",
     "output_type": "stream",
     "text": [
      "AUDKRW\n"
     ]
    },
    {
     "name": "stderr",
     "output_type": "stream",
     "text": [
      "\r",
      " 27%|██████████████████████▎                                                           | 12/44 [06:42<18:34, 34.82s/it]"
     ]
    },
    {
     "name": "stdout",
     "output_type": "stream",
     "text": [
      "NZDKRW\n"
     ]
    },
    {
     "name": "stderr",
     "output_type": "stream",
     "text": [
      "\r",
      " 30%|████████████████████████▏                                                         | 13/44 [07:18<18:05, 35.03s/it]"
     ]
    },
    {
     "name": "stdout",
     "output_type": "stream",
     "text": [
      "CZKKRW\n"
     ]
    },
    {
     "name": "stderr",
     "output_type": "stream",
     "text": [
      "\r",
      " 32%|██████████████████████████                                                        | 14/44 [07:37<15:08, 30.28s/it]"
     ]
    },
    {
     "name": "stdout",
     "output_type": "stream",
     "text": [
      "CLPKRW\n"
     ]
    },
    {
     "name": "stderr",
     "output_type": "stream",
     "text": [
      "\r",
      " 34%|███████████████████████████▉                                                      | 15/44 [07:54<12:44, 26.36s/it]"
     ]
    },
    {
     "name": "stdout",
     "output_type": "stream",
     "text": [
      "TRYKRW\n"
     ]
    },
    {
     "name": "stderr",
     "output_type": "stream",
     "text": [
      "\r",
      " 36%|█████████████████████████████▊                                                    | 16/44 [08:12<11:06, 23.79s/it]"
     ]
    },
    {
     "name": "stdout",
     "output_type": "stream",
     "text": [
      "MNTKRW\n"
     ]
    },
    {
     "name": "stderr",
     "output_type": "stream",
     "text": [
      "\r",
      " 39%|███████████████████████████████▋                                                  | 17/44 [08:29<09:43, 21.61s/it]"
     ]
    },
    {
     "name": "stdout",
     "output_type": "stream",
     "text": [
      "ILSKRW\n"
     ]
    },
    {
     "name": "stderr",
     "output_type": "stream",
     "text": [
      "\r",
      " 41%|█████████████████████████████████▌                                                | 18/44 [08:54<09:52, 22.80s/it]"
     ]
    },
    {
     "name": "stdout",
     "output_type": "stream",
     "text": [
      "DKKKRW\n"
     ]
    },
    {
     "name": "stderr",
     "output_type": "stream",
     "text": [
      "\r",
      " 43%|███████████████████████████████████▍                                              | 19/44 [09:27<10:43, 25.72s/it]"
     ]
    },
    {
     "name": "stdout",
     "output_type": "stream",
     "text": [
      "NOKKRW\n"
     ]
    },
    {
     "name": "stderr",
     "output_type": "stream",
     "text": [
      "\r",
      " 45%|█████████████████████████████████████▎                                            | 20/44 [10:00<11:12, 28.04s/it]"
     ]
    },
    {
     "name": "stdout",
     "output_type": "stream",
     "text": [
      "SARKRW\n"
     ]
    },
    {
     "name": "stderr",
     "output_type": "stream",
     "text": [
      "\r",
      " 48%|███████████████████████████████████████▏                                          | 21/44 [10:34<11:26, 29.85s/it]"
     ]
    },
    {
     "name": "stdout",
     "output_type": "stream",
     "text": [
      "KWDKRW\n"
     ]
    },
    {
     "name": "stderr",
     "output_type": "stream",
     "text": [
      "\r",
      " 50%|█████████████████████████████████████████                                         | 22/44 [11:10<11:35, 31.63s/it]"
     ]
    },
    {
     "name": "stdout",
     "output_type": "stream",
     "text": [
      "BHDKRW\n"
     ]
    },
    {
     "name": "stderr",
     "output_type": "stream",
     "text": [
      "\r",
      " 52%|██████████████████████████████████████████▊                                       | 23/44 [11:43<11:15, 32.16s/it]"
     ]
    },
    {
     "name": "stdout",
     "output_type": "stream",
     "text": [
      "AEDKRW\n"
     ]
    },
    {
     "name": "stderr",
     "output_type": "stream",
     "text": [
      "\r",
      " 55%|████████████████████████████████████████████▋                                     | 24/44 [12:17<10:53, 32.67s/it]"
     ]
    },
    {
     "name": "stdout",
     "output_type": "stream",
     "text": [
      "JODKRW\n"
     ]
    },
    {
     "name": "stderr",
     "output_type": "stream",
     "text": [
      "\r",
      " 57%|██████████████████████████████████████████████▌                                   | 25/44 [12:46<10:01, 31.64s/it]"
     ]
    },
    {
     "name": "stdout",
     "output_type": "stream",
     "text": [
      "EGPKRW\n"
     ]
    },
    {
     "name": "stderr",
     "output_type": "stream",
     "text": [
      "\r",
      " 59%|████████████████████████████████████████████████▍                                 | 26/44 [13:22<09:50, 32.80s/it]"
     ]
    },
    {
     "name": "stdout",
     "output_type": "stream",
     "text": [
      "THBKRW\n"
     ]
    },
    {
     "name": "stderr",
     "output_type": "stream",
     "text": [
      "\r",
      " 61%|██████████████████████████████████████████████████▎                               | 27/44 [13:55<09:20, 32.97s/it]"
     ]
    },
    {
     "name": "stdout",
     "output_type": "stream",
     "text": [
      "SGDKRW\n"
     ]
    },
    {
     "name": "stderr",
     "output_type": "stream",
     "text": [
      "\r",
      " 64%|████████████████████████████████████████████████████▏                             | 28/44 [14:29<08:52, 33.28s/it]"
     ]
    },
    {
     "name": "stdout",
     "output_type": "stream",
     "text": [
      "MYRKRW\n"
     ]
    },
    {
     "name": "stderr",
     "output_type": "stream",
     "text": [
      "\r",
      " 66%|██████████████████████████████████████████████████████                            | 29/44 [15:03<08:22, 33.48s/it]"
     ]
    },
    {
     "name": "stdout",
     "output_type": "stream",
     "text": [
      "IDRKRW\n"
     ]
    },
    {
     "name": "stderr",
     "output_type": "stream",
     "text": [
      "\r",
      " 68%|███████████████████████████████████████████████████████▉                          | 30/44 [15:39<07:58, 34.18s/it]"
     ]
    },
    {
     "name": "stdout",
     "output_type": "stream",
     "text": [
      "QARKRW\n"
     ]
    },
    {
     "name": "stderr",
     "output_type": "stream",
     "text": [
      "\r",
      " 70%|█████████████████████████████████████████████████████████▊                        | 31/44 [15:56<06:19, 29.16s/it]"
     ]
    },
    {
     "name": "stdout",
     "output_type": "stream",
     "text": [
      "KZTKRW\n"
     ]
    },
    {
     "name": "stderr",
     "output_type": "stream",
     "text": [
      "\r",
      " 73%|███████████████████████████████████████████████████████████▋                      | 32/44 [16:14<05:08, 25.71s/it]"
     ]
    },
    {
     "name": "stdout",
     "output_type": "stream",
     "text": [
      "BNDKRW\n"
     ]
    },
    {
     "name": "stderr",
     "output_type": "stream",
     "text": [
      "\r",
      " 75%|█████████████████████████████████████████████████████████████▌                    | 33/44 [16:48<05:11, 28.28s/it]"
     ]
    },
    {
     "name": "stdout",
     "output_type": "stream",
     "text": [
      "INRKRW\n"
     ]
    },
    {
     "name": "stderr",
     "output_type": "stream",
     "text": [
      "\r",
      " 77%|███████████████████████████████████████████████████████████████▎                  | 34/44 [17:29<05:18, 31.89s/it]"
     ]
    },
    {
     "name": "stdout",
     "output_type": "stream",
     "text": [
      "PKRKRW\n"
     ]
    },
    {
     "name": "stderr",
     "output_type": "stream",
     "text": [
      "\r",
      " 80%|█████████████████████████████████████████████████████████████████▏                | 35/44 [18:06<05:00, 33.41s/it]"
     ]
    },
    {
     "name": "stdout",
     "output_type": "stream",
     "text": [
      "BDTKRW\n"
     ]
    },
    {
     "name": "stderr",
     "output_type": "stream",
     "text": [
      "\r",
      " 82%|███████████████████████████████████████████████████████████████████               | 36/44 [18:40<04:28, 33.54s/it]"
     ]
    },
    {
     "name": "stdout",
     "output_type": "stream",
     "text": [
      "PHPKRW\n"
     ]
    },
    {
     "name": "stderr",
     "output_type": "stream",
     "text": [
      "\r",
      " 84%|████████████████████████████████████████████████████████████████████▉             | 37/44 [19:14<03:56, 33.82s/it]"
     ]
    },
    {
     "name": "stdout",
     "output_type": "stream",
     "text": [
      "MXNKRW\n"
     ]
    },
    {
     "name": "stderr",
     "output_type": "stream",
     "text": [
      "\r",
      " 86%|██████████████████████████████████████████████████████████████████████▊           | 38/44 [19:49<03:24, 34.15s/it]"
     ]
    },
    {
     "name": "stdout",
     "output_type": "stream",
     "text": [
      "BRLKRW\n"
     ]
    },
    {
     "name": "stderr",
     "output_type": "stream",
     "text": [
      "\r",
      " 89%|████████████████████████████████████████████████████████████████████████▋         | 39/44 [20:22<02:48, 33.76s/it]"
     ]
    },
    {
     "name": "stdout",
     "output_type": "stream",
     "text": [
      "VNDKRW\n"
     ]
    },
    {
     "name": "stderr",
     "output_type": "stream",
     "text": [
      "\r",
      " 91%|██████████████████████████████████████████████████████████████████████████▌       | 40/44 [20:50<02:08, 32.21s/it]"
     ]
    },
    {
     "name": "stdout",
     "output_type": "stream",
     "text": [
      "ZARKRW\n"
     ]
    },
    {
     "name": "stderr",
     "output_type": "stream",
     "text": [
      "\r",
      " 93%|████████████████████████████████████████████████████████████████████████████▍     | 41/44 [21:17<01:31, 30.42s/it]"
     ]
    },
    {
     "name": "stdout",
     "output_type": "stream",
     "text": [
      "RUBKRW\n"
     ]
    },
    {
     "name": "stderr",
     "output_type": "stream",
     "text": [
      "\r",
      " 95%|██████████████████████████████████████████████████████████████████████████████▎   | 42/44 [21:42<00:58, 29.01s/it]"
     ]
    },
    {
     "name": "stdout",
     "output_type": "stream",
     "text": [
      "HUFKRW\n"
     ]
    },
    {
     "name": "stderr",
     "output_type": "stream",
     "text": [
      "\r",
      " 98%|████████████████████████████████████████████████████████████████████████████████▏ | 43/44 [22:07<00:27, 27.84s/it]"
     ]
    },
    {
     "name": "stdout",
     "output_type": "stream",
     "text": [
      "PLNKRW\n"
     ]
    },
    {
     "name": "stderr",
     "output_type": "stream",
     "text": [
      "100%|██████████████████████████████████████████████████████████████████████████████████| 44/44 [22:32<00:00, 30.74s/it]\n"
     ]
    },
    {
     "name": "stdout",
     "output_type": "stream",
     "text": [
      "Saving Successfully\n"
     ]
    }
   ],
   "source": [
    "Exchange_data = get_all_countries_daily_exchange(country_index)"
   ]
  },
  {
   "cell_type": "code",
   "execution_count": 46,
   "metadata": {},
   "outputs": [
    {
     "data": {
      "text/html": [
       "<div>\n",
       "<style scoped>\n",
       "    .dataframe tbody tr th:only-of-type {\n",
       "        vertical-align: middle;\n",
       "    }\n",
       "\n",
       "    .dataframe tbody tr th {\n",
       "        vertical-align: top;\n",
       "    }\n",
       "\n",
       "    .dataframe thead th {\n",
       "        text-align: right;\n",
       "    }\n",
       "</style>\n",
       "<table border=\"1\" class=\"dataframe\">\n",
       "  <thead>\n",
       "    <tr style=\"text-align: right;\">\n",
       "      <th></th>\n",
       "      <th>Unnamed: 0</th>\n",
       "      <th>USDKRW</th>\n",
       "      <th>EURKRW</th>\n",
       "      <th>JPYKRW</th>\n",
       "      <th>CNYKRW</th>\n",
       "      <th>HKDKRW</th>\n",
       "      <th>TWDKRW</th>\n",
       "      <th>GBPKRW</th>\n",
       "      <th>OMRKRW</th>\n",
       "      <th>CADKRW</th>\n",
       "      <th>...</th>\n",
       "      <th>PKRKRW</th>\n",
       "      <th>BDTKRW</th>\n",
       "      <th>PHPKRW</th>\n",
       "      <th>MXNKRW</th>\n",
       "      <th>BRLKRW</th>\n",
       "      <th>VNDKRW</th>\n",
       "      <th>ZARKRW</th>\n",
       "      <th>RUBKRW</th>\n",
       "      <th>HUFKRW</th>\n",
       "      <th>PLNKRW</th>\n",
       "    </tr>\n",
       "  </thead>\n",
       "  <tbody>\n",
       "    <tr>\n",
       "      <th>0</th>\n",
       "      <td>2004.04.12</td>\n",
       "      <td>1141.8</td>\n",
       "      <td>1378.38</td>\n",
       "      <td>1074.13</td>\n",
       "      <td>137.95</td>\n",
       "      <td>146.45</td>\n",
       "      <td>34.86</td>\n",
       "      <td>2092.92</td>\n",
       "      <td>NaN</td>\n",
       "      <td>860.50</td>\n",
       "      <td>...</td>\n",
       "      <td>19.98</td>\n",
       "      <td>19.38</td>\n",
       "      <td>20.32</td>\n",
       "      <td>101.72</td>\n",
       "      <td>397.15</td>\n",
       "      <td>NaN</td>\n",
       "      <td>NaN</td>\n",
       "      <td>NaN</td>\n",
       "      <td>NaN</td>\n",
       "      <td>NaN</td>\n",
       "    </tr>\n",
       "    <tr>\n",
       "      <th>1</th>\n",
       "      <td>2004.04.13</td>\n",
       "      <td>1141.1</td>\n",
       "      <td>1370.23</td>\n",
       "      <td>1082.12</td>\n",
       "      <td>137.86</td>\n",
       "      <td>146.38</td>\n",
       "      <td>34.87</td>\n",
       "      <td>2088.33</td>\n",
       "      <td>NaN</td>\n",
       "      <td>853.73</td>\n",
       "      <td>...</td>\n",
       "      <td>19.86</td>\n",
       "      <td>19.35</td>\n",
       "      <td>20.36</td>\n",
       "      <td>101.60</td>\n",
       "      <td>395.53</td>\n",
       "      <td>NaN</td>\n",
       "      <td>NaN</td>\n",
       "      <td>NaN</td>\n",
       "      <td>NaN</td>\n",
       "      <td>NaN</td>\n",
       "    </tr>\n",
       "    <tr>\n",
       "      <th>2</th>\n",
       "      <td>2004.04.14</td>\n",
       "      <td>1151.3</td>\n",
       "      <td>1375.23</td>\n",
       "      <td>1072.87</td>\n",
       "      <td>139.10</td>\n",
       "      <td>147.67</td>\n",
       "      <td>35.26</td>\n",
       "      <td>2084.66</td>\n",
       "      <td>NaN</td>\n",
       "      <td>862.01</td>\n",
       "      <td>...</td>\n",
       "      <td>20.15</td>\n",
       "      <td>19.61</td>\n",
       "      <td>20.63</td>\n",
       "      <td>102.38</td>\n",
       "      <td>399.34</td>\n",
       "      <td>NaN</td>\n",
       "      <td>NaN</td>\n",
       "      <td>NaN</td>\n",
       "      <td>NaN</td>\n",
       "      <td>NaN</td>\n",
       "    </tr>\n",
       "    <tr>\n",
       "      <th>3</th>\n",
       "      <td>2004.04.16</td>\n",
       "      <td>1160.1</td>\n",
       "      <td>1392.00</td>\n",
       "      <td>1070.20</td>\n",
       "      <td>140.16</td>\n",
       "      <td>148.75</td>\n",
       "      <td>35.23</td>\n",
       "      <td>2080.52</td>\n",
       "      <td>NaN</td>\n",
       "      <td>864.33</td>\n",
       "      <td>...</td>\n",
       "      <td>20.19</td>\n",
       "      <td>19.76</td>\n",
       "      <td>20.79</td>\n",
       "      <td>103.06</td>\n",
       "      <td>399.48</td>\n",
       "      <td>NaN</td>\n",
       "      <td>NaN</td>\n",
       "      <td>NaN</td>\n",
       "      <td>NaN</td>\n",
       "      <td>NaN</td>\n",
       "    </tr>\n",
       "    <tr>\n",
       "      <th>4</th>\n",
       "      <td>2004.04.19</td>\n",
       "      <td>1153.6</td>\n",
       "      <td>1391.47</td>\n",
       "      <td>1069.63</td>\n",
       "      <td>139.38</td>\n",
       "      <td>147.92</td>\n",
       "      <td>35.11</td>\n",
       "      <td>2084.90</td>\n",
       "      <td>NaN</td>\n",
       "      <td>859.23</td>\n",
       "      <td>...</td>\n",
       "      <td>20.47</td>\n",
       "      <td>19.55</td>\n",
       "      <td>20.69</td>\n",
       "      <td>102.45</td>\n",
       "      <td>396.84</td>\n",
       "      <td>NaN</td>\n",
       "      <td>NaN</td>\n",
       "      <td>NaN</td>\n",
       "      <td>NaN</td>\n",
       "      <td>NaN</td>\n",
       "    </tr>\n",
       "    <tr>\n",
       "      <th>5</th>\n",
       "      <td>2004.04.20</td>\n",
       "      <td>1151.4</td>\n",
       "      <td>1374.08</td>\n",
       "      <td>1065.03</td>\n",
       "      <td>139.11</td>\n",
       "      <td>147.63</td>\n",
       "      <td>35.14</td>\n",
       "      <td>2070.22</td>\n",
       "      <td>NaN</td>\n",
       "      <td>853.46</td>\n",
       "      <td>...</td>\n",
       "      <td>20.13</td>\n",
       "      <td>19.61</td>\n",
       "      <td>20.72</td>\n",
       "      <td>102.35</td>\n",
       "      <td>395.40</td>\n",
       "      <td>NaN</td>\n",
       "      <td>NaN</td>\n",
       "      <td>NaN</td>\n",
       "      <td>NaN</td>\n",
       "      <td>NaN</td>\n",
       "    </tr>\n",
       "    <tr>\n",
       "      <th>6</th>\n",
       "      <td>2004.04.21</td>\n",
       "      <td>1154.8</td>\n",
       "      <td>1368.55</td>\n",
       "      <td>1062.18</td>\n",
       "      <td>139.52</td>\n",
       "      <td>148.08</td>\n",
       "      <td>35.18</td>\n",
       "      <td>2055.08</td>\n",
       "      <td>NaN</td>\n",
       "      <td>850.81</td>\n",
       "      <td>...</td>\n",
       "      <td>20.17</td>\n",
       "      <td>19.67</td>\n",
       "      <td>20.76</td>\n",
       "      <td>101.86</td>\n",
       "      <td>395.61</td>\n",
       "      <td>NaN</td>\n",
       "      <td>NaN</td>\n",
       "      <td>NaN</td>\n",
       "      <td>NaN</td>\n",
       "      <td>NaN</td>\n",
       "    </tr>\n",
       "    <tr>\n",
       "      <th>7</th>\n",
       "      <td>2004.04.22</td>\n",
       "      <td>1159.7</td>\n",
       "      <td>1369.49</td>\n",
       "      <td>1059.18</td>\n",
       "      <td>140.11</td>\n",
       "      <td>148.69</td>\n",
       "      <td>35.28</td>\n",
       "      <td>2049.42</td>\n",
       "      <td>NaN</td>\n",
       "      <td>851.84</td>\n",
       "      <td>...</td>\n",
       "      <td>20.27</td>\n",
       "      <td>19.72</td>\n",
       "      <td>20.80</td>\n",
       "      <td>102.67</td>\n",
       "      <td>396.28</td>\n",
       "      <td>NaN</td>\n",
       "      <td>NaN</td>\n",
       "      <td>NaN</td>\n",
       "      <td>NaN</td>\n",
       "      <td>NaN</td>\n",
       "    </tr>\n",
       "    <tr>\n",
       "      <th>8</th>\n",
       "      <td>2004.04.23</td>\n",
       "      <td>1158.3</td>\n",
       "      <td>1380.00</td>\n",
       "      <td>1058.58</td>\n",
       "      <td>139.94</td>\n",
       "      <td>148.51</td>\n",
       "      <td>35.15</td>\n",
       "      <td>2054.94</td>\n",
       "      <td>NaN</td>\n",
       "      <td>855.09</td>\n",
       "      <td>...</td>\n",
       "      <td>20.21</td>\n",
       "      <td>19.68</td>\n",
       "      <td>20.77</td>\n",
       "      <td>102.10</td>\n",
       "      <td>395.73</td>\n",
       "      <td>NaN</td>\n",
       "      <td>NaN</td>\n",
       "      <td>NaN</td>\n",
       "      <td>NaN</td>\n",
       "      <td>NaN</td>\n",
       "    </tr>\n",
       "    <tr>\n",
       "      <th>9</th>\n",
       "      <td>2004.04.26</td>\n",
       "      <td>1155.0</td>\n",
       "      <td>1363.59</td>\n",
       "      <td>1058.27</td>\n",
       "      <td>139.54</td>\n",
       "      <td>148.08</td>\n",
       "      <td>35.07</td>\n",
       "      <td>2048.74</td>\n",
       "      <td>NaN</td>\n",
       "      <td>849.95</td>\n",
       "      <td>...</td>\n",
       "      <td>20.15</td>\n",
       "      <td>19.56</td>\n",
       "      <td>20.73</td>\n",
       "      <td>101.99</td>\n",
       "      <td>396.63</td>\n",
       "      <td>NaN</td>\n",
       "      <td>NaN</td>\n",
       "      <td>NaN</td>\n",
       "      <td>NaN</td>\n",
       "      <td>NaN</td>\n",
       "    </tr>\n",
       "  </tbody>\n",
       "</table>\n",
       "<p>10 rows × 45 columns</p>\n",
       "</div>"
      ],
      "text/plain": [
       "   Unnamed: 0  USDKRW   EURKRW   JPYKRW  CNYKRW  HKDKRW  TWDKRW   GBPKRW  \\\n",
       "0  2004.04.12  1141.8  1378.38  1074.13  137.95  146.45   34.86  2092.92   \n",
       "1  2004.04.13  1141.1  1370.23  1082.12  137.86  146.38   34.87  2088.33   \n",
       "2  2004.04.14  1151.3  1375.23  1072.87  139.10  147.67   35.26  2084.66   \n",
       "3  2004.04.16  1160.1  1392.00  1070.20  140.16  148.75   35.23  2080.52   \n",
       "4  2004.04.19  1153.6  1391.47  1069.63  139.38  147.92   35.11  2084.90   \n",
       "5  2004.04.20  1151.4  1374.08  1065.03  139.11  147.63   35.14  2070.22   \n",
       "6  2004.04.21  1154.8  1368.55  1062.18  139.52  148.08   35.18  2055.08   \n",
       "7  2004.04.22  1159.7  1369.49  1059.18  140.11  148.69   35.28  2049.42   \n",
       "8  2004.04.23  1158.3  1380.00  1058.58  139.94  148.51   35.15  2054.94   \n",
       "9  2004.04.26  1155.0  1363.59  1058.27  139.54  148.08   35.07  2048.74   \n",
       "\n",
       "   OMRKRW  CADKRW  ...  PKRKRW  BDTKRW  PHPKRW  MXNKRW  BRLKRW  VNDKRW  \\\n",
       "0     NaN  860.50  ...   19.98   19.38   20.32  101.72  397.15     NaN   \n",
       "1     NaN  853.73  ...   19.86   19.35   20.36  101.60  395.53     NaN   \n",
       "2     NaN  862.01  ...   20.15   19.61   20.63  102.38  399.34     NaN   \n",
       "3     NaN  864.33  ...   20.19   19.76   20.79  103.06  399.48     NaN   \n",
       "4     NaN  859.23  ...   20.47   19.55   20.69  102.45  396.84     NaN   \n",
       "5     NaN  853.46  ...   20.13   19.61   20.72  102.35  395.40     NaN   \n",
       "6     NaN  850.81  ...   20.17   19.67   20.76  101.86  395.61     NaN   \n",
       "7     NaN  851.84  ...   20.27   19.72   20.80  102.67  396.28     NaN   \n",
       "8     NaN  855.09  ...   20.21   19.68   20.77  102.10  395.73     NaN   \n",
       "9     NaN  849.95  ...   20.15   19.56   20.73  101.99  396.63     NaN   \n",
       "\n",
       "   ZARKRW  RUBKRW  HUFKRW  PLNKRW  \n",
       "0     NaN     NaN     NaN     NaN  \n",
       "1     NaN     NaN     NaN     NaN  \n",
       "2     NaN     NaN     NaN     NaN  \n",
       "3     NaN     NaN     NaN     NaN  \n",
       "4     NaN     NaN     NaN     NaN  \n",
       "5     NaN     NaN     NaN     NaN  \n",
       "6     NaN     NaN     NaN     NaN  \n",
       "7     NaN     NaN     NaN     NaN  \n",
       "8     NaN     NaN     NaN     NaN  \n",
       "9     NaN     NaN     NaN     NaN  \n",
       "\n",
       "[10 rows x 45 columns]"
      ]
     },
     "execution_count": 46,
     "metadata": {},
     "output_type": "execute_result"
    }
   ],
   "source": [
    "df = pd.read_excel(\"all_countries_exchange.xlsx\" , engine=\"openpyxl\" )\n",
    "df.head(10)"
   ]
  },
  {
   "cell_type": "code",
   "execution_count": 77,
   "metadata": {},
   "outputs": [],
   "source": [
    "import matplotlib.pyplot as plt\n",
    "\n",
    "\n",
    "# 파일 경로를 입력받아 그래프 출력/저장\n",
    "def draw_graph(country_list , normalization = True , **option):\n",
    "    \n",
    "    df = pd.read_excel(\"all_countries_exchange.xlsx\" , engine = \"openpyxl\" , index_col= 0)\n",
    "    \n",
    "    if option.get(\"start_date\"): start_date = start_date\n",
    "    else: start_date = 0\n",
    "    \n",
    "    if option.get(\"end_date\"): end_date = end_date\n",
    "    else: end_date = -1\n",
    "        \n",
    "    if option.get(\"normalization\"):\n",
    "        normalization = \"True\"\n",
    "        \n",
    "    # 한글 폰트 문제\n",
    "    fn_name = font_manager.FontProperties(fname='c:/Windows/Fonts/malgun.ttf').get_name()\n",
    "    rc('font',family=fn_name)\n",
    "    plt.figure(figsize=(16,6))\n",
    "    \n",
    "    \n",
    "\n",
    "    \n",
    "    for country in country_list:\n",
    "        x_df = df.index[start_date : end_date]\n",
    "        y_df = df.loc[x_df][country]\n",
    "        \n",
    "        # 정규분포화 \n",
    "        if normalization:\n",
    "            nor_y_df = (y_df - y_df.mean())/y_df.std()\n",
    "            plt.plot(x_df , nor_y_df , label = country)\n",
    "        else: plt.plot(x_df , y_df , label = country)\n",
    "     \n",
    "    \n",
    "    xticks = []\n",
    "    len_xticks = 10\n",
    "    for i in range(len(df.index[start_date : end_date])):\n",
    "        num_divide = int(len(df)/len_xticks)\n",
    "        if i%num_divide == 0:\n",
    "            xticks.append(df.index[i])\n",
    "    xticks.append(df.index[-1])\n",
    "    plt.xticks(xticks)\n",
    "    \n",
    "    plt.xlabel(\"기준년월일\")\n",
    "    plt.ylabel(\"환율 (매매가기준)\")\n",
    "    plt.legend()\n",
    "    \n",
    "    \n",
    "    \n"
   ]
  },
  {
   "cell_type": "code",
   "execution_count": 78,
   "metadata": {},
   "outputs": [
    {
     "name": "stderr",
     "output_type": "stream",
     "text": [
      "C:\\Users\\Ando\\AppData\\Local\\Continuum\\anaconda3\\lib\\site-packages\\matplotlib\\backends\\backend_agg.py:238: RuntimeWarning: Glyph 8722 missing from current font.\n",
      "  font.set_text(s, 0.0, flags=flags)\n",
      "C:\\Users\\Ando\\AppData\\Local\\Continuum\\anaconda3\\lib\\site-packages\\matplotlib\\backends\\backend_agg.py:201: RuntimeWarning: Glyph 8722 missing from current font.\n",
      "  font.set_text(s, 0, flags=flags)\n"
     ]
    },
    {
     "data": {
      "image/png": "[encoded data removed]",
      "text/plain": [
       "<Figure size 1152x432 with 1 Axes>"
      ]
     },
     "metadata": {
      "needs_background": "light"
     },
     "output_type": "display_data"
    }
   ],
   "source": [
    "country_list = [\"USDKRW\" , \"CNYKRW\" ,\"GBPKRW\"]\n",
    "\n",
    "draw_graph(country_list)"
   ]
  },
  {
   "cell_type": "code",
   "execution_count": null,
   "metadata": {},
   "outputs": [],
   "source": []
  },
  {
   "cell_type": "code",
   "execution_count": 60,
   "metadata": {},
   "outputs": [],
   "source": [
    "df = pd.read_excel(\"all_countries_exchange.xlsx\" , engine = \"openpyxl\")"
   ]
  },
  {
   "cell_type": "code",
   "execution_count": 54,
   "metadata": {},
   "outputs": [
    {
     "data": {
      "text/html": [
       "<div>\n",
       "<style scoped>\n",
       "    .dataframe tbody tr th:only-of-type {\n",
       "        vertical-align: middle;\n",
       "    }\n",
       "\n",
       "    .dataframe tbody tr th {\n",
       "        vertical-align: top;\n",
       "    }\n",
       "\n",
       "    .dataframe thead th {\n",
       "        text-align: right;\n",
       "    }\n",
       "</style>\n",
       "<table border=\"1\" class=\"dataframe\">\n",
       "  <thead>\n",
       "    <tr style=\"text-align: right;\">\n",
       "      <th></th>\n",
       "      <th>name</th>\n",
       "      <th>name2</th>\n",
       "    </tr>\n",
       "  </thead>\n",
       "  <tbody>\n",
       "    <tr>\n",
       "      <th>1</th>\n",
       "      <td>1.0</td>\n",
       "      <td>4.0</td>\n",
       "    </tr>\n",
       "    <tr>\n",
       "      <th>2</th>\n",
       "      <td>2.0</td>\n",
       "      <td>NaN</td>\n",
       "    </tr>\n",
       "    <tr>\n",
       "      <th>3</th>\n",
       "      <td>3.0</td>\n",
       "      <td>3.0</td>\n",
       "    </tr>\n",
       "    <tr>\n",
       "      <th>5</th>\n",
       "      <td>NaN</td>\n",
       "      <td>5.0</td>\n",
       "    </tr>\n",
       "  </tbody>\n",
       "</table>\n",
       "</div>"
      ],
      "text/plain": [
       "   name  name2\n",
       "1   1.0    4.0\n",
       "2   2.0    NaN\n",
       "3   3.0    3.0\n",
       "5   NaN    5.0"
      ]
     },
     "execution_count": 54,
     "metadata": {},
     "output_type": "execute_result"
    }
   ],
   "source": [
    "\n",
    "\n",
    "df = pd.DataFrame({\"name\" : [1,2,3] } , index = [1,2,3])\n",
    "df2 = pd.DataFrame({\"name2\" : [4,5,3] } , index = [1,5,3])\n",
    "\n",
    "df3 = pd.merge(df , df2 , left_index = True , right_index = True , how = \"outer\")\n",
    "df3"
   ]
  },
  {
   "cell_type": "code",
   "execution_count": null,
   "metadata": {},
   "outputs": [],
   "source": [
    "import time\n",
    "start = time.time()\n",
    "from tqdm.notebook import tqdm\n",
    "\n",
    "country_index\n",
    "link_lst\n",
    "\n",
    "# 한 국가에 대해서 테스트 중인데 상당히 오래걸린다 , 아마 Selenium을 써야할 듯하다\n",
    "\n",
    "df = pd.DataFrame( [] , columns=country_index)\n",
    "\n",
    "# 전체 국가에 대해서\n",
    "date_index = []\n",
    "for i,link in tqdm(enumerate(link_lst)):\n",
    "    country_exchange = []\n",
    "    \n",
    "    page = 1\n",
    "    maxpage = 2\n",
    "    \n",
    "    if i > 8:\n",
    "        break\n",
    "        \n",
    "    # 한 나라에 대해서\n",
    "    while(True):\n",
    "        html = urlopen(link + \"&page=\" + str(page))\n",
    "        bs = BeautifulSoup(html, \"html.parser\")\n",
    "        bs_select =bs.select(\"table.tbl_exchange.today tbody tr\")\n",
    "        if not len(bs_select): break\n",
    "\n",
    "        # 페이지 스크래핑 \n",
    "        for bs_sub in bs_select:\n",
    "            bs_sub2 = bs_sub.select(\"td\")\n",
    "            date = bs_sub2[0].get_text()\n",
    "            exchange = float(bs_sub2[1].get_text().replace(\",\" , \"\"))\n",
    "            if len(date_index) <= len(country_exchange):\n",
    "                date_index.append(date)\n",
    "            country_exchange.append(exchange)\n",
    "        page += 1\n",
    "  \n",
    "    if len(df[country_index[0]]) == 0:\n",
    "        df[country_index[i]] = country_exchange\n",
    "    else:\n",
    "        df[country_index[i]][0:len(country_exchange)] = country_exchange\n",
    "\n",
    "df.index = date_index\n",
    "df.to_excel(\"Total_exchange.xlsx\")\n",
    "   \n",
    "    \n",
    "print(\" 실행 시간 : \" + time.time()-start + \"  초\")\n"
   ]
  },
  {
   "cell_type": "code",
   "execution_count": null,
   "metadata": {},
   "outputs": [],
   "source": [
    "\n",
    "lst = [[1,2,3],[4,5,6],[7,8,9]]\n",
    "df = pd.DataFrame(lst)\n",
    "df.columns = [\"first\" , \"second\" , \"third\"]\n",
    "df[\"second\"][:2] = [4,1]"
   ]
  },
  {
   "cell_type": "code",
   "execution_count": null,
   "metadata": {},
   "outputs": [],
   "source": [
    "lst = []\n",
    "df = pd.DataFrame(lst)\n",
    "df.columns = [\"first\" , \"second\" , \"third\"]"
   ]
  },
  {
   "cell_type": "code",
   "execution_count": null,
   "metadata": {},
   "outputs": [],
   "source": [
    "df = pd.DataFrame( [] , columns=country_index)\n",
    "lst = [1,2,3]\n",
    "len(df[\"USDKRW\"])\n"
   ]
  },
  {
   "cell_type": "code",
   "execution_count": null,
   "metadata": {},
   "outputs": [],
   "source": [
    "df[\"EURKRW\"][1:3] = [4,1]\n",
    "df"
   ]
  },
  {
   "cell_type": "code",
   "execution_count": null,
   "metadata": {},
   "outputs": [],
   "source": [
    "\n",
    "html = urlopen('https://finance.naver.com/item/main.nhn?code=005930')\n",
    "bsObject = BeautifulSoup(html, \"html.parser\")\n",
    "\n",
    "meta_data = []\n",
    "\n",
    "\n",
    "bs = bsObject.select(\"dl.blind dd\")\n",
    "print(bs)\n",
    "for cover in bsObject.find_all('dl' , {\"class\" : \"blind\"}):\n",
    "    print(cover)\n",
    "    data = []\n",
    "    for cover2 in cover.find_all('dd'):\n",
    "        data.append(cover2.get_text())\n",
    "        print(\"//\")\n",
    "        print(cover2)\n",
    "    meta_data.append(data)\n",
    "print(meta_data)"
   ]
  },
  {
   "cell_type": "code",
   "execution_count": null,
   "metadata": {},
   "outputs": [],
   "source": [
    "\n",
    "driver = webdriver.Chrome(\"./chromedriver.exe\")\n",
    "driver.get(\"https://finance.naver.com/item/sise_day.nhn?code=035720\")\n",
    "driver.page_source\n",
    "a = driver.find_elements_by_css_selector(\"span.tah.p10.gray03\")\n",
    "b = driver.find_elements_by_css_selector(\"span.tah.p11\")\n"
   ]
  },
  {
   "cell_type": "code",
   "execution_count": null,
   "metadata": {},
   "outputs": [],
   "source": [
    "a"
   ]
  },
  {
   "cell_type": "code",
   "execution_count": null,
   "metadata": {},
   "outputs": [],
   "source": [
    "\n",
    "## Time.sleep 안해도 잘되네..?? 인스타그램은 사진이라 그런가\n",
    "\n",
    "driver = webdriver.Chrome(\"./chromedriver.exe\")\n",
    "\n",
    "prices = []\n",
    "date = []\n",
    "\n",
    "for page in range(1,11):\n",
    "    url = \"https://finance.naver.com/item/sise_day.nhn?code=035720\" + \"&page=\" + str(page)\n",
    "    driver.get(url)\n",
    "    date_sel = driver.find_elements_by_css_selector(\"span.tah.p10.gray03\")\n",
    "    price_sel= driver.find_elements_by_css_selector(\"span.tah.p11\")\n",
    "    for d in date_sel:\n",
    "        date.append(d.text)\n",
    "\n",
    "    for i,p in enumerate(price_sel):\n",
    "        if i% 6 == 0:\n",
    "            prices.append(int(p.text.replace(\",\",\"\")))\n",
    "            \n",
    "df = pd.DataFrame({\"price (종가)\" : prices})\n",
    "df.index = date\n",
    "plt.plot(df[\"price (종가)\"].values)"
   ]
  },
  {
   "cell_type": "code",
   "execution_count": null,
   "metadata": {},
   "outputs": [],
   "source": [
    "import matplotlib.pyplot as plt\n",
    "plt.plot(df[\"price (종가)\"].values)\n",
    "df[\"price (종가)\"]"
   ]
  },
  {
   "cell_type": "code",
   "execution_count": null,
   "metadata": {},
   "outputs": [],
   "source": [
    "plt.plot(df[\"price (종가)\"].values[0:10])"
   ]
  },
  {
   "cell_type": "code",
   "execution_count": null,
   "metadata": {},
   "outputs": [],
   "source": [
    "from matplotlib import font_manager , rc\n",
    "import platform\n",
    "\n",
    "# matplot 에서 한글 폰트 사용\n",
    "if platform.system() == \"Windows\":\n",
    "    path =  \"c:/Windows/Fonts/malgun.ttf\"\n",
    "    font_name = font_manager.FontProperties(fname=path).get_name()\n",
    "    rc('font' , family =  font_name)\n",
    "\n",
    "xticks = []\n",
    "for i in range(len(df)):\n",
    "    num_divide = 10\n",
    "    if i%10 == 0:\n",
    "        xticks.append(df.index[i])\n",
    "plt.xticks(xticks)\n",
    "\n",
    "# 좀 더 그럴듯하게 그려보기\n",
    "plt.figure(figsize=(12,4))\n",
    "plt.plot(df.index , df[\"price (종가)\"])\n",
    "plt.title(\"주식 가격 그래프\")\n",
    "plt.xlabel(\"기준 년월\")\n",
    "plt.ylabel(\"주식 가격 (종가 기준)\")\n",
    "\n",
    "plt.show()"
   ]
  },
  {
   "cell_type": "code",
   "execution_count": null,
   "metadata": {},
   "outputs": [],
   "source": [
    "\n",
    "\n",
    "def get_stock_prices(code_number):\n",
    "\n",
    "    driver = webdriver.Chrome(\"./chromedriver.exe\")\n",
    "    url = \"https://finance.naver.com/item/main.nhn?code=\" + code_number\n",
    "    driver.get(url)\n",
    "    if driver.find_elements_by_css_selector(\"div.error_content\"):\n",
    "        print(\"잘못된 코드번호 입니다\")\n",
    "        return\n",
    "    \n",
    "    stock_name = driver.find_element_by_css_selector(\"div.wrap_company a\").text\n",
    "    print(\"코드 종목 : {} / 코드 번호 : {}\".format(stock_name , code_number))\n",
    "    \n",
    "    \n",
    "    # 스크래핑\n",
    "    page = 0\n",
    "    prices = []\n",
    "    date = []\n",
    "    pv_date = \"\"\n",
    "    while(1):\n",
    "        page += 1\n",
    "        url = \"https://finance.naver.com/item/sise_day.nhn?code=\" + code_number + \"&page=\" + str(page)\n",
    "        driver.get(url)\n",
    "        date_sel = driver.find_elements_by_css_selector(\"span.tah.p10.gray03\")\n",
    "        price_sel= driver.find_elements_by_css_selector(\"span.tah.p11\")\n",
    "\n",
    "        now_date = date_sel[0].text\n",
    "        if pv_date == now_date: break\n",
    "        else:\n",
    "            pv_date = now_date\n",
    "        for d in date_sel:\n",
    "            date.append(d.text)\n",
    "\n",
    "        for i,p in enumerate(price_sel):\n",
    "            if i% 6 == 0:\n",
    "                prices.append(int(p.text.replace(\",\",\"\")))\n",
    "    prices.reverse()\n",
    "    df = pd.DataFrame({\"price(종가)\" : prices})\n",
    "    df.index = date\n",
    "    save_name = stock_name + \" stock price.xlsx\"\n",
    "    df.to_excel(save_name , engine=\"openpyxl\")\n",
    "    print(\"Succesful Saving\")            \n",
    "    return\n",
    "\n",
    "\n",
    "get_stock_prices(\"035720\")      \n"
   ]
  },
  {
   "cell_type": "code",
   "execution_count": null,
   "metadata": {},
   "outputs": [],
   "source": [
    "code_number = \"005930\"\n",
    "driver = webdriver.Chrome(\"./chromedriver.exe\")\n",
    "url = \"https://finance.naver.com/item/sise_day.nhn?code=035720&page=1000\"\n",
    "driver.get(url)\n",
    "\n",
    "page = 500\n",
    "prices = []\n",
    "date = []\n",
    "\n",
    "pv_date = \"\"\n",
    "while(1):\n",
    "    page += 1\n",
    "    url = \"https://finance.naver.com/item/sise_day.nhn?code=\" + code_number + \"&page=\" + str(page)\n",
    "    driver.get(url)\n",
    "    date_sel = driver.find_elements_by_css_selector(\"span.tah.p10.gray03\")\n",
    "    price_sel= driver.find_elements_by_css_selector(\"span.tah.p11\")\n",
    "    \n",
    "    now_date = date_sel[0].text\n",
    "    if pv_date == now_date: break\n",
    "    else:\n",
    "        pv_date = now_date\n",
    "    for d in date_sel:\n",
    "        date.append(d.text)\n",
    "\n",
    "    for i,p in enumerate(price_sel):\n",
    "        if i% 6 == 0:\n",
    "            prices.append(int(p.text.replace(\",\",\"\")))\n",
    "            \n",
    "\n",
    "df = pd.DataFrame({\"price(종가)\" : prices})\n",
    "df.index = date\n",
    "\n",
    "df\n"
   ]
  },
  {
   "cell_type": "code",
   "execution_count": null,
   "metadata": {},
   "outputs": [],
   "source": [
    "a = [1,3,5]\n",
    "a.reverse()\n",
    "a"
   ]
  },
  {
   "cell_type": "code",
   "execution_count": null,
   "metadata": {},
   "outputs": [],
   "source": []
  },
  {
   "cell_type": "code",
   "execution_count": null,
   "metadata": {},
   "outputs": [],
   "source": [
    "    prices = []\n",
    "    date = []\n",
    "\n",
    "    for page in range(1,11):\n",
    "        url = \"https://finance.naver.com/item/sise_day.nhn?code=035720\" + \"&page=\" + str(page)\n",
    "        driver.get(url)\n",
    "        date_sel = driver.find_elements_by_css_selector(\"span.tah.p10.gray03\")\n",
    "        price_sel= driver.find_elements_by_css_selector(\"span.tah.p11\")\n",
    "        for d in date_sel:\n",
    "            date.append(d.text)\n",
    "\n",
    "        for i,p in enumerate(price_sel):\n",
    "            if i% 6 == 0:\n",
    "                prices.append(int(p.text.replace(\",\",\"\")))\n",
    "            \n",
    "df = pd.DataFrame({\"price (종가)\" : prices})\n",
    "df.index = date\n",
    "plt.plot(df[\"price (종가)\"].values)"
   ]
  },
  {
   "cell_type": "code",
   "execution_count": null,
   "metadata": {},
   "outputs": [],
   "source": [
    "df.index\n",
    "len(df)"
   ]
  },
  {
   "cell_type": "code",
   "execution_count": null,
   "metadata": {},
   "outputs": [],
   "source": [
    "html = urlopen('https://finance.naver.com/marketindex/exchangeDailyQuote.nhn?marketindexCd=FX_USDKRW')\n",
    "bsObject = BeautifulSoup(html, \"lxml\")\n",
    "print(bsObject)\n"
   ]
  },
  {
   "cell_type": "code",
   "execution_count": null,
   "metadata": {},
   "outputs": [],
   "source": [
    "bs = bsObject.select(\"table\")\n",
    "bs"
   ]
  },
  {
   "cell_type": "code",
   "execution_count": null,
   "metadata": {},
   "outputs": [],
   "source": [
    "bs1"
   ]
  },
  {
   "cell_type": "code",
   "execution_count": null,
   "metadata": {},
   "outputs": [],
   "source": [
    "def get_stock_prices(code_number):\n",
    "\n",
    "    driver = webdriver.Chrome(\"./chromedriver.exe\")\n",
    "    url = \"https://finance.naver.com/item/main.nhn?code=\" + code_number\n",
    "    driver.get(url)\n",
    "    if driver.find_elements_by_css_selector(\"div.error_content\"):\n",
    "        print(\"잘못된 코드번호 입니다\")\n",
    "        return\n",
    "    \n",
    "    stock_name = driver.find_element_by_css_selector(\"div.wrap_company a\").text\n",
    "    print(\"코드 종목 : {} / 코드 번호 : {}\".format(stock_name , code_number))"
   ]
  },
  {
   "cell_type": "code",
   "execution_count": null,
   "metadata": {},
   "outputs": [],
   "source": [
    "get_stock_prices(\"000000\")"
   ]
  },
  {
   "cell_type": "code",
   "execution_count": null,
   "metadata": {},
   "outputs": [],
   "source": [
    "get_stock_prices(\"005930\")"
   ]
  },
  {
   "cell_type": "code",
   "execution_count": null,
   "metadata": {},
   "outputs": [],
   "source": [
    "\n",
    "# 파일 경로를 입력받아 그래프 출력/저장\n",
    "def draw_graph(savefile = \"\"):\n",
    "    \n",
    "    # 로드\n",
    "    df = pd.read_xlsx(savefile)\n",
    "    \n",
    "    # matplot 에서 한글 폰트 사용\n",
    "    if platform.system() == \"Windows\":\n",
    "        path =  \"c:/Windows/Fonts/malgun.ttf\"\n",
    "        font_name = font_manager.FontProperties(fname=path).get_name()\n",
    "        rc('font' , family =  font_name)\n",
    "\n",
    "    xticks = []\n",
    "    for i in range(len(df)):\n",
    "        num_divide = 10\n",
    "        if i%10 == 0:\n",
    "            xticks.append(df.index[i])\n",
    "    plt.xticks(xticks)\n",
    "\n",
    "    # 좀 더 그럴듯하게 그려보기\n",
    "    plt.figure(figsize=(12,4))\n",
    "    plt.plot(df.index , df[\"price (종가)\"])\n",
    "    plt.title(\"주식 가격 그래프\")\n",
    "    plt.xlabel(\"기준 년월\")\n",
    "    plt.ylabel(\"주식 가격 (종가 기준)\")\n",
    "\n",
    "    plt.show()\n",
    "    plt.savefile(\".png\")"
   ]
  },
  {
   "cell_type": "code",
   "execution_count": null,
   "metadata": {},
   "outputs": [],
   "source": [
    "\n",
    "df = pd.read_xlsx(savefile)\n",
    "df[-1]"
   ]
  }
 ],
 "metadata": {
  "kernelspec": {
   "display_name": "Python 3",
   "language": "python",
   "name": "python3"
  },
  "language_info": {
   "codemirror_mode": {
    "name": "ipython",
    "version": 3
   },
   "file_extension": ".py",
   "mimetype": "text/x-python",
   "name": "python",
   "nbconvert_exporter": "python",
   "pygments_lexer": "ipython3",
   "version": "3.7.3"
  }
 },
 "nbformat": 4,
 "nbformat_minor": 4
}
